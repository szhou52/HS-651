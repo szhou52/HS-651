{
  "cells": [
    {
      "cell_type": "markdown",
      "metadata": {
        "id": "view-in-github",
        "colab_type": "text"
      },
      "source": [
        "<a href=\"https://colab.research.google.com/github/szhou52/HS-651/blob/main/Copy_of_30_day_readmission_Bert_sentence_prediction.ipynb\" target=\"_parent\"><img src=\"https://colab.research.google.com/assets/colab-badge.svg\" alt=\"Open In Colab\"/></a>"
      ]
    },
    {
      "cell_type": "code",
      "source": [
        "!pip install pyspark==3.1.3 spark-nlp==3.4.2"
      ],
      "metadata": {
        "colab": {
          "base_uri": "https://localhost:8080/"
        },
        "id": "AedXzyzibxlq",
        "outputId": "6118a60d-b7a7-4760-d1f7-408de14cbfa1"
      },
      "id": "AedXzyzibxlq",
      "execution_count": 1,
      "outputs": [
        {
          "output_type": "stream",
          "name": "stdout",
          "text": [
            "Collecting pyspark==3.1.3\n",
            "  Downloading pyspark-3.1.3.tar.gz (214.0 MB)\n",
            "\u001b[K     |████████████████████████████████| 214.0 MB 8.5 kB/s \n",
            "\u001b[?25hCollecting spark-nlp==3.4.2\n",
            "  Downloading spark_nlp-3.4.2-py2.py3-none-any.whl (142 kB)\n",
            "\u001b[K     |████████████████████████████████| 142 kB 80.4 MB/s \n",
            "\u001b[?25hCollecting py4j==0.10.9\n",
            "  Downloading py4j-0.10.9-py2.py3-none-any.whl (198 kB)\n",
            "\u001b[K     |████████████████████████████████| 198 kB 75.7 MB/s \n",
            "\u001b[?25hBuilding wheels for collected packages: pyspark\n",
            "  Building wheel for pyspark (setup.py) ... \u001b[?25l\u001b[?25hdone\n",
            "  Created wheel for pyspark: filename=pyspark-3.1.3-py2.py3-none-any.whl size=214463484 sha256=e5c39340c86064f635e5f85e7af56c032791e37c4caf55370ff04ec0f805a7e2\n",
            "  Stored in directory: /root/.cache/pip/wheels/ad/8e/49/44c110bb8e008d0778c6577d600d46047c6478ecca3f8f1517\n",
            "Successfully built pyspark\n",
            "Installing collected packages: py4j, spark-nlp, pyspark\n",
            "Successfully installed py4j-0.10.9 pyspark-3.1.3 spark-nlp-3.4.2\n"
          ]
        }
      ]
    },
    {
      "cell_type": "code",
      "source": [
        "import sparknlp\n",
        "\n",
        "spark = sparknlp.start(gpu=True)\n",
        "\n",
        "print(\"Spark NLP version: \", sparknlp.version())\n",
        "print(\"Apache Spark version: \", spark.version)\n",
        "\n",
        "spark"
      ],
      "metadata": {
        "colab": {
          "base_uri": "https://localhost:8080/",
          "height": 254
        },
        "id": "PWSf0LiMOkO1",
        "outputId": "e5646ffc-df6d-44f5-a83e-80182fd32eaf"
      },
      "id": "PWSf0LiMOkO1",
      "execution_count": 2,
      "outputs": [
        {
          "output_type": "stream",
          "name": "stdout",
          "text": [
            "Spark NLP version:  3.4.2\n",
            "Apache Spark version:  3.1.3\n"
          ]
        },
        {
          "output_type": "execute_result",
          "data": {
            "text/plain": [
              "<pyspark.sql.session.SparkSession at 0x7f8351c42490>"
            ],
            "text/html": [
              "\n",
              "            <div>\n",
              "                <p><b>SparkSession - in-memory</b></p>\n",
              "                \n",
              "        <div>\n",
              "            <p><b>SparkContext</b></p>\n",
              "\n",
              "            <p><a href=\"http://427336908f07:4040\">Spark UI</a></p>\n",
              "\n",
              "            <dl>\n",
              "              <dt>Version</dt>\n",
              "                <dd><code>v3.1.3</code></dd>\n",
              "              <dt>Master</dt>\n",
              "                <dd><code>local[*]</code></dd>\n",
              "              <dt>AppName</dt>\n",
              "                <dd><code>Spark NLP</code></dd>\n",
              "            </dl>\n",
              "        </div>\n",
              "        \n",
              "            </div>\n",
              "        "
            ]
          },
          "metadata": {},
          "execution_count": 2
        }
      ]
    },
    {
      "cell_type": "code",
      "execution_count": 3,
      "id": "213e16db",
      "metadata": {
        "id": "213e16db"
      },
      "outputs": [],
      "source": [
        "import sys\n",
        "\n",
        "from pyspark.sql import SparkSession\n",
        "from pyspark.ml import Pipeline\n",
        "\n",
        "from sparknlp.annotator import *\n",
        "from sparknlp.common import *\n",
        "from sparknlp.base import *"
      ]
    },
    {
      "cell_type": "code",
      "execution_count": 4,
      "id": "da4e6ed0",
      "metadata": {
        "id": "da4e6ed0"
      },
      "outputs": [],
      "source": [
        "from pyspark.ml.feature import SQLTransformer\n",
        "from pyspark.ml.feature import StringIndexer"
      ]
    },
    {
      "cell_type": "code",
      "execution_count": 1,
      "id": "6dcee4dd",
      "metadata": {
        "id": "6dcee4dd"
      },
      "outputs": [],
      "source": [
        "import pandas as pd\n",
        "import numpy as np"
      ]
    },
    {
      "cell_type": "code",
      "source": [
        "from google.colab import drive\n",
        "drive.mount('/content/gdrive')"
      ],
      "metadata": {
        "colab": {
          "base_uri": "https://localhost:8080/"
        },
        "id": "TepN6sxDc_M-",
        "outputId": "544983c2-865f-448a-f95a-2c93f0ae96d4"
      },
      "id": "TepN6sxDc_M-",
      "execution_count": 2,
      "outputs": [
        {
          "output_type": "stream",
          "name": "stdout",
          "text": [
            "Mounted at /content/gdrive\n"
          ]
        }
      ]
    },
    {
      "cell_type": "code",
      "source": [
        "readmission_dir=pd.read_csv('gdrive/MyDrive/Colab_notebook/df_adm_dis_sum_not_cleaned.csv')"
      ],
      "metadata": {
        "id": "NwFoW7A4dzcv"
      },
      "id": "NwFoW7A4dzcv",
      "execution_count": 7,
      "outputs": []
    },
    {
      "cell_type": "code",
      "execution_count": null,
      "id": "a7f4f021",
      "metadata": {
        "id": "a7f4f021",
        "outputId": "bfd20dd8-c397-4a8d-f2d3-22f1e89d1624",
        "colab": {
          "base_uri": "https://localhost:8080/",
          "height": 139
        }
      },
      "outputs": [
        {
          "output_type": "execute_result",
          "data": {
            "text/plain": [
              "\"Admission Date:  [**2101-10-20**]     Discharge Date:  [**2101-10-31**]\\n\\nDate of Birth:   [**2025-4-11**]     Sex:  M\\n\\nService:  Medicine\\n\\nCHIEF COMPLAINT:  Admitted from rehabilitation for\\nhypotension (systolic blood pressure to the 70s) and\\ndecreased urine output.\\n\\nHISTORY OF PRESENT ILLNESS:  The patient is a 76-year-old\\nmale who had been hospitalized at the [**Hospital1 190**] from [**10-11**] through [**10-19**] of [**2101**]\\nafter undergoing a left femoral-AT bypass graft and was\\nsubsequently discharged to a rehabilitation facility.\\n\\nOn [**2101-10-20**], he presented again to the [**Hospital1 346**] after being found to have a systolic\\nblood pressure in the 70s and no urine output for 17 hours.\\nA Foley catheter placed at the rehabilitation facility\\nyielded 100 cc of murky/brown urine.  There may also have\\nbeen purulent discharge at the penile meatus at this time.\\n\\nOn presentation to the Emergency Department, the patient was\\nwithout subjective complaints.  In the Emergency Department,\\nhe was found to have systolic blood pressure of 85.  He was\\ngiven 6 liters of intravenous fluids and transiently started\\non dopamine for a systolic blood pressure in the 80.s\\n\\nPAST MEDICAL HISTORY:\\n 1.  Coronary artery disease with diffuse 3-vessel disease;\\nright-dominant, status post proximal left circumflex stent in\\n[**2101-7-9**] with occlusion of the distal left circumflex;\\nstatus post right coronary artery stent on [**2101-8-26**] (no\\npercutaneous coronary intervention to 99% diagonal left\\ncircumflex, 80% small proximal left anterior descending\\nartery, or 80% small distal left anterior descending artery).\\n 2.  Congestive heart failure (with an ejection fraction\\nof 15% to 20%).\\n 3.  Type 2 diabetes with neuropathy.\\n 4.  Hypertension.\\n 5.  Diverticulosis (found on colonoscopy in [**2101-7-9**]).\\n 6.  Alzheimer's dementia.\\n 7.  History of gastrointestinal bleed (while the patient was\\ntaking eptifibatide).\\n 8.  Cardiac risk factors (with a baseline creatinine\\nof 1.4 to 1.6).\\n 9.  Hypercholesterolemia.\\n10.  History of methicillin-resistant Staphylococcus aureus\\nand Pseudomonas growth in wound cultures.\\n11.  Severe peripheral vascular disease; status post left\\nfemoral-AT bypass graft on [**2101-10-11**].\\n12.  Chronic nonhealing foot ulcers.\\n13.  Recent right pedal cellulitis.\\n\\nALLERGIES:  The patient has no known drug allergies.\\n\\nMEDICATIONS ON ADMISSION:\\n 1.  Vancomycin 1 g intravenously q.24h. for a level of less\\nthan 15 (started on [**2101-10-4**]).\\n 2.  Levofloxacin 250 mg p.o. q.d. (started on [**2101-10-4**]).\\n 3.  Metronidazole 500 mg p.o. q.8h. (started on [**2101-10-4**]).\\n 4.  Heparin 5000 units subcutaneous b.i.d.\\n 5.  Simvastatin 40 mg p.o. q.d.\\n 6.  Lisinopril 5 mg p.o. q.d.\\n 7.  Furosemide 40 mg p.o. q.d.\\n 8.  Vitamin E 400 IU p.o. q.d.\\n 9.  Atenolol 25 mg p.o. q.d.\\n10.  Pantoprazole 40 mg p.o. q.d.\\n11.  Ascorbic acid 500 mg p.o. b.i.d.\\n12.  NPH 17 units b.i.d.\\n13.  Regular insulin sliding-scale.\\n14.  Bisacodyl 10 mg p.o./p.r. as needed.\\n15.  Docusate 100 mg p.o. b.i.d.\\n16.  Percocet 5/325 mg one tablet p.o. q.4-6h. as needed for\\npain.\\n17.  Aspirin 81 mg p.o. q.d.\\n18.  Metoprolol 75 mg p.o. b.i.d.\\n\\nSOCIAL HISTORY:  The patient is retired and had been living\\nat home with his wife prior to his admission to the hospital\\non [**2101-10-11**]; he had been living at [**Hospital3 1761**] for the day prior to admission.  He is a\\nsocial drinker and has a 40-pack-year smoking history;\\nalthough, he quit smoking 20 years ago.\\n\\nPHYSICAL EXAMINATION ON PRESENTATION:   Initial physical\\nexamination revealed temperature was 96.1 degrees Fahrenheit,\\nheart rate was 83, blood pressure was 124/42 (following\\nadministration of 3 liters of normal saline), respiratory\\nwas 24, and his oxygen saturation was 100% on 2 liters nasal\\ncannula.  His heart had a regular rate and rhythm.  There\\nwere normal first and second heart sounds.  There was a 2/6\\nsystolic ejection murmur, and there were no rubs or gallops.\\nHis lungs were clear to auscultation bilaterally.  His\\nabdomen was soft, nontender, and nondistended, and there were\\nhypoactive bowel sounds.  He had a palpable bypass graft\\npulse, [**Hospital3 17394**] dorsalis pedis and posterior tibialis\\npulses bilaterally; and his surgical incision was clean, dry,\\nand intact.  Please note that the above examination was done\\nby the Vascular Surgery team, which was the team that was\\ninitially planning to admit the patient to the hospital.\\n\\nPERTINENT LABORATORY DATA ON PRESENTATION:  On initial\\nlaboratory evaluation the patient had a white blood cell\\ncount of 12.7, hematocrit was 30.2, and platelets\\nwere 282,000.  His PT was 13.5, PTT was 30.7, and INR\\nwas 1.3.  His serum chemistries revealed sodium was 136,\\npotassium was 5.4, chloride was 99, bicarbonate was 25, blood\\nurea nitrogen was 53, creatinine was 3.2, and blood glucose\\nwas 91.  His calcium was 8.2, magnesium was 2.4, and\\nphosphate was 4.8.  Blood cultures drawn on admission were\\npending, but ultimately negative.  A urine culture taken on\\nadmission was initially pending, but ultimately grew out\\nyeast.  A sputum culture taken on admission was also\\ninitially pending, but ultimately also grew out yeast.\\n\\nRADIOLOGY/IMAGING:  His admission chest x-ray demonstrated\\nstable prominence of the right main pulmonary artery; no\\nfocal areas of consolidation; overall stable appearance of\\nthe chest compared with a [**2101-10-15**] study.  No\\nradiographic evidence of congestive heart failure or\\npneumonia.\\n\\nHis admission electrocardiogram demonstrated a sinus rhythm,\\nnonspecific inferior/lateral T wave changes, low QRS voltages\\nin the limb leads, and T wave changes in V5 and V6 when\\ncompared with an electrocardiogram dated [**2101-10-12**].\\n\\nAn initial abdominal CT was a limited noncontrast examination\\nthat demonstrated diffuse vascular calcifications.  No\\nevidence of an abdominal aortic aneurysm or free fluid,\\nincompletely imaged coronary artery calcification, a simple\\nleft renal cyst, sigmoid diverticulosis, and an enlarged and\\npartially calcified prostate gland.\\n\\nHOSPITAL COURSE BY SYSTEM:\\n\\n1.  CARDIOVASCULAR:  The patient was initially admitted to\\nthe Vascular Intensive Care Unit with hypotension, decreased\\nurine output, and acute renal failure; most likely secondary\\nto a presumed gram-negative urosepsis (although there were\\nnever any positive culture data to confirm this diagnosis).\\n\\nWhile boarding in the Medical Intensive Care Unit on the\\nnight of admission, the patient had a sudden\\ncardiorespiratory arrest.  He was resuscitated with\\nepinephrine, lidocaine, and direct current cardioversion\\ntimes four.  He was also intubate for airway protection.\\n\\nFollowing these measures, the patient returned to a sinus\\nrhythm with a systolic blood pressure of approximately 100;\\nthe total time elapsed from the beginning of the arrest to\\nthe return of a pulse was approximately 16 minutes.  He\\nsubsequently required double pressors to maintain his blood\\npressure.\\n\\nAn echocardiogram performed at the bedside demonstrated a\\ntrivial pericardial effusion and a left ventricular ejection\\nfraction of 20% to 25% in the setting of tachycardia and a\\nhyperdynamic right ventricle; suggesting elevated right-sided\\nfilling pressures.  Although the definitive etiology of this\\narrest remained unknown, the most likely trigger was a\\nnon-Q-wave myocardial infarction, as his troponin values were\\nelevated to greater than 50 following his arrest.\\n\\nA repeat echocardiogram done on [**2101-10-21**]\\ndemonstrated mild left atrial dilation, an ejection fraction\\nof 15% to 20%, resting regional wall motion abnormalities\\nincluding inferior, mid, and apical left ventricular\\nakinesis, depressed right ventricular systolic function, and\\nmoderate mitral regurgitation.  Compared with the prior study\\nof [**2101-10-20**]; the left ventricular function was\\nunchanged.  There was moderate mitral regurgitation, and the\\nright ventricular function appeared worse.\\n\\nOn [**2101-10-21**], the patient was loaded with amiodarone\\nand was subsequently started on oral amiodarone.  The\\nfollowing day, he was started on heparin intravenously given\\nhis elevated serum troponin to greater than 50; this\\nmedication was continued for 72 hours.  Given his elevated\\ntroponins and non-Q-wave myocardial infarction, the patient\\nwas a candidate for cardiac catheterization.\\n\\nAfter discussions between the Medical Intensive Care Unit\\nteam and the patient's family, however, the decision was made\\nto not pursue further invasive procedures given that the\\npatient had been made do not resuscitate/do not intubate\\nfollowing the resuscitation mentioned above, and his family\\nno longer wished for aggressive resuscitating measures.\\n\\nBy [**2101-10-23**], he was off pressors and he was\\nrestarted on a beta blocker and ACE inhibitor at low doses.\\n\\nOn the evening of [**2101-10-25**], the patient complained\\nof substernal chest pain that was relieved by NPG SL and\\nmorphine.  He also had ST segment depressions in V2 and V3\\nthat reverted to baseline after the resolution of his pain.\\nTherefore, the patient was again started on heparin;\\nalthough, this was discontinued on [**2101-10-26**] when\\nthe patient ruled out for a myocardial infarction by cardiac\\nenzymes.  He again had substernal chest pain on [**2101-10-27**]; although, he had no electrocardiogram changes, and he\\nagain ruled out for a myocardial infarction by cardiac\\nenzymes.\\n\\nBy hospital day four, the patient began to develop evidence\\nof congestive heart failure given his aggressive fluid\\nresuscitation, and gentle diuresis with furosemide was begun.\\nBy the time of his transfer to the General Medicine Service\\non [**2101-10-26**], the patient was still significantly\\nvolume overloaded following his aggressive fluid\\nresuscitation in the Medical Intensive Care Unit.  Therefore,\\nhe was continued on the program of gentle diuresis given that\\nhe was having signs and symptoms of right-sided congestive\\nheart failure.  He achieved adequate diuresis by the time of\\nhis discharge to rehabilitation, as his oxygen saturation was\\ngreater than 95% on 2 liters nasal cannula.\\n\\n2.  INFECTIOUS DISEASE/SEPSIS:  The patient was started on\\ngentamicin and piperacillin/tazobactam in addition to the\\nlevofloxacin, metronidazole, and vancomycin he was already\\ntaking for right lower extremity cellulitis prior to\\nadmission for empiric coverage of a presumed gram-negative\\nurosepsis, and he was aggressively hydrated with intravenous\\nfluids.\\n\\nOn [**2101-10-21**], his levofloxacin and metronidazole was\\ndiscontinued, and he was started on fluconazole given the\\ngrowth of yeast on urine culture.  He was taken off of\\ngentamicin on hospital day three, and his fluconazole was\\ndiscontinued on hospital day five (as per the Infectious\\nDisease Service).  He was taken off of vancomycin on\\n[**2101-10-28**], and his piperacillin/tazobactam was\\ndiscontinued on [**2101-10-29**].\\n\\nDespite the presumption of a gram-negative urosepsis\\nprecipitating this admission, the patient did not have any\\npositive blood or urine cultures aside from the growth of\\nyeast in two urine cultures noted above.  He remained\\nafebrile both before and after discontinuation of his\\nantibiotics, and he was found to be Clostridium difficile\\nnegative on [**2101-10-28**].\\n\\n3.  PULMONARY:  As noted above, the patient was intubated and\\nhe was extubated on [**2101-10-24**].  He subsequently\\ndeveloped wheezing and mild hypoxia; most likely secondary to\\ncardiac asthma and fluid overload in the setting of his\\naggressive fluid resuscitation.  He was gently diuresed\\ntoward the end of his hospitalization, and by the time of his\\nhe was maintaining an oxygen saturation of greater than 95%\\non 2 liters nasal cannula, intermittent ipratropium\\nnebulizers, and chest physical therapy for clearance of his\\nrespiratory secretions.\\n\\n4.  RENAL:  The patient presented with acute renal failure\\nand prerenal azotemia that rapidly resolved following fluid\\nresuscitation.  By the time of discharge, his serum\\ncreatinine was stable and at his preadmission baseline.\\n\\n5.  NUTRITION:  The patient was found to be profoundly\\nmalnourished with a serum albumin of 1.8 on admission.  Once\\nhe was extubated and taking orals, he performed poorly on a\\nmodified barium swallowing study and was started on a thin\\nliquid, ground-solid diet with whole medication tablets,\\nsmall bites and sips, upright posture with meals, and\\naspiration precautions.  He was also given ProMod shakes with\\nand between meals for nutritional supplementation of his\\nheart-healthy/diabetic diet.\\n\\n6.  VASCULAR:  The patient's operative incisions and foot\\nulcers continued to heal throughout this admission.  He was\\nstarted on an multivitamin, vitamin C, and zinc for improved\\nwound healing.\\n\\n7.  HEMATOLOGY:  The patient was transfused one unit of\\npacked red blood cells on [**2101-10-27**] to maintain a\\nhematocrit of greater than 30 given his history of severe\\ncoronary artery disease.  His hematocrit subsequently\\nremained stable.\\n\\nCONDITION AT DISCHARGE:  Condition on discharge was stable.\\n\\nDISCHARGE STATUS:  [**First Name4 (NamePattern1) 1188**] [**Last Name (NamePattern1) **] rehabilitation facility.\\n\\nDISCHARGE DIAGNOSES:\\n 1.  Cardiorespiratory arrest.\\n 2.  Non-Q-wave myocardial infarction.\\n 3.  Acute renal failure.\\n 4.  Coronary artery disease with diffuse 3-vessel disease;\\nright-dominant, status post proximal left circumflex stent in\\n[**2101-7-9**] with occlusion of distal left circumflex; status\\npost right coronary artery stent on [**2101-10-27**] (no\\npercutaneous coronary intervention to 99%, distal left\\ncircumflex, 80% small proximal left anterior descending\\nartery, 80% small distal left anterior descending artery).\\n 5.  Congestive heart failure (with an ejection fraction\\nof 15% to 20%).\\n 6.  Type 2 diabetes with neuropathy.\\n 7.  Hypertension.\\n 8.  Diverticulosis (found on colonoscopy in [**2101-7-9**]).\\n 9.  Alzheimer's dementia.\\n10.  History of gastrointestinal bleed (while the patient was\\ntaking eptifibatide).\\n11.  Cardiac risk factors (with a baseline creatinine\\nof 1.4 to 1.6).\\n12.  History of methicillin-resistant Staphylococcus aureus\\nand Pseudomonas growth in wound cultures.\\n13.  Severe peripheral vascular disease; status post left\\nfemoral-AT bypass graft on [**2101-10-11**].\\n14.  Chronic nonhealing foot ulcers.\\n\\nMEDICATIONS ON DISCHARGE:\\n 1.  Amiodarone 400 mg p.o. b.i.d. (through [**2101-11-2**]), then 400 mg p.o. q.d. (times one week), then 200 mg\\np.o. q.d.\\n 2.  Metoprolol 50 mg p.o. b.i.d.\\n 3.  Captopril 6.25 mg p.o. t.i.d.\\n 4.  Aspirin 325 mg p.o. q.d.\\n 5.  Pantoprazole 40 mg p.o. q.d.\\n 6.  Heparin 5000 units subcutaneously b.i.d.\\n 7.  Multivitamin one tablet p.o. q.d.\\n 8.  Zinc sulfate 220 mg p.o. q.d.\\n 9.  Vitamin C 500 mg p.o. q.d.\\n10.  Ipratropium nebulizers q.4-6h. as needed (for wheezing).\\n11.  Acetaminophen 325 mg to 650 mg p.o. q.4-6h. as needed\\n(for pain).\\n12.  Miconazole 2% powder to groin b.i.d.\\n13.  Santyl lotion to heels b.i.d.\\n14.  Regular insulin sliding-scale.\\n\\nCODE STATUS:  Do not resuscitate/do not intubate.\\n\\nNOTE:  If applicable, an addendum to this Discharge Summary\\nwill be dictated to include follow-up appointments as well as\\nany changes to the medication list noted above.\\n\\n\\n\\n\\n\\n\\n                          [**First Name11 (Name Pattern1) **] [**Last Name (NamePattern4) 1604**], M.D.  [**MD Number(1) 1605**]\\n\\nDictated By:[**Name8 (MD) 2507**]\\n\\nMEDQUIST36\\n\\nD:  [**2101-10-31**]  01:07\\nT:  [**2101-11-5**]  03:44\\nJOB#:  [**Job Number **]\\n\""
            ],
            "application/vnd.google.colaboratory.intrinsic+json": {
              "type": "string"
            }
          },
          "metadata": {},
          "execution_count": 105
        }
      ],
      "source": [
        "readmission_dir['TEXT_AGG'][0]"
      ]
    },
    {
      "cell_type": "code",
      "execution_count": 8,
      "id": "7a2ec180",
      "metadata": {
        "id": "7a2ec180"
      },
      "outputs": [],
      "source": [
        "# Define text_clean function\n",
        "import string\n",
        "punc_numb=string.punctuation+'0123456789'\n",
        "punc_numb=punc_numb.replace('!','')\n",
        "punc_numb=punc_numb.replace('.','')\n",
        "punc_numb=punc_numb.replace('?','')"
      ]
    },
    {
      "cell_type": "code",
      "execution_count": null,
      "id": "d69fbef7",
      "metadata": {
        "id": "d69fbef7",
        "outputId": "c76b89b9-7b4d-447d-c70f-4162be9b4b74",
        "colab": {
          "base_uri": "https://localhost:8080/",
          "height": 35
        }
      },
      "outputs": [
        {
          "output_type": "execute_result",
          "data": {
            "text/plain": [
              "'\"#$%&\\'()*+,-/:;<=>@[\\\\]^_`{|}~0123456789'"
            ],
            "application/vnd.google.colaboratory.intrinsic+json": {
              "type": "string"
            }
          },
          "metadata": {},
          "execution_count": 10
        }
      ],
      "source": [
        "punc_numb"
      ]
    },
    {
      "cell_type": "code",
      "execution_count": 9,
      "id": "69e62447",
      "metadata": {
        "id": "69e62447"
      },
      "outputs": [],
      "source": [
        "# Replace all the non-useful punctuations and numbers to space and only keep .!? as sentence separaters\n",
        "def clean_text(text):\n",
        "    text=text.replace(\"\\n\",\"\")\n",
        "    text=text.replace(\"\\r\",\"\")\n",
        "\n",
        "    t= text.maketrans(dict.fromkeys(punc_numb,\"\"))\n",
        "    text=text.translate(t)\n",
        "    \n",
        "    return(text)"
      ]
    },
    {
      "cell_type": "code",
      "execution_count": 10,
      "id": "febacbc6",
      "metadata": {
        "id": "febacbc6",
        "outputId": "dad6c1f5-9ef7-4522-917b-567af0c1220b",
        "colab": {
          "base_uri": "https://localhost:8080/"
        }
      },
      "outputs": [
        {
          "output_type": "stream",
          "name": "stderr",
          "text": [
            "  0%|          | 0/46308 [00:00<?, ?it/s]/usr/local/lib/python3.7/dist-packages/ipykernel_launcher.py:3: SettingWithCopyWarning: \n",
            "A value is trying to be set on a copy of a slice from a DataFrame\n",
            "\n",
            "See the caveats in the documentation: https://pandas.pydata.org/pandas-docs/stable/user_guide/indexing.html#returning-a-view-versus-a-copy\n",
            "  This is separate from the ipykernel package so we can avoid doing imports until\n",
            "100%|██████████| 46308/46308 [01:27<00:00, 531.65it/s]\n"
          ]
        }
      ],
      "source": [
        "from tqdm import tqdm\n",
        "for i in tqdm(range(len(readmission_dir))):\n",
        "    readmission_dir['TEXT_AGG'][i]=clean_text(readmission_dir['TEXT_AGG'][i])"
      ]
    },
    {
      "cell_type": "code",
      "execution_count": 27,
      "id": "590f9bd9",
      "metadata": {
        "id": "590f9bd9"
      },
      "outputs": [],
      "source": [
        "from sklearn.model_selection import train_test_split\n",
        "df_train, df_test=train_test_split(readmission_dir,test_size=0.2, random_state=42)\n",
        "\n",
        "# sub-sampling the negatives (non-readmitted) on the training set\n",
        "df_train_readm=df_train[df_train.READMISSION_STATUS=='Readmitted']\n",
        "df_train_non_readm=df_train[df_train.READMISSION_STATUS=='Non-readmitted']\n",
        "df_train_sub = pd.concat([df_train_readm, df_train_non_readm.sample(n = len(df_train_readm), random_state = 42)],axis = 0)"
      ]
    },
    {
      "cell_type": "code",
      "execution_count": 28,
      "id": "a3caa6fe",
      "metadata": {
        "id": "a3caa6fe"
      },
      "outputs": [],
      "source": [
        "# Convert the pandas df to a spark df\n",
        "spark.conf.set(\"spark.sql.execution.arrow.enabled\", \"true\")\n",
        "train = spark.createDataFrame(df_train_sub)\n",
        "test= spark.createDataFrame(df_test)"
      ]
    },
    {
      "cell_type": "markdown",
      "id": "01ae9bb1",
      "metadata": {
        "id": "01ae9bb1"
      },
      "source": [
        "### Build up Pipelines"
      ]
    },
    {
      "cell_type": "code",
      "execution_count": 25,
      "id": "fe292af5",
      "metadata": {
        "id": "fe292af5",
        "colab": {
          "base_uri": "https://localhost:8080/"
        },
        "outputId": "bdd0d2cf-e194-4bb2-b2b3-3f4a0ee2f4ca"
      },
      "outputs": [
        {
          "output_type": "stream",
          "name": "stdout",
          "text": [
            "sent_small_bert_L2_768 download started this may take some time.\n",
            "Approximate size to download 139.6 MB\n",
            "[OK!]\n",
            "CPU times: user 47.5 ms, sys: 2.06 ms, total: 49.6 ms\n",
            "Wall time: 4.68 s\n"
          ]
        }
      ],
      "source": [
        "%%time\n",
        "# Produce pipeline for data cleaning and sentence(discharge summary) embedding\n",
        "document_assembler = DocumentAssembler() \\\n",
        "      .setInputCol(\"TEXT_AGG\") \\\n",
        "      .setOutputCol(\"document\")\n",
        "    \n",
        "sentence = SentenceDetector() \\\n",
        "    .setInputCols(\"document\") \\\n",
        "    .setOutputCol(\"sentence\")\n",
        "\n",
        "Bert_sentence_embedding = BertSentenceEmbeddings.pretrained() \\\n",
        "  .setInputCols([\"document\",\"sentence\"]) \\\n",
        "  .setOutputCol(\"sentence_bert_embeddings\")\n",
        "\n",
        "embeddings_finisher = EmbeddingsFinisher() \\\n",
        "      .setInputCols([\"sentence_bert_embeddings\"]) \\\n",
        "      .setOutputCols([\"finished_sentence_embeddings\"]) \\\n",
        "      .setOutputAsVector(True)\\\n",
        "      .setCleanAnnotations(False)\n",
        "\n",
        "explodeVectors = SQLTransformer(statement=\n",
        "      \"SELECT EXPLODE(finished_sentence_embeddings) AS features, * FROM __THIS__\")\n",
        "\n",
        "label_stringIdx_label = StringIndexer(inputCol = \"READMISSION_STATUS\", outputCol = \"label\")\n",
        "\n",
        "nlp_pipeline_Bert = Pipeline(\n",
        "stages=[document_assembler, \n",
        "        sentence,\n",
        "        Bert_sentence_embedding,\n",
        "        embeddings_finisher,\n",
        "        explodeVectors,\n",
        "        label_stringIdx_label])"
      ]
    },
    {
      "cell_type": "code",
      "execution_count": 29,
      "id": "016f0dc6",
      "metadata": {
        "id": "016f0dc6"
      },
      "outputs": [],
      "source": [
        "nlp_Bert_model= nlp_pipeline_Bert.fit(train)"
      ]
    },
    {
      "cell_type": "code",
      "execution_count": 30,
      "id": "69340895",
      "metadata": {
        "id": "69340895"
      },
      "outputs": [],
      "source": [
        "nlp_Bert_model.write().overwrite().save('gdrive/MyDrive/Colab_Notebooks/Models_Pipelines/bert_sentence_readmission')"
      ]
    },
    {
      "cell_type": "code",
      "execution_count": 31,
      "id": "06bf06f1",
      "metadata": {
        "id": "06bf06f1"
      },
      "outputs": [],
      "source": [
        "from pyspark.ml.pipeline import PipelineModel\n",
        "nlp_Bert_model= PipelineModel.load(\"gdrive/MyDrive/Colab_Notebooks/Models_Pipelines/bert_sentence_readmission/\")"
      ]
    },
    {
      "cell_type": "code",
      "execution_count": 32,
      "id": "0b30fd43",
      "metadata": {
        "id": "0b30fd43"
      },
      "outputs": [],
      "source": [
        "# Transform training set\n",
        "processed_bert=nlp_Bert_model.transform(train)"
      ]
    },
    {
      "cell_type": "code",
      "execution_count": 33,
      "id": "ae9fe74a",
      "metadata": {
        "id": "ae9fe74a",
        "colab": {
          "base_uri": "https://localhost:8080/"
        },
        "outputId": "1ef4e50f-c183-4bda-8c58-d1139de5a3a5"
      },
      "outputs": [
        {
          "output_type": "stream",
          "name": "stdout",
          "text": [
            "+--------------------+----------+------+----------+-------+-------------------+-------------------+---------+--------------+--------------------+--------------------+---------+--------+--------+--------------+---------+-------------------+-------------------+----------+--------------------+--------------------+------+-------------------+--------------+-------------------+----------------+--------------------+------------------+--------------------+--------------------+--------------------+------------------------+----------------------------+-----+\n",
            "|            features|Unnamed: 0|ROW_ID|SUBJECT_ID|HADM_ID|          ADMITTIME|          DISCHTIME|DEATHTIME|ADMISSION_TYPE|  ADMISSION_LOCATION|  DISCHARGE_LOCATION|INSURANCE|LANGUAGE|RELIGION|MARITAL_STATUS|ETHNICITY|          EDREGTIME|          EDOUTTIME| DIAGNOSIS|HOSPITAL_EXPIRE_FLAG|HAS_CHARTEVENTS_DATA|GENDER|                DOB|AGE_UPON_ADMIT|   READMISSION_TIME|READMISSION_TYPE|READMISSION_INTERVAL|READMISSION_STATUS|            TEXT_AGG|            document|            sentence|sentence_bert_embeddings|finished_sentence_embeddings|label|\n",
            "+--------------------+----------+------+----------+-------+-------------------+-------------------+---------+--------------+--------------------+--------------------+---------+--------+--------+--------------+---------+-------------------+-------------------+----------+--------------------+--------------------+------+-------------------+--------------+-------------------+----------------+--------------------+------------------+--------------------+--------------------+--------------------+------------------------+----------------------------+-----+\n",
            "|[0.06176206842064...|     43327| 55683|     89817| 173180|2160-04-14 19:50:00|2160-04-28 15:23:00|     null|     EMERGENCY|EMERGENCY ROOM ADMIT|LONG TERM CARE HO...| Medicare|    ENGL|CATHOLIC|       MARRIED|    WHITE|2160-04-14 17:20:00|2160-04-14 19:49:00|HEAD BLEED|                   0|                   1|     F|2072-01-10 00:00:00|          88.0|2160-05-03 03:02:00|       EMERGENCY|                 4.0|        Readmitted|Admission Date   ...|[{document, 0, 11...|[{document, 0, 21...|    [{sentence_embedd...|        [[0.0617620684206...|  0.0|\n",
            "|[-0.0849704220890...|     43327| 55683|     89817| 173180|2160-04-14 19:50:00|2160-04-28 15:23:00|     null|     EMERGENCY|EMERGENCY ROOM ADMIT|LONG TERM CARE HO...| Medicare|    ENGL|CATHOLIC|       MARRIED|    WHITE|2160-04-14 17:20:00|2160-04-14 19:49:00|HEAD BLEED|                   0|                   1|     F|2072-01-10 00:00:00|          88.0|2160-05-03 03:02:00|       EMERGENCY|                 4.0|        Readmitted|Admission Date   ...|[{document, 0, 11...|[{document, 0, 21...|    [{sentence_embedd...|        [[0.0617620684206...|  0.0|\n",
            "|[0.04944758117198...|     43327| 55683|     89817| 173180|2160-04-14 19:50:00|2160-04-28 15:23:00|     null|     EMERGENCY|EMERGENCY ROOM ADMIT|LONG TERM CARE HO...| Medicare|    ENGL|CATHOLIC|       MARRIED|    WHITE|2160-04-14 17:20:00|2160-04-14 19:49:00|HEAD BLEED|                   0|                   1|     F|2072-01-10 00:00:00|          88.0|2160-05-03 03:02:00|       EMERGENCY|                 4.0|        Readmitted|Admission Date   ...|[{document, 0, 11...|[{document, 0, 21...|    [{sentence_embedd...|        [[0.0617620684206...|  0.0|\n",
            "|[-0.4743238389492...|     43327| 55683|     89817| 173180|2160-04-14 19:50:00|2160-04-28 15:23:00|     null|     EMERGENCY|EMERGENCY ROOM ADMIT|LONG TERM CARE HO...| Medicare|    ENGL|CATHOLIC|       MARRIED|    WHITE|2160-04-14 17:20:00|2160-04-14 19:49:00|HEAD BLEED|                   0|                   1|     F|2072-01-10 00:00:00|          88.0|2160-05-03 03:02:00|       EMERGENCY|                 4.0|        Readmitted|Admission Date   ...|[{document, 0, 11...|[{document, 0, 21...|    [{sentence_embedd...|        [[0.0617620684206...|  0.0|\n",
            "|[-0.1508060544729...|     43327| 55683|     89817| 173180|2160-04-14 19:50:00|2160-04-28 15:23:00|     null|     EMERGENCY|EMERGENCY ROOM ADMIT|LONG TERM CARE HO...| Medicare|    ENGL|CATHOLIC|       MARRIED|    WHITE|2160-04-14 17:20:00|2160-04-14 19:49:00|HEAD BLEED|                   0|                   1|     F|2072-01-10 00:00:00|          88.0|2160-05-03 03:02:00|       EMERGENCY|                 4.0|        Readmitted|Admission Date   ...|[{document, 0, 11...|[{document, 0, 21...|    [{sentence_embedd...|        [[0.0617620684206...|  0.0|\n",
            "|[0.09535570442676...|     43327| 55683|     89817| 173180|2160-04-14 19:50:00|2160-04-28 15:23:00|     null|     EMERGENCY|EMERGENCY ROOM ADMIT|LONG TERM CARE HO...| Medicare|    ENGL|CATHOLIC|       MARRIED|    WHITE|2160-04-14 17:20:00|2160-04-14 19:49:00|HEAD BLEED|                   0|                   1|     F|2072-01-10 00:00:00|          88.0|2160-05-03 03:02:00|       EMERGENCY|                 4.0|        Readmitted|Admission Date   ...|[{document, 0, 11...|[{document, 0, 21...|    [{sentence_embedd...|        [[0.0617620684206...|  0.0|\n",
            "|[0.15088830888271...|     43327| 55683|     89817| 173180|2160-04-14 19:50:00|2160-04-28 15:23:00|     null|     EMERGENCY|EMERGENCY ROOM ADMIT|LONG TERM CARE HO...| Medicare|    ENGL|CATHOLIC|       MARRIED|    WHITE|2160-04-14 17:20:00|2160-04-14 19:49:00|HEAD BLEED|                   0|                   1|     F|2072-01-10 00:00:00|          88.0|2160-05-03 03:02:00|       EMERGENCY|                 4.0|        Readmitted|Admission Date   ...|[{document, 0, 11...|[{document, 0, 21...|    [{sentence_embedd...|        [[0.0617620684206...|  0.0|\n",
            "|[-0.6267837285995...|     43327| 55683|     89817| 173180|2160-04-14 19:50:00|2160-04-28 15:23:00|     null|     EMERGENCY|EMERGENCY ROOM ADMIT|LONG TERM CARE HO...| Medicare|    ENGL|CATHOLIC|       MARRIED|    WHITE|2160-04-14 17:20:00|2160-04-14 19:49:00|HEAD BLEED|                   0|                   1|     F|2072-01-10 00:00:00|          88.0|2160-05-03 03:02:00|       EMERGENCY|                 4.0|        Readmitted|Admission Date   ...|[{document, 0, 11...|[{document, 0, 21...|    [{sentence_embedd...|        [[0.0617620684206...|  0.0|\n",
            "|[0.11837701499462...|     43327| 55683|     89817| 173180|2160-04-14 19:50:00|2160-04-28 15:23:00|     null|     EMERGENCY|EMERGENCY ROOM ADMIT|LONG TERM CARE HO...| Medicare|    ENGL|CATHOLIC|       MARRIED|    WHITE|2160-04-14 17:20:00|2160-04-14 19:49:00|HEAD BLEED|                   0|                   1|     F|2072-01-10 00:00:00|          88.0|2160-05-03 03:02:00|       EMERGENCY|                 4.0|        Readmitted|Admission Date   ...|[{document, 0, 11...|[{document, 0, 21...|    [{sentence_embedd...|        [[0.0617620684206...|  0.0|\n",
            "|[0.01335060875862...|     43327| 55683|     89817| 173180|2160-04-14 19:50:00|2160-04-28 15:23:00|     null|     EMERGENCY|EMERGENCY ROOM ADMIT|LONG TERM CARE HO...| Medicare|    ENGL|CATHOLIC|       MARRIED|    WHITE|2160-04-14 17:20:00|2160-04-14 19:49:00|HEAD BLEED|                   0|                   1|     F|2072-01-10 00:00:00|          88.0|2160-05-03 03:02:00|       EMERGENCY|                 4.0|        Readmitted|Admission Date   ...|[{document, 0, 11...|[{document, 0, 21...|    [{sentence_embedd...|        [[0.0617620684206...|  0.0|\n",
            "|[-0.0764743760228...|     43327| 55683|     89817| 173180|2160-04-14 19:50:00|2160-04-28 15:23:00|     null|     EMERGENCY|EMERGENCY ROOM ADMIT|LONG TERM CARE HO...| Medicare|    ENGL|CATHOLIC|       MARRIED|    WHITE|2160-04-14 17:20:00|2160-04-14 19:49:00|HEAD BLEED|                   0|                   1|     F|2072-01-10 00:00:00|          88.0|2160-05-03 03:02:00|       EMERGENCY|                 4.0|        Readmitted|Admission Date   ...|[{document, 0, 11...|[{document, 0, 21...|    [{sentence_embedd...|        [[0.0617620684206...|  0.0|\n",
            "|[0.12963156402111...|     43327| 55683|     89817| 173180|2160-04-14 19:50:00|2160-04-28 15:23:00|     null|     EMERGENCY|EMERGENCY ROOM ADMIT|LONG TERM CARE HO...| Medicare|    ENGL|CATHOLIC|       MARRIED|    WHITE|2160-04-14 17:20:00|2160-04-14 19:49:00|HEAD BLEED|                   0|                   1|     F|2072-01-10 00:00:00|          88.0|2160-05-03 03:02:00|       EMERGENCY|                 4.0|        Readmitted|Admission Date   ...|[{document, 0, 11...|[{document, 0, 21...|    [{sentence_embedd...|        [[0.0617620684206...|  0.0|\n",
            "|[0.19590520858764...|     43327| 55683|     89817| 173180|2160-04-14 19:50:00|2160-04-28 15:23:00|     null|     EMERGENCY|EMERGENCY ROOM ADMIT|LONG TERM CARE HO...| Medicare|    ENGL|CATHOLIC|       MARRIED|    WHITE|2160-04-14 17:20:00|2160-04-14 19:49:00|HEAD BLEED|                   0|                   1|     F|2072-01-10 00:00:00|          88.0|2160-05-03 03:02:00|       EMERGENCY|                 4.0|        Readmitted|Admission Date   ...|[{document, 0, 11...|[{document, 0, 21...|    [{sentence_embedd...|        [[0.0617620684206...|  0.0|\n",
            "|[0.35748597979545...|     43327| 55683|     89817| 173180|2160-04-14 19:50:00|2160-04-28 15:23:00|     null|     EMERGENCY|EMERGENCY ROOM ADMIT|LONG TERM CARE HO...| Medicare|    ENGL|CATHOLIC|       MARRIED|    WHITE|2160-04-14 17:20:00|2160-04-14 19:49:00|HEAD BLEED|                   0|                   1|     F|2072-01-10 00:00:00|          88.0|2160-05-03 03:02:00|       EMERGENCY|                 4.0|        Readmitted|Admission Date   ...|[{document, 0, 11...|[{document, 0, 21...|    [{sentence_embedd...|        [[0.0617620684206...|  0.0|\n",
            "|[-0.0698686838150...|     43327| 55683|     89817| 173180|2160-04-14 19:50:00|2160-04-28 15:23:00|     null|     EMERGENCY|EMERGENCY ROOM ADMIT|LONG TERM CARE HO...| Medicare|    ENGL|CATHOLIC|       MARRIED|    WHITE|2160-04-14 17:20:00|2160-04-14 19:49:00|HEAD BLEED|                   0|                   1|     F|2072-01-10 00:00:00|          88.0|2160-05-03 03:02:00|       EMERGENCY|                 4.0|        Readmitted|Admission Date   ...|[{document, 0, 11...|[{document, 0, 21...|    [{sentence_embedd...|        [[0.0617620684206...|  0.0|\n",
            "|[0.37190487980842...|     43327| 55683|     89817| 173180|2160-04-14 19:50:00|2160-04-28 15:23:00|     null|     EMERGENCY|EMERGENCY ROOM ADMIT|LONG TERM CARE HO...| Medicare|    ENGL|CATHOLIC|       MARRIED|    WHITE|2160-04-14 17:20:00|2160-04-14 19:49:00|HEAD BLEED|                   0|                   1|     F|2072-01-10 00:00:00|          88.0|2160-05-03 03:02:00|       EMERGENCY|                 4.0|        Readmitted|Admission Date   ...|[{document, 0, 11...|[{document, 0, 21...|    [{sentence_embedd...|        [[0.0617620684206...|  0.0|\n",
            "|[-0.0781231373548...|     43327| 55683|     89817| 173180|2160-04-14 19:50:00|2160-04-28 15:23:00|     null|     EMERGENCY|EMERGENCY ROOM ADMIT|LONG TERM CARE HO...| Medicare|    ENGL|CATHOLIC|       MARRIED|    WHITE|2160-04-14 17:20:00|2160-04-14 19:49:00|HEAD BLEED|                   0|                   1|     F|2072-01-10 00:00:00|          88.0|2160-05-03 03:02:00|       EMERGENCY|                 4.0|        Readmitted|Admission Date   ...|[{document, 0, 11...|[{document, 0, 21...|    [{sentence_embedd...|        [[0.0617620684206...|  0.0|\n",
            "|[0.07535789161920...|     43327| 55683|     89817| 173180|2160-04-14 19:50:00|2160-04-28 15:23:00|     null|     EMERGENCY|EMERGENCY ROOM ADMIT|LONG TERM CARE HO...| Medicare|    ENGL|CATHOLIC|       MARRIED|    WHITE|2160-04-14 17:20:00|2160-04-14 19:49:00|HEAD BLEED|                   0|                   1|     F|2072-01-10 00:00:00|          88.0|2160-05-03 03:02:00|       EMERGENCY|                 4.0|        Readmitted|Admission Date   ...|[{document, 0, 11...|[{document, 0, 21...|    [{sentence_embedd...|        [[0.0617620684206...|  0.0|\n",
            "|[0.03154290840029...|     43327| 55683|     89817| 173180|2160-04-14 19:50:00|2160-04-28 15:23:00|     null|     EMERGENCY|EMERGENCY ROOM ADMIT|LONG TERM CARE HO...| Medicare|    ENGL|CATHOLIC|       MARRIED|    WHITE|2160-04-14 17:20:00|2160-04-14 19:49:00|HEAD BLEED|                   0|                   1|     F|2072-01-10 00:00:00|          88.0|2160-05-03 03:02:00|       EMERGENCY|                 4.0|        Readmitted|Admission Date   ...|[{document, 0, 11...|[{document, 0, 21...|    [{sentence_embedd...|        [[0.0617620684206...|  0.0|\n",
            "|[0.04944758117198...|     43327| 55683|     89817| 173180|2160-04-14 19:50:00|2160-04-28 15:23:00|     null|     EMERGENCY|EMERGENCY ROOM ADMIT|LONG TERM CARE HO...| Medicare|    ENGL|CATHOLIC|       MARRIED|    WHITE|2160-04-14 17:20:00|2160-04-14 19:49:00|HEAD BLEED|                   0|                   1|     F|2072-01-10 00:00:00|          88.0|2160-05-03 03:02:00|       EMERGENCY|                 4.0|        Readmitted|Admission Date   ...|[{document, 0, 11...|[{document, 0, 21...|    [{sentence_embedd...|        [[0.0617620684206...|  0.0|\n",
            "+--------------------+----------+------+----------+-------+-------------------+-------------------+---------+--------------+--------------------+--------------------+---------+--------+--------+--------------+---------+-------------------+-------------------+----------+--------------------+--------------------+------+-------------------+--------------+-------------------+----------------+--------------------+------------------+--------------------+--------------------+--------------------+------------------------+----------------------------+-----+\n",
            "only showing top 20 rows\n",
            "\n"
          ]
        }
      ],
      "source": [
        "processed_bert.show()"
      ]
    },
    {
      "cell_type": "markdown",
      "source": [
        ""
      ],
      "metadata": {
        "id": "qEAHfmiPVdeL"
      },
      "id": "qEAHfmiPVdeL"
    },
    {
      "cell_type": "code",
      "execution_count": 34,
      "id": "c1a276c3",
      "metadata": {
        "id": "c1a276c3"
      },
      "outputs": [],
      "source": [
        "# Transform test set\n",
        "processed_bert_test=nlp_Bert_model.transform(test)"
      ]
    },
    {
      "cell_type": "code",
      "source": [
        "from pyspark.sql.functions import collect_list\n",
        "from pyspark.sql import functions as F\n",
        "processed_bert_combined = processed_bert.groupby('HADM_ID').agg(collect_list('features').alias(\"features\"),F.min(processed_bert.label))"
      ],
      "metadata": {
        "id": "AtM49-xS0XWo"
      },
      "id": "AtM49-xS0XWo",
      "execution_count": 36,
      "outputs": []
    },
    {
      "cell_type": "code",
      "source": [
        "processed_bert_test_combined = processed_bert_test.groupby('HADM_ID').agg(collect_list('features').alias(\"features\"),F.min(processed_bert_test.label))"
      ],
      "metadata": {
        "id": "UarsJXhp3io0"
      },
      "id": "UarsJXhp3io0",
      "execution_count": 40,
      "outputs": []
    },
    {
      "cell_type": "code",
      "source": [
        "processed_bert_combined.show()"
      ],
      "metadata": {
        "colab": {
          "base_uri": "https://localhost:8080/"
        },
        "id": "Jy00v3jt1Ows",
        "outputId": "af792bab-00c0-4d81-b5bb-9fa51450c6c2"
      },
      "id": "Jy00v3jt1Ows",
      "execution_count": 38,
      "outputs": [
        {
          "output_type": "stream",
          "name": "stdout",
          "text": [
            "+-------+--------------------+----------+\n",
            "|HADM_ID|            features|min(label)|\n",
            "+-------+--------------------+----------+\n",
            "| 102092|[[0.1668415367603...|       0.0|\n",
            "| 116612|[[-0.054196644574...|       0.0|\n",
            "| 123425|[[0.0912164077162...|       0.0|\n",
            "| 125381|[[0.0198073573410...|       0.0|\n",
            "| 147907|[[-0.038919840008...|       0.0|\n",
            "| 194117|[[0.0261607021093...|       0.0|\n",
            "| 199677|[[0.1052988022565...|       0.0|\n",
            "| 139071|[[0.1651616245508...|       0.0|\n",
            "| 166578|[[-0.045749936252...|       0.0|\n",
            "| 169975|[[0.0914589464664...|       0.0|\n",
            "| 191307|[[0.0486060269176...|       0.0|\n",
            "| 191706|[[7.7287375461310...|       0.0|\n",
            "| 194873|[[0.1190421208739...|       0.0|\n",
            "| 101067|[[0.0421814545989...|       1.0|\n",
            "| 101333|[[-0.046536531299...|       1.0|\n",
            "| 111609|[[0.0084219211712...|       1.0|\n",
            "| 116139|[[0.0648432374000...|       1.0|\n",
            "| 136683|[[0.0154746845364...|       1.0|\n",
            "| 139892|[[0.0389691367745...|       1.0|\n",
            "| 167617|[[0.0627642571926...|       1.0|\n",
            "+-------+--------------------+----------+\n",
            "only showing top 20 rows\n",
            "\n"
          ]
        }
      ]
    },
    {
      "cell_type": "code",
      "source": [
        "# Save the transformed training and test set as orc\n",
        "processed_bert_combined.write.orc(\"gdrive/MyDrive/Colab_notebook/transformed_data/bert_sentence_train\")"
      ],
      "metadata": {
        "id": "hkqmSelLSRwK"
      },
      "id": "hkqmSelLSRwK",
      "execution_count": 39,
      "outputs": []
    },
    {
      "cell_type": "code",
      "source": [
        "processed_bert_test_combined.write.orc(\"gdrive/MyDrive/Colab_notebook/transformed_data/bert_sentence_test\")"
      ],
      "metadata": {
        "id": "Ir2QWGpIZ80-"
      },
      "id": "Ir2QWGpIZ80-",
      "execution_count": 41,
      "outputs": []
    },
    {
      "cell_type": "code",
      "source": [
        "# Load in the saved transformed data\n",
        "processed_bert_combined = spark.read.orc('gdrive/MyDrive/Colab_notebook/transformed_data/bert_sentence_train/')\n",
        "processed_bert_test_combined = spark.read.orc('gdrive/MyDrive/Colab_notebook/transformed_data/bert_sentence_test/')"
      ],
      "metadata": {
        "id": "NMVsdRSVy2xD"
      },
      "id": "NMVsdRSVy2xD",
      "execution_count": 10,
      "outputs": []
    },
    {
      "cell_type": "markdown",
      "source": [
        "The dataframes are too big, so I decided to randomly split them and process them seperately."
      ],
      "metadata": {
        "id": "HE859nQuzG0m"
      },
      "id": "HE859nQuzG0m"
    },
    {
      "cell_type": "code",
      "source": [
        "bert_sen_tr1,bert_sen_tr2, bert_sen_tr3, bert_sen_tr4, bert_sen_tr5=processed_bert_combined.randomSplit([0.2, 0.2, 0.2, 0.2, 0.2])"
      ],
      "metadata": {
        "id": "mfRnKHUZZaKk"
      },
      "id": "mfRnKHUZZaKk",
      "execution_count": 31,
      "outputs": []
    },
    {
      "cell_type": "code",
      "source": [
        "# Define function to compute average embedding vector\n",
        "def average_emb(df):\n",
        "  for i in range(len(df)):\n",
        "    new_embedding_list=[]\n",
        "    embedding_list=df['features'][i]\n",
        "    for k in range(len(embedding_list)):\n",
        "      sentence_embedding=embedding_list[k][3]\n",
        "      new_embedding_list.append(sentence_embedding)\n",
        "    df['features'][i]=[sum(sub_list) / len(sub_list) for sub_list in zip(*new_embedding_list)]\n",
        "  return(df)"
      ],
      "metadata": {
        "id": "QGYIV7GkmZP7"
      },
      "id": "QGYIV7GkmZP7",
      "execution_count": 56,
      "outputs": []
    },
    {
      "cell_type": "code",
      "source": [
        "pd_tr1=bert_sen_tr1.toPandas()\n",
        "pd_tr1=average_emb(pd_tr1)"
      ],
      "metadata": {
        "id": "GWL-JpCxjLIM"
      },
      "id": "GWL-JpCxjLIM",
      "execution_count": 32,
      "outputs": []
    },
    {
      "cell_type": "code",
      "source": [
        "pd_tr2=bert_sen_tr2.toPandas()\n",
        "pd_tr2=average_emb(pd_tr2)"
      ],
      "metadata": {
        "colab": {
          "base_uri": "https://localhost:8080/"
        },
        "id": "vtUUp5fQktQs",
        "outputId": "46c4b705-0d9e-4726-dd55-fd2f3646f9f1"
      },
      "id": "vtUUp5fQktQs",
      "execution_count": 64,
      "outputs": [
        {
          "output_type": "stream",
          "name": "stderr",
          "text": [
            "/usr/local/lib/python3.7/dist-packages/ipykernel_launcher.py:9: SettingWithCopyWarning: \n",
            "A value is trying to be set on a copy of a slice from a DataFrame\n",
            "\n",
            "See the caveats in the documentation: https://pandas.pydata.org/pandas-docs/stable/user_guide/indexing.html#returning-a-view-versus-a-copy\n",
            "  if __name__ == '__main__':\n"
          ]
        }
      ]
    },
    {
      "cell_type": "code",
      "source": [
        "pd_tr3=bert_sen_tr3.toPandas()\n",
        "pd_tr3=average_emb(pd_tr3)"
      ],
      "metadata": {
        "colab": {
          "base_uri": "https://localhost:8080/"
        },
        "id": "RmOqe8chs5_0",
        "outputId": "09e16430-b2bd-435f-db39-5f9f94bcb86c"
      },
      "id": "RmOqe8chs5_0",
      "execution_count": 65,
      "outputs": [
        {
          "output_type": "stream",
          "name": "stderr",
          "text": [
            "/usr/local/lib/python3.7/dist-packages/ipykernel_launcher.py:9: SettingWithCopyWarning: \n",
            "A value is trying to be set on a copy of a slice from a DataFrame\n",
            "\n",
            "See the caveats in the documentation: https://pandas.pydata.org/pandas-docs/stable/user_guide/indexing.html#returning-a-view-versus-a-copy\n",
            "  if __name__ == '__main__':\n"
          ]
        }
      ]
    },
    {
      "cell_type": "code",
      "source": [
        "pd_tr4=bert_sen_tr4.toPandas()\n",
        "pd_tr4=average_emb(pd_tr4)"
      ],
      "metadata": {
        "colab": {
          "base_uri": "https://localhost:8080/"
        },
        "id": "cMKQYdtLtYuU",
        "outputId": "f7346fac-5d8a-4771-dd1d-3f2b260d9773"
      },
      "id": "cMKQYdtLtYuU",
      "execution_count": 66,
      "outputs": [
        {
          "output_type": "stream",
          "name": "stderr",
          "text": [
            "/usr/local/lib/python3.7/dist-packages/ipykernel_launcher.py:9: SettingWithCopyWarning: \n",
            "A value is trying to be set on a copy of a slice from a DataFrame\n",
            "\n",
            "See the caveats in the documentation: https://pandas.pydata.org/pandas-docs/stable/user_guide/indexing.html#returning-a-view-versus-a-copy\n",
            "  if __name__ == '__main__':\n"
          ]
        }
      ]
    },
    {
      "cell_type": "code",
      "source": [
        "pd_tr5=bert_sen_tr5.toPandas()\n",
        "pd_tr5=average_emb(pd_tr5)"
      ],
      "metadata": {
        "colab": {
          "base_uri": "https://localhost:8080/"
        },
        "id": "LpGVb2E6tduv",
        "outputId": "634ed6f3-f5e8-4a53-f7af-d49ecfb17e31"
      },
      "id": "LpGVb2E6tduv",
      "execution_count": 67,
      "outputs": [
        {
          "output_type": "stream",
          "name": "stderr",
          "text": [
            "/usr/local/lib/python3.7/dist-packages/ipykernel_launcher.py:9: SettingWithCopyWarning: \n",
            "A value is trying to be set on a copy of a slice from a DataFrame\n",
            "\n",
            "See the caveats in the documentation: https://pandas.pydata.org/pandas-docs/stable/user_guide/indexing.html#returning-a-view-versus-a-copy\n",
            "  if __name__ == '__main__':\n"
          ]
        }
      ]
    },
    {
      "cell_type": "code",
      "source": [
        "pd_train=pd.concat([pd_tr1,pd_tr2,pd_tr3,pd_tr4,pd_tr5]).reset_index(drop=True)"
      ],
      "metadata": {
        "id": "Y2ztzob4t_y1"
      },
      "id": "Y2ztzob4t_y1",
      "execution_count": 119,
      "outputs": []
    },
    {
      "cell_type": "code",
      "execution_count": 69,
      "id": "5e2ddf8e",
      "metadata": {
        "id": "5e2ddf8e"
      },
      "outputs": [],
      "source": [
        "pd_train.to_csv(\"gdrive/MyDrive/Colab_notebook/transformed_data/bert_sentence_train.csv\")"
      ]
    },
    {
      "cell_type": "code",
      "source": [
        "# Randomly sample 30% of the original test set. This is should be enough for the prediction evaluation\n",
        "processed_bert_test_combined=processed_bert_test_combined.sample(withReplacement=False, fraction=0.3, seed=None)"
      ],
      "metadata": {
        "id": "J7hEJkV-vT33"
      },
      "id": "J7hEJkV-vT33",
      "execution_count": 74,
      "outputs": []
    },
    {
      "cell_type": "code",
      "source": [
        "bert_sen_te1,bert_sen_te2, bert_sen_te3, bert_sen_te4=processed_bert_test_combined.randomSplit([0.25, 0.25, 0.25, 0.25])"
      ],
      "metadata": {
        "id": "kiHMH89gwn9j"
      },
      "id": "kiHMH89gwn9j",
      "execution_count": 76,
      "outputs": []
    },
    {
      "cell_type": "code",
      "source": [
        "pd_te1=bert_sen_te1.toPandas()\n",
        "pd_te1=average_emb(pd_te1)"
      ],
      "metadata": {
        "colab": {
          "base_uri": "https://localhost:8080/"
        },
        "id": "Dr7VhND-wzT7",
        "outputId": "589943bc-ff98-4292-cd6e-e7c3038bd423"
      },
      "id": "Dr7VhND-wzT7",
      "execution_count": 78,
      "outputs": [
        {
          "output_type": "stream",
          "name": "stderr",
          "text": [
            "/usr/local/lib/python3.7/dist-packages/ipykernel_launcher.py:9: SettingWithCopyWarning: \n",
            "A value is trying to be set on a copy of a slice from a DataFrame\n",
            "\n",
            "See the caveats in the documentation: https://pandas.pydata.org/pandas-docs/stable/user_guide/indexing.html#returning-a-view-versus-a-copy\n",
            "  if __name__ == '__main__':\n"
          ]
        }
      ]
    },
    {
      "cell_type": "code",
      "source": [
        "pd_te2=bert_sen_te2.toPandas()\n",
        "pd_te2=average_emb(pd_te2)"
      ],
      "metadata": {
        "colab": {
          "base_uri": "https://localhost:8080/"
        },
        "id": "wV-umSMVxJkv",
        "outputId": "22bde2d5-93fc-4a47-e728-fee97645942f"
      },
      "id": "wV-umSMVxJkv",
      "execution_count": 79,
      "outputs": [
        {
          "output_type": "stream",
          "name": "stderr",
          "text": [
            "/usr/local/lib/python3.7/dist-packages/ipykernel_launcher.py:9: SettingWithCopyWarning: \n",
            "A value is trying to be set on a copy of a slice from a DataFrame\n",
            "\n",
            "See the caveats in the documentation: https://pandas.pydata.org/pandas-docs/stable/user_guide/indexing.html#returning-a-view-versus-a-copy\n",
            "  if __name__ == '__main__':\n"
          ]
        }
      ]
    },
    {
      "cell_type": "code",
      "source": [
        "pd_te3=bert_sen_te3.toPandas()\n",
        "pd_te3=average_emb(pd_te3)"
      ],
      "metadata": {
        "colab": {
          "base_uri": "https://localhost:8080/"
        },
        "id": "EJsN9uzSxMvK",
        "outputId": "29d39d70-6bb8-4eac-fe50-59cf009b0370"
      },
      "id": "EJsN9uzSxMvK",
      "execution_count": 80,
      "outputs": [
        {
          "output_type": "stream",
          "name": "stderr",
          "text": [
            "/usr/local/lib/python3.7/dist-packages/ipykernel_launcher.py:9: SettingWithCopyWarning: \n",
            "A value is trying to be set on a copy of a slice from a DataFrame\n",
            "\n",
            "See the caveats in the documentation: https://pandas.pydata.org/pandas-docs/stable/user_guide/indexing.html#returning-a-view-versus-a-copy\n",
            "  if __name__ == '__main__':\n"
          ]
        }
      ]
    },
    {
      "cell_type": "code",
      "source": [
        "pd_te4=bert_sen_te4.toPandas()\n",
        "pd_te4=average_emb(pd_te4)"
      ],
      "metadata": {
        "colab": {
          "base_uri": "https://localhost:8080/"
        },
        "id": "kMHaTOR2xwah",
        "outputId": "54e31ebd-e304-441b-eeb1-d436dea22bb7"
      },
      "id": "kMHaTOR2xwah",
      "execution_count": 81,
      "outputs": [
        {
          "output_type": "stream",
          "name": "stderr",
          "text": [
            "/usr/local/lib/python3.7/dist-packages/ipykernel_launcher.py:9: SettingWithCopyWarning: \n",
            "A value is trying to be set on a copy of a slice from a DataFrame\n",
            "\n",
            "See the caveats in the documentation: https://pandas.pydata.org/pandas-docs/stable/user_guide/indexing.html#returning-a-view-versus-a-copy\n",
            "  if __name__ == '__main__':\n"
          ]
        }
      ]
    },
    {
      "cell_type": "code",
      "source": [
        "pd_test=pd.concat([pd_te1,pd_te2,pd_te3,pd_te4])"
      ],
      "metadata": {
        "id": "HcmBa-14yZ1Y"
      },
      "id": "HcmBa-14yZ1Y",
      "execution_count": 83,
      "outputs": []
    },
    {
      "cell_type": "code",
      "execution_count": 84,
      "id": "2ea47511",
      "metadata": {
        "id": "2ea47511"
      },
      "outputs": [],
      "source": [
        "pd_test.to_csv(\"gdrive/MyDrive/Colab_notebook/transformed_data/bert_sentence_test.csv\")"
      ]
    },
    {
      "cell_type": "code",
      "source": [
        "pd_train=pd.read_csv(\"gdrive/MyDrive/Colab_notebook/transformed_data/bert_sentence_train.csv\")\n",
        "pd_test=pd.read_csv(\"gdrive/MyDrive/Colab_notebook/transformed_data/bert_sentence_test.csv\")"
      ],
      "metadata": {
        "id": "XWQ_3f9Bv9M0"
      },
      "id": "XWQ_3f9Bv9M0",
      "execution_count": 3,
      "outputs": []
    },
    {
      "cell_type": "code",
      "execution_count": 4,
      "id": "ad8d375d",
      "metadata": {
        "id": "ad8d375d",
        "colab": {
          "base_uri": "https://localhost:8080/"
        },
        "outputId": "ce54447d-e8f8-431e-8201-897155179a0d"
      },
      "outputs": [
        {
          "output_type": "stream",
          "name": "stderr",
          "text": [
            "/usr/local/lib/python3.7/dist-packages/ipykernel_launcher.py:1: UserWarning: Pandas doesn't allow columns to be created via a new attribute name - see https://pandas.pydata.org/pandas-docs/stable/indexing.html#attribute-access\n",
            "  \"\"\"Entry point for launching an IPython kernel.\n"
          ]
        }
      ],
      "source": [
        "pd_train.label=pd_train['min(label)'].astype(\"int\")"
      ]
    },
    {
      "cell_type": "code",
      "execution_count": 5,
      "id": "b86b1132",
      "metadata": {
        "id": "b86b1132",
        "colab": {
          "base_uri": "https://localhost:8080/"
        },
        "outputId": "c33bd0a8-d220-4bf6-a820-1a209a0ea0cf"
      },
      "outputs": [
        {
          "output_type": "stream",
          "name": "stderr",
          "text": [
            "/usr/local/lib/python3.7/dist-packages/ipykernel_launcher.py:1: UserWarning: Pandas doesn't allow columns to be created via a new attribute name - see https://pandas.pydata.org/pandas-docs/stable/indexing.html#attribute-access\n",
            "  \"\"\"Entry point for launching an IPython kernel.\n"
          ]
        }
      ],
      "source": [
        "pd_test.label=pd_test['min(label)'].astype(\"int\")"
      ]
    },
    {
      "cell_type": "code",
      "execution_count": 6,
      "id": "7a3e52c2",
      "metadata": {
        "id": "7a3e52c2"
      },
      "outputs": [],
      "source": [
        "X_train=pd_train.features\n",
        "y_train=pd_train['min(label)']"
      ]
    },
    {
      "cell_type": "code",
      "execution_count": 7,
      "id": "72d4cefd",
      "metadata": {
        "id": "72d4cefd"
      },
      "outputs": [],
      "source": [
        "X_test=pd_test.features\n",
        "y_test=pd_test['min(label)']"
      ]
    },
    {
      "cell_type": "code",
      "source": [
        "X_train_trans=[]\n",
        "for doc in X_train:\n",
        "    embedding=doc[1:-1]\n",
        "    embedding_list=embedding.split(\",\")\n",
        "    str_to_num_list=[]\n",
        "    for num_str in embedding_list:\n",
        "        str_to_num_list.append(float(num_str))\n",
        "    X_train_trans.append(str_to_num_list)"
      ],
      "metadata": {
        "id": "OU7XPOFWtVlT"
      },
      "id": "OU7XPOFWtVlT",
      "execution_count": 23,
      "outputs": []
    },
    {
      "cell_type": "code",
      "source": [
        "X_test_trans=[]\n",
        "for doc in X_test:\n",
        "    embedding=doc[1:-1]\n",
        "    embedding_list=embedding.split(\",\")\n",
        "    str_to_num_list=[]\n",
        "    for num_str in embedding_list:\n",
        "        str_to_num_list.append(float(num_str))\n",
        "    X_test_trans.append(str_to_num_list)"
      ],
      "metadata": {
        "id": "6XX4T_K3x1s0"
      },
      "id": "6XX4T_K3x1s0",
      "execution_count": 24,
      "outputs": []
    },
    {
      "cell_type": "markdown",
      "id": "ea9a0d6e",
      "metadata": {
        "id": "ea9a0d6e"
      },
      "source": [
        "## Modeling"
      ]
    },
    {
      "cell_type": "code",
      "execution_count": 25,
      "id": "d3c91cf6",
      "metadata": {
        "id": "d3c91cf6"
      },
      "outputs": [],
      "source": [
        "model_bert_sentence=[]\n",
        "Roc_auc_cv=[]\n",
        "Roc_auc_test=[]"
      ]
    },
    {
      "cell_type": "markdown",
      "id": "cf15a6b1",
      "metadata": {
        "id": "cf15a6b1"
      },
      "source": [
        "### Logistic Regression"
      ]
    },
    {
      "cell_type": "code",
      "source": [
        "!pip install scikit-optimize"
      ],
      "metadata": {
        "colab": {
          "base_uri": "https://localhost:8080/"
        },
        "id": "dbZInSVCyEga",
        "outputId": "f3ff58d1-b5f0-46d7-b195-d17329d89067"
      },
      "id": "dbZInSVCyEga",
      "execution_count": 29,
      "outputs": [
        {
          "output_type": "stream",
          "name": "stdout",
          "text": [
            "Collecting scikit-optimize\n",
            "  Downloading scikit_optimize-0.9.0-py2.py3-none-any.whl (100 kB)\n",
            "\u001b[?25l\r\u001b[K     |███▎                            | 10 kB 19.8 MB/s eta 0:00:01\r\u001b[K     |██████▌                         | 20 kB 10.7 MB/s eta 0:00:01\r\u001b[K     |█████████▉                      | 30 kB 8.4 MB/s eta 0:00:01\r\u001b[K     |█████████████                   | 40 kB 7.7 MB/s eta 0:00:01\r\u001b[K     |████████████████▍               | 51 kB 4.5 MB/s eta 0:00:01\r\u001b[K     |███████████████████▋            | 61 kB 5.3 MB/s eta 0:00:01\r\u001b[K     |██████████████████████▉         | 71 kB 5.1 MB/s eta 0:00:01\r\u001b[K     |██████████████████████████▏     | 81 kB 5.2 MB/s eta 0:00:01\r\u001b[K     |█████████████████████████████▍  | 92 kB 5.8 MB/s eta 0:00:01\r\u001b[K     |████████████████████████████████| 100 kB 4.0 MB/s \n",
            "\u001b[?25hRequirement already satisfied: joblib>=0.11 in /usr/local/lib/python3.7/dist-packages (from scikit-optimize) (1.1.0)\n",
            "Requirement already satisfied: numpy>=1.13.3 in /usr/local/lib/python3.7/dist-packages (from scikit-optimize) (1.21.5)\n",
            "Requirement already satisfied: scikit-learn>=0.20.0 in /usr/local/lib/python3.7/dist-packages (from scikit-optimize) (1.0.2)\n",
            "Requirement already satisfied: scipy>=0.19.1 in /usr/local/lib/python3.7/dist-packages (from scikit-optimize) (1.4.1)\n",
            "Collecting pyaml>=16.9\n",
            "  Downloading pyaml-21.10.1-py2.py3-none-any.whl (24 kB)\n",
            "Requirement already satisfied: PyYAML in /usr/local/lib/python3.7/dist-packages (from pyaml>=16.9->scikit-optimize) (3.13)\n",
            "Requirement already satisfied: threadpoolctl>=2.0.0 in /usr/local/lib/python3.7/dist-packages (from scikit-learn>=0.20.0->scikit-optimize) (3.1.0)\n",
            "Installing collected packages: pyaml, scikit-optimize\n",
            "Successfully installed pyaml-21.10.1 scikit-optimize-0.9.0\n"
          ]
        }
      ]
    },
    {
      "cell_type": "code",
      "execution_count": 30,
      "id": "23dfbec5",
      "metadata": {
        "id": "23dfbec5"
      },
      "outputs": [],
      "source": [
        "from sklearn.linear_model import LogisticRegression\n",
        "from sklearn.feature_extraction.text import TfidfVectorizer\n",
        "from sklearn.pipeline import Pipeline\n",
        "from sklearn.model_selection import cross_val_predict\n",
        "from sklearn.metrics import roc_curve\n",
        "from sklearn.metrics import roc_auc_score\n",
        "from sklearn.naive_bayes import MultinomialNB\n",
        "from sklearn.neighbors import KNeighborsClassifier\n",
        "from sklearn.model_selection import GridSearchCV\n",
        "from sklearn.model_selection import RepeatedStratifiedKFold\n",
        "from skopt import BayesSearchCV\n",
        "from sklearn.svm import LinearSVC\n",
        "from sklearn.feature_extraction.text import CountVectorizer\n",
        "from sklearn.tree import DecisionTreeClassifier\n",
        "from sklearn.model_selection import cross_val_score"
      ]
    },
    {
      "cell_type": "code",
      "execution_count": 31,
      "id": "87d99406",
      "metadata": {
        "id": "87d99406"
      },
      "outputs": [],
      "source": [
        "# bert vs Logistic regression\n",
        "solvers = ['newton-cg', 'lbfgs', 'liblinear']\n",
        "penalty = ['l2']\n",
        "c_values = [100, 10, 1.0, 0.1, 0.01]\n",
        "\n",
        "param= dict(solver=solvers,penalty=penalty,C=c_values)\n",
        "cv = RepeatedStratifiedKFold(n_splits=5, n_repeats=3, random_state=1)\n",
        "scoring='roc_auc'\n",
        "\n",
        "logistic_clf_bert = BayesSearchCV(estimator=LogisticRegression(), search_spaces=param, scoring=scoring, n_jobs=-1, cv=cv)"
      ]
    },
    {
      "cell_type": "code",
      "execution_count": 32,
      "id": "4959c548",
      "metadata": {
        "id": "4959c548",
        "colab": {
          "base_uri": "https://localhost:8080/"
        },
        "outputId": "ad8c6e58-c5a1-442a-8587-e2f47bd2081e"
      },
      "outputs": [
        {
          "output_type": "stream",
          "name": "stderr",
          "text": [
            "/usr/local/lib/python3.7/dist-packages/skopt/optimizer/optimizer.py:449: UserWarning: The objective has been evaluated at this point before.\n",
            "  warnings.warn(\"The objective has been evaluated \"\n",
            "/usr/local/lib/python3.7/dist-packages/skopt/optimizer/optimizer.py:449: UserWarning: The objective has been evaluated at this point before.\n",
            "  warnings.warn(\"The objective has been evaluated \"\n",
            "/usr/local/lib/python3.7/dist-packages/skopt/optimizer/optimizer.py:449: UserWarning: The objective has been evaluated at this point before.\n",
            "  warnings.warn(\"The objective has been evaluated \"\n",
            "/usr/local/lib/python3.7/dist-packages/skopt/optimizer/optimizer.py:449: UserWarning: The objective has been evaluated at this point before.\n",
            "  warnings.warn(\"The objective has been evaluated \"\n",
            "/usr/local/lib/python3.7/dist-packages/skopt/optimizer/optimizer.py:449: UserWarning: The objective has been evaluated at this point before.\n",
            "  warnings.warn(\"The objective has been evaluated \"\n",
            "/usr/local/lib/python3.7/dist-packages/skopt/optimizer/optimizer.py:449: UserWarning: The objective has been evaluated at this point before.\n",
            "  warnings.warn(\"The objective has been evaluated \"\n",
            "/usr/local/lib/python3.7/dist-packages/skopt/optimizer/optimizer.py:449: UserWarning: The objective has been evaluated at this point before.\n",
            "  warnings.warn(\"The objective has been evaluated \"\n",
            "/usr/local/lib/python3.7/dist-packages/skopt/optimizer/optimizer.py:449: UserWarning: The objective has been evaluated at this point before.\n",
            "  warnings.warn(\"The objective has been evaluated \"\n",
            "/usr/local/lib/python3.7/dist-packages/skopt/optimizer/optimizer.py:449: UserWarning: The objective has been evaluated at this point before.\n",
            "  warnings.warn(\"The objective has been evaluated \"\n",
            "/usr/local/lib/python3.7/dist-packages/skopt/optimizer/optimizer.py:449: UserWarning: The objective has been evaluated at this point before.\n",
            "  warnings.warn(\"The objective has been evaluated \"\n",
            "/usr/local/lib/python3.7/dist-packages/skopt/optimizer/optimizer.py:449: UserWarning: The objective has been evaluated at this point before.\n",
            "  warnings.warn(\"The objective has been evaluated \"\n",
            "/usr/local/lib/python3.7/dist-packages/skopt/optimizer/optimizer.py:449: UserWarning: The objective has been evaluated at this point before.\n",
            "  warnings.warn(\"The objective has been evaluated \"\n",
            "/usr/local/lib/python3.7/dist-packages/skopt/optimizer/optimizer.py:449: UserWarning: The objective has been evaluated at this point before.\n",
            "  warnings.warn(\"The objective has been evaluated \"\n",
            "/usr/local/lib/python3.7/dist-packages/skopt/optimizer/optimizer.py:449: UserWarning: The objective has been evaluated at this point before.\n",
            "  warnings.warn(\"The objective has been evaluated \"\n",
            "/usr/local/lib/python3.7/dist-packages/skopt/optimizer/optimizer.py:449: UserWarning: The objective has been evaluated at this point before.\n",
            "  warnings.warn(\"The objective has been evaluated \"\n",
            "/usr/local/lib/python3.7/dist-packages/skopt/optimizer/optimizer.py:449: UserWarning: The objective has been evaluated at this point before.\n",
            "  warnings.warn(\"The objective has been evaluated \"\n",
            "/usr/local/lib/python3.7/dist-packages/skopt/optimizer/optimizer.py:449: UserWarning: The objective has been evaluated at this point before.\n",
            "  warnings.warn(\"The objective has been evaluated \"\n",
            "/usr/local/lib/python3.7/dist-packages/skopt/optimizer/optimizer.py:449: UserWarning: The objective has been evaluated at this point before.\n",
            "  warnings.warn(\"The objective has been evaluated \"\n",
            "/usr/local/lib/python3.7/dist-packages/skopt/optimizer/optimizer.py:449: UserWarning: The objective has been evaluated at this point before.\n",
            "  warnings.warn(\"The objective has been evaluated \"\n",
            "/usr/local/lib/python3.7/dist-packages/skopt/optimizer/optimizer.py:449: UserWarning: The objective has been evaluated at this point before.\n",
            "  warnings.warn(\"The objective has been evaluated \"\n",
            "/usr/local/lib/python3.7/dist-packages/skopt/optimizer/optimizer.py:449: UserWarning: The objective has been evaluated at this point before.\n",
            "  warnings.warn(\"The objective has been evaluated \"\n",
            "/usr/local/lib/python3.7/dist-packages/skopt/optimizer/optimizer.py:449: UserWarning: The objective has been evaluated at this point before.\n",
            "  warnings.warn(\"The objective has been evaluated \"\n",
            "/usr/local/lib/python3.7/dist-packages/skopt/optimizer/optimizer.py:449: UserWarning: The objective has been evaluated at this point before.\n",
            "  warnings.warn(\"The objective has been evaluated \"\n",
            "/usr/local/lib/python3.7/dist-packages/skopt/optimizer/optimizer.py:449: UserWarning: The objective has been evaluated at this point before.\n",
            "  warnings.warn(\"The objective has been evaluated \"\n",
            "/usr/local/lib/python3.7/dist-packages/skopt/optimizer/optimizer.py:449: UserWarning: The objective has been evaluated at this point before.\n",
            "  warnings.warn(\"The objective has been evaluated \"\n",
            "/usr/local/lib/python3.7/dist-packages/skopt/optimizer/optimizer.py:449: UserWarning: The objective has been evaluated at this point before.\n",
            "  warnings.warn(\"The objective has been evaluated \"\n",
            "/usr/local/lib/python3.7/dist-packages/skopt/optimizer/optimizer.py:449: UserWarning: The objective has been evaluated at this point before.\n",
            "  warnings.warn(\"The objective has been evaluated \"\n",
            "/usr/local/lib/python3.7/dist-packages/skopt/optimizer/optimizer.py:449: UserWarning: The objective has been evaluated at this point before.\n",
            "  warnings.warn(\"The objective has been evaluated \"\n",
            "/usr/local/lib/python3.7/dist-packages/skopt/optimizer/optimizer.py:449: UserWarning: The objective has been evaluated at this point before.\n",
            "  warnings.warn(\"The objective has been evaluated \"\n",
            "/usr/local/lib/python3.7/dist-packages/skopt/optimizer/optimizer.py:449: UserWarning: The objective has been evaluated at this point before.\n",
            "  warnings.warn(\"The objective has been evaluated \"\n",
            "/usr/local/lib/python3.7/dist-packages/skopt/optimizer/optimizer.py:449: UserWarning: The objective has been evaluated at this point before.\n",
            "  warnings.warn(\"The objective has been evaluated \"\n",
            "/usr/local/lib/python3.7/dist-packages/skopt/optimizer/optimizer.py:449: UserWarning: The objective has been evaluated at this point before.\n",
            "  warnings.warn(\"The objective has been evaluated \"\n",
            "/usr/local/lib/python3.7/dist-packages/sklearn/linear_model/_logistic.py:818: ConvergenceWarning: lbfgs failed to converge (status=1):\n",
            "STOP: TOTAL NO. of ITERATIONS REACHED LIMIT.\n",
            "\n",
            "Increase the number of iterations (max_iter) or scale the data as shown in:\n",
            "    https://scikit-learn.org/stable/modules/preprocessing.html\n",
            "Please also refer to the documentation for alternative solver options:\n",
            "    https://scikit-learn.org/stable/modules/linear_model.html#logistic-regression\n",
            "  extra_warning_msg=_LOGISTIC_SOLVER_CONVERGENCE_MSG,\n"
          ]
        },
        {
          "output_type": "execute_result",
          "data": {
            "text/plain": [
              "BayesSearchCV(cv=RepeatedStratifiedKFold(n_repeats=3, n_splits=5, random_state=1),\n",
              "              estimator=LogisticRegression(), n_jobs=-1, scoring='roc_auc',\n",
              "              search_spaces={'C': [100, 10, 1.0, 0.1, 0.01], 'penalty': ['l2'],\n",
              "                             'solver': ['newton-cg', 'lbfgs', 'liblinear']})"
            ]
          },
          "metadata": {},
          "execution_count": 32
        }
      ],
      "source": [
        "logistic_clf_bert.fit(X_train_trans,y_train)"
      ]
    },
    {
      "cell_type": "code",
      "execution_count": 35,
      "id": "4fe29230",
      "metadata": {
        "id": "4fe29230"
      },
      "outputs": [],
      "source": [
        "import pickle\n",
        "with open('gdrive/MyDrive/Colab_notebook/Models_Pipelines/logistic_clf_bert_sent.pkl','wb') as f:\n",
        "    pickle.dump(logistic_clf_bert,f)"
      ]
    },
    {
      "cell_type": "code",
      "execution_count": 36,
      "id": "fd59d941",
      "metadata": {
        "id": "fd59d941"
      },
      "outputs": [],
      "source": [
        "with open('gdrive/MyDrive/Colab_notebook/Models_Pipelines/logistic_clf_bert_sent.pkl', 'rb') as f:\n",
        "    logistic_clf_bert = pickle.load(f)"
      ]
    },
    {
      "cell_type": "code",
      "execution_count": 37,
      "id": "5559134f",
      "metadata": {
        "id": "5559134f"
      },
      "outputs": [],
      "source": [
        "logistic_clf_bert_best=logistic_clf_bert.best_score_"
      ]
    },
    {
      "cell_type": "code",
      "execution_count": 38,
      "id": "6301dc8a",
      "metadata": {
        "id": "6301dc8a",
        "colab": {
          "base_uri": "https://localhost:8080/"
        },
        "outputId": "ba2b4808-0a26-4eb7-dcbe-496a53aec661"
      },
      "outputs": [
        {
          "output_type": "execute_result",
          "data": {
            "text/plain": [
              "0.6684509135299453"
            ]
          },
          "metadata": {},
          "execution_count": 38
        }
      ],
      "source": [
        "logistic_clf_bert_best"
      ]
    },
    {
      "cell_type": "code",
      "execution_count": 39,
      "id": "72c0b8c3",
      "metadata": {
        "id": "72c0b8c3"
      },
      "outputs": [],
      "source": [
        "y_prob_logistic_clf_bert = logistic_clf_bert.predict_proba(X_test_trans)\n",
        "roc_auc_y_prob_logistic_clf_bert=roc_auc_score(y_test, y_prob_logistic_clf_bert[:,1])"
      ]
    },
    {
      "cell_type": "code",
      "execution_count": 40,
      "id": "d83973c2",
      "metadata": {
        "id": "d83973c2",
        "colab": {
          "base_uri": "https://localhost:8080/"
        },
        "outputId": "2a2be476-a0ec-4bec-a726-89fd7cbc7b53"
      },
      "outputs": [
        {
          "output_type": "execute_result",
          "data": {
            "text/plain": [
              "0.6808877195268972"
            ]
          },
          "metadata": {},
          "execution_count": 40
        }
      ],
      "source": [
        "roc_auc_y_prob_logistic_clf_bert"
      ]
    },
    {
      "cell_type": "code",
      "execution_count": null,
      "id": "04e74ec8",
      "metadata": {
        "id": "04e74ec8"
      },
      "outputs": [],
      "source": [
        "model_bert.append(\"Logistic Regression\")\n",
        "Roc_auc_cv.append(logistic_clf_bert_best)\n",
        "Roc_auc_test.append(roc_auc_y_prob_logistic_clf_bert)"
      ]
    },
    {
      "cell_type": "markdown",
      "id": "5e3c6652",
      "metadata": {
        "id": "5e3c6652"
      },
      "source": [
        "### Naive Bayes"
      ]
    },
    {
      "cell_type": "markdown",
      "id": "e96c9cde",
      "metadata": {
        "id": "e96c9cde"
      },
      "source": [
        "Naive Bayes doesn't allow negative inputs (there're negative numbers in word embeddings) so I'll skip the combination of GloVe and Naive Bayes"
      ]
    },
    {
      "cell_type": "markdown",
      "id": "90460909",
      "metadata": {
        "id": "90460909"
      },
      "source": [
        "### Decision Tree"
      ]
    },
    {
      "cell_type": "code",
      "execution_count": null,
      "id": "3c920edd",
      "metadata": {
        "id": "3c920edd"
      },
      "outputs": [],
      "source": [
        "from sklearn.tree import DecisionTreeClassifier\n",
        "\n",
        "max_depth=[2, 3, 5, 10, 20]\n",
        "min_samples_leaf=[5, 10, 20, 50, 100]\n",
        "criterion=[\"gini\", \"entropy\"]\n",
        "\n",
        "param= dict(max_depth=max_depth,min_samples_leaf=min_samples_leaf,criterion=criterion)\n",
        "cv = RepeatedStratifiedKFold(n_splits=5, n_repeats=3, random_state=1)\n",
        "scoring='roc_auc'\n",
        "\n",
        "dec_tree_clf_bert = BayesSearchCV(estimator=DecisionTreeClassifier(), search_spaces=param, scoring=scoring, n_jobs=-1, cv=cv)"
      ]
    },
    {
      "cell_type": "code",
      "execution_count": null,
      "id": "2a406e5a",
      "metadata": {
        "id": "2a406e5a"
      },
      "outputs": [],
      "source": [
        "dec_tree_clf_bert.fit(X_train_trans,y_train)"
      ]
    },
    {
      "cell_type": "code",
      "execution_count": null,
      "id": "c7e2d834",
      "metadata": {
        "id": "c7e2d834"
      },
      "outputs": [],
      "source": [
        "import pickle\n",
        "with open('/Models_Pipelines/dec_tree_clf_bert.pkl','wb') as f:\n",
        "    pickle.dump(dec_tree_clf_bert,f)"
      ]
    },
    {
      "cell_type": "code",
      "execution_count": null,
      "id": "540a86cf",
      "metadata": {
        "id": "540a86cf"
      },
      "outputs": [],
      "source": [
        "with open('/Models_Pipelines/dec_tree_clf_bert.pkl', 'rb') as f:\n",
        "    dec_tree_clf_bert = pickle.load(f)"
      ]
    },
    {
      "cell_type": "code",
      "execution_count": null,
      "id": "5bdc57cb",
      "metadata": {
        "id": "5bdc57cb"
      },
      "outputs": [],
      "source": [
        "dec_tree_clf_bert_best=dec_tree_clf_bert.best_score_"
      ]
    },
    {
      "cell_type": "code",
      "execution_count": null,
      "id": "c5500f6d",
      "metadata": {
        "id": "c5500f6d"
      },
      "outputs": [],
      "source": [
        "dec_tree_clf_bert_best"
      ]
    },
    {
      "cell_type": "code",
      "execution_count": null,
      "id": "74e18987",
      "metadata": {
        "id": "74e18987"
      },
      "outputs": [],
      "source": [
        "y_prob_dec_tree_clf_bert = dec_tree_clf_bert.predict_proba(X_test_trans)\n",
        "roc_auc_dec_tree_clf_bert=roc_auc_score(y_test, y_prob_dec_tree_clf_bert[:,1])"
      ]
    },
    {
      "cell_type": "code",
      "execution_count": null,
      "id": "f6a1597f",
      "metadata": {
        "id": "f6a1597f"
      },
      "outputs": [],
      "source": [
        "roc_auc_dec_tree_clf_bert"
      ]
    },
    {
      "cell_type": "code",
      "execution_count": null,
      "id": "aefb5b99",
      "metadata": {
        "id": "aefb5b99"
      },
      "outputs": [],
      "source": [
        "model_bert.append(\"Decision Tree\")\n",
        "Roc_auc_cv.append(dec_tree_clf_bert_best)\n",
        "Roc_auc_test.append(roc_auc_dec_tree_clf_bert)"
      ]
    },
    {
      "cell_type": "markdown",
      "id": "9bb05190",
      "metadata": {
        "id": "9bb05190"
      },
      "source": [
        "### Linear SVM"
      ]
    },
    {
      "cell_type": "code",
      "execution_count": 41,
      "id": "dc2db44e",
      "metadata": {
        "id": "dc2db44e"
      },
      "outputs": [],
      "source": [
        "c_values=[100, 10, 1.0, 0.1, 0.01]\n",
        "\n",
        "param= dict(C=c_values)\n",
        "cv = RepeatedStratifiedKFold(n_splits=5, n_repeats=3, random_state=1)\n",
        "scoring='roc_auc'\n",
        "\n",
        "lsvc_clf_bert = BayesSearchCV(estimator=LinearSVC(), search_spaces=param, scoring=scoring, n_jobs=-1, cv=cv)"
      ]
    },
    {
      "cell_type": "code",
      "execution_count": 42,
      "id": "5767c0d2",
      "metadata": {
        "id": "5767c0d2",
        "colab": {
          "base_uri": "https://localhost:8080/"
        },
        "outputId": "5128ce6d-7043-4495-d4df-b54ee9b3c548"
      },
      "outputs": [
        {
          "output_type": "stream",
          "name": "stderr",
          "text": [
            "/usr/local/lib/python3.7/dist-packages/skopt/optimizer/optimizer.py:449: UserWarning: The objective has been evaluated at this point before.\n",
            "  warnings.warn(\"The objective has been evaluated \"\n",
            "/usr/local/lib/python3.7/dist-packages/skopt/optimizer/optimizer.py:449: UserWarning: The objective has been evaluated at this point before.\n",
            "  warnings.warn(\"The objective has been evaluated \"\n",
            "/usr/local/lib/python3.7/dist-packages/skopt/optimizer/optimizer.py:449: UserWarning: The objective has been evaluated at this point before.\n",
            "  warnings.warn(\"The objective has been evaluated \"\n",
            "/usr/local/lib/python3.7/dist-packages/skopt/optimizer/optimizer.py:449: UserWarning: The objective has been evaluated at this point before.\n",
            "  warnings.warn(\"The objective has been evaluated \"\n",
            "/usr/local/lib/python3.7/dist-packages/skopt/optimizer/optimizer.py:449: UserWarning: The objective has been evaluated at this point before.\n",
            "  warnings.warn(\"The objective has been evaluated \"\n",
            "/usr/local/lib/python3.7/dist-packages/skopt/optimizer/optimizer.py:449: UserWarning: The objective has been evaluated at this point before.\n",
            "  warnings.warn(\"The objective has been evaluated \"\n",
            "/usr/local/lib/python3.7/dist-packages/skopt/optimizer/optimizer.py:449: UserWarning: The objective has been evaluated at this point before.\n",
            "  warnings.warn(\"The objective has been evaluated \"\n",
            "/usr/local/lib/python3.7/dist-packages/skopt/optimizer/optimizer.py:449: UserWarning: The objective has been evaluated at this point before.\n",
            "  warnings.warn(\"The objective has been evaluated \"\n",
            "/usr/local/lib/python3.7/dist-packages/skopt/optimizer/optimizer.py:449: UserWarning: The objective has been evaluated at this point before.\n",
            "  warnings.warn(\"The objective has been evaluated \"\n",
            "/usr/local/lib/python3.7/dist-packages/skopt/optimizer/optimizer.py:449: UserWarning: The objective has been evaluated at this point before.\n",
            "  warnings.warn(\"The objective has been evaluated \"\n",
            "/usr/local/lib/python3.7/dist-packages/skopt/optimizer/optimizer.py:449: UserWarning: The objective has been evaluated at this point before.\n",
            "  warnings.warn(\"The objective has been evaluated \"\n",
            "/usr/local/lib/python3.7/dist-packages/skopt/optimizer/optimizer.py:449: UserWarning: The objective has been evaluated at this point before.\n",
            "  warnings.warn(\"The objective has been evaluated \"\n",
            "/usr/local/lib/python3.7/dist-packages/skopt/optimizer/optimizer.py:449: UserWarning: The objective has been evaluated at this point before.\n",
            "  warnings.warn(\"The objective has been evaluated \"\n",
            "/usr/local/lib/python3.7/dist-packages/skopt/optimizer/optimizer.py:449: UserWarning: The objective has been evaluated at this point before.\n",
            "  warnings.warn(\"The objective has been evaluated \"\n",
            "/usr/local/lib/python3.7/dist-packages/skopt/optimizer/optimizer.py:449: UserWarning: The objective has been evaluated at this point before.\n",
            "  warnings.warn(\"The objective has been evaluated \"\n",
            "/usr/local/lib/python3.7/dist-packages/skopt/optimizer/optimizer.py:449: UserWarning: The objective has been evaluated at this point before.\n",
            "  warnings.warn(\"The objective has been evaluated \"\n",
            "/usr/local/lib/python3.7/dist-packages/skopt/optimizer/optimizer.py:449: UserWarning: The objective has been evaluated at this point before.\n",
            "  warnings.warn(\"The objective has been evaluated \"\n",
            "/usr/local/lib/python3.7/dist-packages/skopt/optimizer/optimizer.py:449: UserWarning: The objective has been evaluated at this point before.\n",
            "  warnings.warn(\"The objective has been evaluated \"\n",
            "/usr/local/lib/python3.7/dist-packages/skopt/optimizer/optimizer.py:449: UserWarning: The objective has been evaluated at this point before.\n",
            "  warnings.warn(\"The objective has been evaluated \"\n",
            "/usr/local/lib/python3.7/dist-packages/skopt/optimizer/optimizer.py:449: UserWarning: The objective has been evaluated at this point before.\n",
            "  warnings.warn(\"The objective has been evaluated \"\n",
            "/usr/local/lib/python3.7/dist-packages/skopt/optimizer/optimizer.py:449: UserWarning: The objective has been evaluated at this point before.\n",
            "  warnings.warn(\"The objective has been evaluated \"\n",
            "/usr/local/lib/python3.7/dist-packages/skopt/optimizer/optimizer.py:449: UserWarning: The objective has been evaluated at this point before.\n",
            "  warnings.warn(\"The objective has been evaluated \"\n",
            "/usr/local/lib/python3.7/dist-packages/skopt/optimizer/optimizer.py:449: UserWarning: The objective has been evaluated at this point before.\n",
            "  warnings.warn(\"The objective has been evaluated \"\n",
            "/usr/local/lib/python3.7/dist-packages/skopt/optimizer/optimizer.py:449: UserWarning: The objective has been evaluated at this point before.\n",
            "  warnings.warn(\"The objective has been evaluated \"\n",
            "/usr/local/lib/python3.7/dist-packages/skopt/optimizer/optimizer.py:449: UserWarning: The objective has been evaluated at this point before.\n",
            "  warnings.warn(\"The objective has been evaluated \"\n",
            "/usr/local/lib/python3.7/dist-packages/skopt/optimizer/optimizer.py:449: UserWarning: The objective has been evaluated at this point before.\n",
            "  warnings.warn(\"The objective has been evaluated \"\n",
            "/usr/local/lib/python3.7/dist-packages/skopt/optimizer/optimizer.py:449: UserWarning: The objective has been evaluated at this point before.\n",
            "  warnings.warn(\"The objective has been evaluated \"\n",
            "/usr/local/lib/python3.7/dist-packages/skopt/optimizer/optimizer.py:449: UserWarning: The objective has been evaluated at this point before.\n",
            "  warnings.warn(\"The objective has been evaluated \"\n",
            "/usr/local/lib/python3.7/dist-packages/skopt/optimizer/optimizer.py:449: UserWarning: The objective has been evaluated at this point before.\n",
            "  warnings.warn(\"The objective has been evaluated \"\n",
            "/usr/local/lib/python3.7/dist-packages/skopt/optimizer/optimizer.py:449: UserWarning: The objective has been evaluated at this point before.\n",
            "  warnings.warn(\"The objective has been evaluated \"\n",
            "/usr/local/lib/python3.7/dist-packages/skopt/optimizer/optimizer.py:449: UserWarning: The objective has been evaluated at this point before.\n",
            "  warnings.warn(\"The objective has been evaluated \"\n",
            "/usr/local/lib/python3.7/dist-packages/skopt/optimizer/optimizer.py:449: UserWarning: The objective has been evaluated at this point before.\n",
            "  warnings.warn(\"The objective has been evaluated \"\n",
            "/usr/local/lib/python3.7/dist-packages/skopt/optimizer/optimizer.py:449: UserWarning: The objective has been evaluated at this point before.\n",
            "  warnings.warn(\"The objective has been evaluated \"\n",
            "/usr/local/lib/python3.7/dist-packages/skopt/optimizer/optimizer.py:449: UserWarning: The objective has been evaluated at this point before.\n",
            "  warnings.warn(\"The objective has been evaluated \"\n",
            "/usr/local/lib/python3.7/dist-packages/skopt/optimizer/optimizer.py:449: UserWarning: The objective has been evaluated at this point before.\n",
            "  warnings.warn(\"The objective has been evaluated \"\n",
            "/usr/local/lib/python3.7/dist-packages/skopt/optimizer/optimizer.py:449: UserWarning: The objective has been evaluated at this point before.\n",
            "  warnings.warn(\"The objective has been evaluated \"\n",
            "/usr/local/lib/python3.7/dist-packages/skopt/optimizer/optimizer.py:449: UserWarning: The objective has been evaluated at this point before.\n",
            "  warnings.warn(\"The objective has been evaluated \"\n",
            "/usr/local/lib/python3.7/dist-packages/skopt/optimizer/optimizer.py:449: UserWarning: The objective has been evaluated at this point before.\n",
            "  warnings.warn(\"The objective has been evaluated \"\n",
            "/usr/local/lib/python3.7/dist-packages/skopt/optimizer/optimizer.py:449: UserWarning: The objective has been evaluated at this point before.\n",
            "  warnings.warn(\"The objective has been evaluated \"\n"
          ]
        },
        {
          "output_type": "execute_result",
          "data": {
            "text/plain": [
              "BayesSearchCV(cv=RepeatedStratifiedKFold(n_repeats=3, n_splits=5, random_state=1),\n",
              "              estimator=LinearSVC(), n_jobs=-1, scoring='roc_auc',\n",
              "              search_spaces={'C': [100, 10, 1.0, 0.1, 0.01]})"
            ]
          },
          "metadata": {},
          "execution_count": 42
        }
      ],
      "source": [
        "lsvc_clf_bert.fit(X_train_trans,y_train)"
      ]
    },
    {
      "cell_type": "code",
      "execution_count": 43,
      "id": "2d9aeda8",
      "metadata": {
        "id": "2d9aeda8"
      },
      "outputs": [],
      "source": [
        "with open('gdrive/MyDrive/Colab_notebook/Models_Pipelines/lsvc_clf_bert_sent.pkl','wb') as f:\n",
        "    pickle.dump(lsvc_clf_bert,f)"
      ]
    },
    {
      "cell_type": "code",
      "execution_count": null,
      "id": "8a6ce8c9",
      "metadata": {
        "id": "8a6ce8c9"
      },
      "outputs": [],
      "source": [
        "with open('gdrive/MyDrive/Colab_notebook/Models_Pipelines/lsvc_clf_bert_sent.pkl', 'rb') as f:\n",
        "    lsvc_clf_bert = pickle.load(f)"
      ]
    },
    {
      "cell_type": "code",
      "execution_count": 44,
      "id": "09518956",
      "metadata": {
        "id": "09518956"
      },
      "outputs": [],
      "source": [
        "lsvc_clf_bert_best=lsvc_clf_bert.best_score_"
      ]
    },
    {
      "cell_type": "code",
      "execution_count": 45,
      "id": "095a7aae",
      "metadata": {
        "id": "095a7aae",
        "colab": {
          "base_uri": "https://localhost:8080/"
        },
        "outputId": "648650cb-d859-4ac9-b3ad-7171006ba763"
      },
      "outputs": [
        {
          "output_type": "execute_result",
          "data": {
            "text/plain": [
              "0.6676629449334933"
            ]
          },
          "metadata": {},
          "execution_count": 45
        }
      ],
      "source": [
        "lsvc_clf_bert_best"
      ]
    },
    {
      "cell_type": "code",
      "execution_count": 46,
      "id": "2a7eae5c",
      "metadata": {
        "id": "2a7eae5c"
      },
      "outputs": [],
      "source": [
        "y_dec_func_lsvc_clf_bert=lsvc_clf_bert.decision_function(X_test_trans)\n",
        "roc_auc_lsvc_clf_bert=roc_auc_score(y_test, y_dec_func_lsvc_clf_bert)"
      ]
    },
    {
      "cell_type": "code",
      "execution_count": 47,
      "id": "9c4e3818",
      "metadata": {
        "id": "9c4e3818",
        "colab": {
          "base_uri": "https://localhost:8080/"
        },
        "outputId": "443aa966-6fbf-46e7-c1a3-9188cae9d9b5"
      },
      "outputs": [
        {
          "output_type": "execute_result",
          "data": {
            "text/plain": [
              "0.6793033788407024"
            ]
          },
          "metadata": {},
          "execution_count": 47
        }
      ],
      "source": [
        "roc_auc_lsvc_clf_bert"
      ]
    },
    {
      "cell_type": "code",
      "execution_count": null,
      "id": "8b1c0b92",
      "metadata": {
        "id": "8b1c0b92"
      },
      "outputs": [],
      "source": [
        "model_bert.append(\"Linear SVM\")\n",
        "Roc_auc_cv.append(lsvc_clf_bert_best)\n",
        "Roc_auc_test.append(roc_auc_lsvc_clf_bert)"
      ]
    },
    {
      "cell_type": "markdown",
      "id": "c939bd85",
      "metadata": {
        "id": "c939bd85"
      },
      "source": [
        "### KNN"
      ]
    },
    {
      "cell_type": "code",
      "execution_count": null,
      "id": "1c8dbc00",
      "metadata": {
        "id": "1c8dbc00"
      },
      "outputs": [],
      "source": [
        "k_range = list(range(1, 31))\n",
        "param= dict(n_neighbors=k_range)\n",
        "cv = RepeatedStratifiedKFold(n_splits=5, n_repeats=3, random_state=1)\n",
        "scoring='roc_auc'\n",
        "\n",
        "knn_clf_bert = BayesSearchCV(estimator=KNeighborsClassifier(), search_spaces=param, scoring=scoring, n_jobs=-1, cv=cv)"
      ]
    },
    {
      "cell_type": "code",
      "execution_count": null,
      "id": "71f609ce",
      "metadata": {
        "id": "71f609ce"
      },
      "outputs": [],
      "source": [
        "knn_clf_bert.fit(X_train_trans,y_train)"
      ]
    },
    {
      "cell_type": "code",
      "execution_count": null,
      "id": "5fb03c41",
      "metadata": {
        "id": "5fb03c41"
      },
      "outputs": [],
      "source": [
        "with open('/Models_Pipelines/knn_clf_bert.pkl','wb') as f:\n",
        "    pickle.dump(knn_clf_bert,f)"
      ]
    },
    {
      "cell_type": "code",
      "execution_count": null,
      "id": "d5022eb6",
      "metadata": {
        "id": "d5022eb6"
      },
      "outputs": [],
      "source": [
        "with open('/Models_Pipelines/knn_clf_bert.pkl', 'rb') as f:\n",
        "    knn_clf_bert = pickle.load(f)"
      ]
    },
    {
      "cell_type": "code",
      "execution_count": null,
      "id": "9590e4ae",
      "metadata": {
        "id": "9590e4ae"
      },
      "outputs": [],
      "source": [
        "knn_clf_bert_best=knn_clf_bert.best_score_"
      ]
    },
    {
      "cell_type": "code",
      "execution_count": null,
      "id": "27126abe",
      "metadata": {
        "id": "27126abe"
      },
      "outputs": [],
      "source": [
        "knn_clf_bert_best"
      ]
    },
    {
      "cell_type": "code",
      "execution_count": null,
      "id": "6e7ea88e",
      "metadata": {
        "id": "6e7ea88e"
      },
      "outputs": [],
      "source": [
        "y_prob_knn_clf_bert = knn_clf_bert.predict_proba(X_test_trans)\n",
        "roc_auc_knn_clf_bert=roc_auc_score(y_test,y_prob_knn_clf_bert[:,1])"
      ]
    },
    {
      "cell_type": "code",
      "execution_count": null,
      "id": "8e6e2810",
      "metadata": {
        "id": "8e6e2810"
      },
      "outputs": [],
      "source": [
        "roc_auc_knn_clf_bert"
      ]
    },
    {
      "cell_type": "code",
      "execution_count": null,
      "id": "d9f9d862",
      "metadata": {
        "id": "d9f9d862"
      },
      "outputs": [],
      "source": [
        "model_bert.append(\"KNN\")\n",
        "Roc_auc_cv.append(knn_clf_bert_best)\n",
        "Roc_auc_test.append(roc_auc_knn_clf_bert)"
      ]
    },
    {
      "cell_type": "markdown",
      "id": "d36c0e47",
      "metadata": {
        "id": "d36c0e47"
      },
      "source": [
        "### Random Forest"
      ]
    },
    {
      "cell_type": "code",
      "execution_count": 48,
      "id": "89e19784",
      "metadata": {
        "id": "89e19784"
      },
      "outputs": [],
      "source": [
        "from sklearn.ensemble import RandomForestClassifier\n",
        "max_depth=[5, 10, 15, 20]\n",
        "min_samples_leaf=[5, 10, 20, 50, 100]\n",
        "criterion=[\"gini\", \"entropy\"]\n",
        "n_estimators=[10,50,100,150]\n",
        "\n",
        "param= dict(max_depth=max_depth,min_samples_leaf=min_samples_leaf,criterion=criterion,n_estimators=n_estimators)\n",
        "cv = RepeatedStratifiedKFold(n_splits=5, n_repeats=3, random_state=1)\n",
        "scoring='roc_auc'\n",
        "\n",
        "rand_for_clf_bert = BayesSearchCV(estimator=RandomForestClassifier(), search_spaces=param, scoring=scoring, n_jobs=-1, cv=cv)"
      ]
    },
    {
      "cell_type": "code",
      "execution_count": 49,
      "id": "d6b265c2",
      "metadata": {
        "id": "d6b265c2",
        "colab": {
          "base_uri": "https://localhost:8080/"
        },
        "outputId": "e4f9d2ca-4a32-48d9-c2cb-6b1aaa28d0da"
      },
      "outputs": [
        {
          "output_type": "stream",
          "name": "stderr",
          "text": [
            "/usr/local/lib/python3.7/dist-packages/skopt/optimizer/optimizer.py:449: UserWarning: The objective has been evaluated at this point before.\n",
            "  warnings.warn(\"The objective has been evaluated \"\n",
            "/usr/local/lib/python3.7/dist-packages/skopt/optimizer/optimizer.py:449: UserWarning: The objective has been evaluated at this point before.\n",
            "  warnings.warn(\"The objective has been evaluated \"\n",
            "/usr/local/lib/python3.7/dist-packages/skopt/optimizer/optimizer.py:449: UserWarning: The objective has been evaluated at this point before.\n",
            "  warnings.warn(\"The objective has been evaluated \"\n"
          ]
        },
        {
          "output_type": "execute_result",
          "data": {
            "text/plain": [
              "BayesSearchCV(cv=RepeatedStratifiedKFold(n_repeats=3, n_splits=5, random_state=1),\n",
              "              estimator=RandomForestClassifier(), n_jobs=-1, scoring='roc_auc',\n",
              "              search_spaces={'criterion': ['gini', 'entropy'],\n",
              "                             'max_depth': [5, 10, 15, 20],\n",
              "                             'min_samples_leaf': [5, 10, 20, 50, 100],\n",
              "                             'n_estimators': [10, 50, 100, 150]})"
            ]
          },
          "metadata": {},
          "execution_count": 49
        }
      ],
      "source": [
        "rand_for_clf_bert.fit(X_train_trans,y_train)"
      ]
    },
    {
      "cell_type": "code",
      "execution_count": 54,
      "id": "708631ab",
      "metadata": {
        "id": "708631ab"
      },
      "outputs": [],
      "source": [
        "with open('gdrive/MyDrive/Colab_notebook/Models_Pipelines/rand_for_clf_bert_sent.pkl','wb') as f:\n",
        "    pickle.dump(rand_for_clf_bert,f)"
      ]
    },
    {
      "cell_type": "code",
      "execution_count": null,
      "id": "ffa669d9",
      "metadata": {
        "id": "ffa669d9"
      },
      "outputs": [],
      "source": [
        "with open('/Models_Pipelines/rand_for_clf_bert_sent.pkl', 'rb') as f:\n",
        "    rand_for_clf_bert = pickle.load(f)"
      ]
    },
    {
      "cell_type": "code",
      "execution_count": 50,
      "id": "31396f4a",
      "metadata": {
        "id": "31396f4a"
      },
      "outputs": [],
      "source": [
        "rand_for_clf_bert_best=rand_for_clf_bert.best_score_"
      ]
    },
    {
      "cell_type": "code",
      "execution_count": 51,
      "id": "81386938",
      "metadata": {
        "id": "81386938",
        "colab": {
          "base_uri": "https://localhost:8080/"
        },
        "outputId": "43fc4ad5-7ccc-420e-ba78-e342a0ce1630"
      },
      "outputs": [
        {
          "output_type": "execute_result",
          "data": {
            "text/plain": [
              "0.6687030446945098"
            ]
          },
          "metadata": {},
          "execution_count": 51
        }
      ],
      "source": [
        "rand_for_clf_bert_best"
      ]
    },
    {
      "cell_type": "code",
      "execution_count": 52,
      "id": "a78ebeee",
      "metadata": {
        "id": "a78ebeee"
      },
      "outputs": [],
      "source": [
        "y_prob_rand_for_clf_bert = rand_for_clf_bert.predict_proba(X_test_trans)\n",
        "roc_auc_rand_for_clf_bert=roc_auc_score(y_test,y_prob_rand_for_clf_bert[:,1])"
      ]
    },
    {
      "cell_type": "code",
      "execution_count": 53,
      "id": "096ce04f",
      "metadata": {
        "id": "096ce04f",
        "colab": {
          "base_uri": "https://localhost:8080/"
        },
        "outputId": "7ae853b4-99b4-4129-9739-3b6048803d81"
      },
      "outputs": [
        {
          "output_type": "execute_result",
          "data": {
            "text/plain": [
              "0.6683840539571861"
            ]
          },
          "metadata": {},
          "execution_count": 53
        }
      ],
      "source": [
        "roc_auc_rand_for_clf_bert"
      ]
    },
    {
      "cell_type": "code",
      "execution_count": null,
      "id": "6274e751",
      "metadata": {
        "id": "6274e751"
      },
      "outputs": [],
      "source": [
        "model_bert.append(\"Random Forest\")\n",
        "Roc_auc_cv.append(rand_for_clf_bert_best)\n",
        "Roc_auc_test.append(roc_auc_rand_for_clf_bert)"
      ]
    },
    {
      "cell_type": "code",
      "execution_count": null,
      "id": "22ac737b",
      "metadata": {
        "id": "22ac737b"
      },
      "outputs": [],
      "source": [
        "result_bert=pd.DataFrame({'model_bert': model_bert, 'Roc_auc_cross_val': Roc_auc_cv,'Roc_auc_test':Roc_auc_test})\n",
        "result_bert=result_bert.sort_values('Roc_auc_test')\n",
        "result_bert.reset_index(drop = True)"
      ]
    }
  ],
  "metadata": {
    "kernelspec": {
      "display_name": "Python 3 (ipykernel)",
      "language": "python",
      "name": "python3"
    },
    "language_info": {
      "codemirror_mode": {
        "name": "ipython",
        "version": 3
      },
      "file_extension": ".py",
      "mimetype": "text/x-python",
      "name": "python",
      "nbconvert_exporter": "python",
      "pygments_lexer": "ipython3",
      "version": "3.7.12"
    },
    "colab": {
      "name": "Copy of 30-day readmission Bert_sentence prediction.ipynb",
      "provenance": [],
      "collapsed_sections": [
        "01ae9bb1",
        "cf15a6b1",
        "5e3c6652",
        "90460909",
        "9bb05190",
        "c939bd85",
        "d36c0e47"
      ],
      "machine_shape": "hm",
      "include_colab_link": true
    }
  },
  "nbformat": 4,
  "nbformat_minor": 5
}