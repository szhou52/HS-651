{
 "cells": [
  {
   "cell_type": "code",
   "execution_count": 2,
   "id": "04b35e62",
   "metadata": {},
   "outputs": [],
   "source": [
    "import pandas as pd\n",
    "import numpy as np\n",
    "import matplotlib.pyplot as plt"
   ]
  },
  {
   "cell_type": "code",
   "execution_count": 3,
   "id": "d86a4866",
   "metadata": {},
   "outputs": [],
   "source": [
    "from sklearn.linear_model import LogisticRegression\n",
    "from sklearn.feature_extraction.text import TfidfVectorizer\n",
    "from sklearn.pipeline import Pipeline\n",
    "from sklearn.model_selection import cross_val_predict\n",
    "from sklearn.metrics import roc_curve\n",
    "from sklearn.metrics import roc_auc_score\n",
    "from sklearn.naive_bayes import MultinomialNB\n",
    "from sklearn.neighbors import KNeighborsClassifier\n",
    "from sklearn.model_selection import GridSearchCV\n",
    "from sklearn.model_selection import RepeatedStratifiedKFold\n",
    "from skopt import BayesSearchCV\n",
    "from sklearn.svm import LinearSVC\n",
    "from sklearn.feature_extraction.text import CountVectorizer\n",
    "from sklearn.tree import DecisionTreeClassifier\n",
    "from sklearn.model_selection import cross_val_score"
   ]
  },
  {
   "cell_type": "code",
   "execution_count": 4,
   "id": "ac46cd41",
   "metadata": {},
   "outputs": [],
   "source": [
    "df_adm_dis_sum=pd.read_csv('df_adm_dis_sum.csv')"
   ]
  },
  {
   "cell_type": "code",
   "execution_count": 5,
   "id": "6d44dadc",
   "metadata": {},
   "outputs": [],
   "source": [
    "# Split dataset into training set and test set\n",
    "from sklearn.model_selection import train_test_split\n",
    "df_train, df_test=train_test_split(df_adm_dis_sum,test_size=0.2, random_state=42)"
   ]
  },
  {
   "cell_type": "code",
   "execution_count": 6,
   "id": "c1b137e1",
   "metadata": {},
   "outputs": [],
   "source": [
    "# sub-sampling the negatives (non-readmitted) on the training set\n",
    "df_train_readm=df_train[df_train.READMISSION_STATUS=='Readmitted']\n",
    "df_train_non_readm=df_train[df_train.READMISSION_STATUS=='Non-readmitted']\n",
    "df_train_sub = pd.concat([df_train_readm, df_train_non_readm.sample(n = len(df_train_readm), random_state = 42)],axis = 0)"
   ]
  },
  {
   "cell_type": "code",
   "execution_count": 7,
   "id": "15975cd5",
   "metadata": {},
   "outputs": [],
   "source": [
    "X_train=df_train_sub['TEXT_AGG']\n",
    "y_train=df_train_sub['READMISSION_STATUS']\n",
    "X_test=df_test['TEXT_AGG']\n",
    "y_test=df_test['READMISSION_STATUS']"
   ]
  },
  {
   "cell_type": "markdown",
   "id": "f2e000cb",
   "metadata": {},
   "source": [
    "# Part 5: Modeling-Continue"
   ]
  },
  {
   "cell_type": "markdown",
   "id": "574e8312",
   "metadata": {},
   "source": [
    "## BoW-TF-IDF with ML models"
   ]
  },
  {
   "cell_type": "markdown",
   "id": "66fced68",
   "metadata": {},
   "source": [
    "### For this section, I'm testing on the combination of TF-IDF with 5 machine learning models, including logistic regression, decision tree, linear svc, KNN and naive bayes. I'm using a combination of cross validation and BayesSearchCV on the training set to find the best hyper-parameters to maximize the ROC-AUC score. "
   ]
  },
  {
   "cell_type": "code",
   "execution_count": 45,
   "id": "5b1729d1",
   "metadata": {},
   "outputs": [],
   "source": [
    "model_TF_IDF=[]\n",
    "Roc_auc_cv=[]\n",
    "Roc_auc_test=[]"
   ]
  },
  {
   "cell_type": "code",
   "execution_count": 8,
   "id": "f7820504",
   "metadata": {},
   "outputs": [],
   "source": [
    "# TF-IDF vs Logistic regression\n",
    "solvers = ['newton-cg', 'lbfgs', 'liblinear']\n",
    "penalty = ['l2']\n",
    "c_values = [100, 10, 1.0, 0.1, 0.01]\n",
    "\n",
    "param= dict(solver=solvers,penalty=penalty,C=c_values)\n",
    "cv = RepeatedStratifiedKFold(n_splits=10, n_repeats=3, random_state=1)\n",
    "scoring='roc_auc'\n",
    "\n",
    "logistic_clf_tfidf = Pipeline([('tfidf', TfidfVectorizer()),\n",
    "                     ('clf', BayesSearchCV(estimator=LogisticRegression(), search_spaces=param, scoring=scoring, n_jobs=-1, cv=cv))])"
   ]
  },
  {
   "cell_type": "code",
   "execution_count": 9,
   "id": "d05b64fc",
   "metadata": {},
   "outputs": [
    {
     "name": "stderr",
     "output_type": "stream",
     "text": [
      "C:\\Anaconda\\envs\\nlp_course\\lib\\site-packages\\skopt\\optimizer\\optimizer.py:449: UserWarning: The objective has been evaluated at this point before.\n",
      "  warnings.warn(\"The objective has been evaluated \"\n",
      "C:\\Anaconda\\envs\\nlp_course\\lib\\site-packages\\skopt\\optimizer\\optimizer.py:449: UserWarning: The objective has been evaluated at this point before.\n",
      "  warnings.warn(\"The objective has been evaluated \"\n",
      "C:\\Anaconda\\envs\\nlp_course\\lib\\site-packages\\skopt\\optimizer\\optimizer.py:449: UserWarning: The objective has been evaluated at this point before.\n",
      "  warnings.warn(\"The objective has been evaluated \"\n",
      "C:\\Anaconda\\envs\\nlp_course\\lib\\site-packages\\skopt\\optimizer\\optimizer.py:449: UserWarning: The objective has been evaluated at this point before.\n",
      "  warnings.warn(\"The objective has been evaluated \"\n",
      "C:\\Anaconda\\envs\\nlp_course\\lib\\site-packages\\skopt\\optimizer\\optimizer.py:449: UserWarning: The objective has been evaluated at this point before.\n",
      "  warnings.warn(\"The objective has been evaluated \"\n",
      "C:\\Anaconda\\envs\\nlp_course\\lib\\site-packages\\skopt\\optimizer\\optimizer.py:449: UserWarning: The objective has been evaluated at this point before.\n",
      "  warnings.warn(\"The objective has been evaluated \"\n",
      "C:\\Anaconda\\envs\\nlp_course\\lib\\site-packages\\skopt\\optimizer\\optimizer.py:449: UserWarning: The objective has been evaluated at this point before.\n",
      "  warnings.warn(\"The objective has been evaluated \"\n",
      "C:\\Anaconda\\envs\\nlp_course\\lib\\site-packages\\skopt\\optimizer\\optimizer.py:449: UserWarning: The objective has been evaluated at this point before.\n",
      "  warnings.warn(\"The objective has been evaluated \"\n",
      "C:\\Anaconda\\envs\\nlp_course\\lib\\site-packages\\skopt\\optimizer\\optimizer.py:449: UserWarning: The objective has been evaluated at this point before.\n",
      "  warnings.warn(\"The objective has been evaluated \"\n",
      "C:\\Anaconda\\envs\\nlp_course\\lib\\site-packages\\skopt\\optimizer\\optimizer.py:449: UserWarning: The objective has been evaluated at this point before.\n",
      "  warnings.warn(\"The objective has been evaluated \"\n",
      "C:\\Anaconda\\envs\\nlp_course\\lib\\site-packages\\skopt\\optimizer\\optimizer.py:449: UserWarning: The objective has been evaluated at this point before.\n",
      "  warnings.warn(\"The objective has been evaluated \"\n",
      "C:\\Anaconda\\envs\\nlp_course\\lib\\site-packages\\skopt\\optimizer\\optimizer.py:449: UserWarning: The objective has been evaluated at this point before.\n",
      "  warnings.warn(\"The objective has been evaluated \"\n",
      "C:\\Anaconda\\envs\\nlp_course\\lib\\site-packages\\skopt\\optimizer\\optimizer.py:449: UserWarning: The objective has been evaluated at this point before.\n",
      "  warnings.warn(\"The objective has been evaluated \"\n",
      "C:\\Anaconda\\envs\\nlp_course\\lib\\site-packages\\skopt\\optimizer\\optimizer.py:449: UserWarning: The objective has been evaluated at this point before.\n",
      "  warnings.warn(\"The objective has been evaluated \"\n",
      "C:\\Anaconda\\envs\\nlp_course\\lib\\site-packages\\skopt\\optimizer\\optimizer.py:449: UserWarning: The objective has been evaluated at this point before.\n",
      "  warnings.warn(\"The objective has been evaluated \"\n",
      "C:\\Anaconda\\envs\\nlp_course\\lib\\site-packages\\skopt\\optimizer\\optimizer.py:449: UserWarning: The objective has been evaluated at this point before.\n",
      "  warnings.warn(\"The objective has been evaluated \"\n",
      "C:\\Anaconda\\envs\\nlp_course\\lib\\site-packages\\skopt\\optimizer\\optimizer.py:449: UserWarning: The objective has been evaluated at this point before.\n",
      "  warnings.warn(\"The objective has been evaluated \"\n",
      "C:\\Anaconda\\envs\\nlp_course\\lib\\site-packages\\skopt\\optimizer\\optimizer.py:449: UserWarning: The objective has been evaluated at this point before.\n",
      "  warnings.warn(\"The objective has been evaluated \"\n",
      "C:\\Anaconda\\envs\\nlp_course\\lib\\site-packages\\skopt\\optimizer\\optimizer.py:449: UserWarning: The objective has been evaluated at this point before.\n",
      "  warnings.warn(\"The objective has been evaluated \"\n",
      "C:\\Anaconda\\envs\\nlp_course\\lib\\site-packages\\skopt\\optimizer\\optimizer.py:449: UserWarning: The objective has been evaluated at this point before.\n",
      "  warnings.warn(\"The objective has been evaluated \"\n",
      "C:\\Anaconda\\envs\\nlp_course\\lib\\site-packages\\skopt\\optimizer\\optimizer.py:449: UserWarning: The objective has been evaluated at this point before.\n",
      "  warnings.warn(\"The objective has been evaluated \"\n",
      "C:\\Anaconda\\envs\\nlp_course\\lib\\site-packages\\skopt\\optimizer\\optimizer.py:449: UserWarning: The objective has been evaluated at this point before.\n",
      "  warnings.warn(\"The objective has been evaluated \"\n",
      "C:\\Anaconda\\envs\\nlp_course\\lib\\site-packages\\skopt\\optimizer\\optimizer.py:449: UserWarning: The objective has been evaluated at this point before.\n",
      "  warnings.warn(\"The objective has been evaluated \"\n",
      "C:\\Anaconda\\envs\\nlp_course\\lib\\site-packages\\skopt\\optimizer\\optimizer.py:449: UserWarning: The objective has been evaluated at this point before.\n",
      "  warnings.warn(\"The objective has been evaluated \"\n",
      "C:\\Anaconda\\envs\\nlp_course\\lib\\site-packages\\skopt\\optimizer\\optimizer.py:449: UserWarning: The objective has been evaluated at this point before.\n",
      "  warnings.warn(\"The objective has been evaluated \"\n",
      "C:\\Anaconda\\envs\\nlp_course\\lib\\site-packages\\skopt\\optimizer\\optimizer.py:449: UserWarning: The objective has been evaluated at this point before.\n",
      "  warnings.warn(\"The objective has been evaluated \"\n",
      "C:\\Anaconda\\envs\\nlp_course\\lib\\site-packages\\skopt\\optimizer\\optimizer.py:449: UserWarning: The objective has been evaluated at this point before.\n",
      "  warnings.warn(\"The objective has been evaluated \"\n",
      "C:\\Anaconda\\envs\\nlp_course\\lib\\site-packages\\skopt\\optimizer\\optimizer.py:449: UserWarning: The objective has been evaluated at this point before.\n",
      "  warnings.warn(\"The objective has been evaluated \"\n",
      "C:\\Anaconda\\envs\\nlp_course\\lib\\site-packages\\skopt\\optimizer\\optimizer.py:449: UserWarning: The objective has been evaluated at this point before.\n",
      "  warnings.warn(\"The objective has been evaluated \"\n",
      "C:\\Anaconda\\envs\\nlp_course\\lib\\site-packages\\skopt\\optimizer\\optimizer.py:449: UserWarning: The objective has been evaluated at this point before.\n",
      "  warnings.warn(\"The objective has been evaluated \"\n",
      "C:\\Anaconda\\envs\\nlp_course\\lib\\site-packages\\skopt\\optimizer\\optimizer.py:449: UserWarning: The objective has been evaluated at this point before.\n",
      "  warnings.warn(\"The objective has been evaluated \"\n",
      "C:\\Anaconda\\envs\\nlp_course\\lib\\site-packages\\skopt\\optimizer\\optimizer.py:449: UserWarning: The objective has been evaluated at this point before.\n",
      "  warnings.warn(\"The objective has been evaluated \"\n",
      "C:\\Anaconda\\envs\\nlp_course\\lib\\site-packages\\skopt\\optimizer\\optimizer.py:449: UserWarning: The objective has been evaluated at this point before.\n",
      "  warnings.warn(\"The objective has been evaluated \"\n",
      "C:\\Anaconda\\envs\\nlp_course\\lib\\site-packages\\skopt\\optimizer\\optimizer.py:449: UserWarning: The objective has been evaluated at this point before.\n",
      "  warnings.warn(\"The objective has been evaluated \"\n",
      "C:\\Anaconda\\envs\\nlp_course\\lib\\site-packages\\skopt\\optimizer\\optimizer.py:449: UserWarning: The objective has been evaluated at this point before.\n",
      "  warnings.warn(\"The objective has been evaluated \"\n"
     ]
    },
    {
     "data": {
      "text/plain": [
       "Pipeline(steps=[('tfidf', TfidfVectorizer()),\n",
       "                ('clf',\n",
       "                 BayesSearchCV(cv=RepeatedStratifiedKFold(n_repeats=3, n_splits=10, random_state=1),\n",
       "                               estimator=LogisticRegression(), n_jobs=-1,\n",
       "                               scoring='roc_auc',\n",
       "                               search_spaces={'C': [100, 10, 1.0, 0.1, 0.01],\n",
       "                                              'penalty': ['l2'],\n",
       "                                              'solver': ['newton-cg', 'lbfgs',\n",
       "                                                         'liblinear']}))])"
      ]
     },
     "execution_count": 9,
     "metadata": {},
     "output_type": "execute_result"
    }
   ],
   "source": [
    "logistic_clf_tfidf.fit(X_train,y_train)"
   ]
  },
  {
   "cell_type": "code",
   "execution_count": 15,
   "id": "5003395b",
   "metadata": {},
   "outputs": [],
   "source": [
    "logistic_clf_tfidf_best=logistic_clf_tfidf.named_steps['clf'].best_score_"
   ]
  },
  {
   "cell_type": "code",
   "execution_count": 16,
   "id": "73657c9d",
   "metadata": {},
   "outputs": [
    {
     "data": {
      "text/plain": [
       "0.7355901096508857"
      ]
     },
     "execution_count": 16,
     "metadata": {},
     "output_type": "execute_result"
    }
   ],
   "source": [
    "logistic_clf_tfidf_best"
   ]
  },
  {
   "cell_type": "code",
   "execution_count": 11,
   "id": "39d9c447",
   "metadata": {},
   "outputs": [],
   "source": [
    "y_prob_logistic_clf_tfidf = logistic_clf_tfidf.predict_proba(X_test)\n",
    "roc_auc_logistic_clf_tfidf=roc_auc_score(y_test, y_prob_logistic_clf_tfidf[:,1])"
   ]
  },
  {
   "cell_type": "code",
   "execution_count": 12,
   "id": "be884c5a",
   "metadata": {},
   "outputs": [
    {
     "data": {
      "text/plain": [
       "0.7471870348323789"
      ]
     },
     "execution_count": 12,
     "metadata": {},
     "output_type": "execute_result"
    }
   ],
   "source": [
    "roc_auc_logistic_clf_tfidf"
   ]
  },
  {
   "cell_type": "code",
   "execution_count": 46,
   "id": "25c01452",
   "metadata": {},
   "outputs": [],
   "source": [
    "model_TF_IDF.append('Logistic Regression')\n",
    "Roc_auc_cv.append(logistic_clf_tfidf_best)\n",
    "Roc_auc_test.append(roc_auc_logistic_clf_tfidf)"
   ]
  },
  {
   "cell_type": "code",
   "execution_count": 13,
   "id": "0f4015c0",
   "metadata": {},
   "outputs": [],
   "source": [
    "# TF-IDF vs Naive Bayes\n",
    "nb_clf_tfidf = Pipeline([('tfidf', TfidfVectorizer()),\n",
    "                     ('clf', MultinomialNB()),])"
   ]
  },
  {
   "cell_type": "code",
   "execution_count": 17,
   "id": "ac5781f5",
   "metadata": {},
   "outputs": [],
   "source": [
    "from sklearn.model_selection import cross_val_score\n",
    "nb_clf_tfidf_best=(cross_val_score(nb_clf_tfidf, X_train, y_train, scoring=\"roc_auc\", cv = 10)).mean()"
   ]
  },
  {
   "cell_type": "code",
   "execution_count": 18,
   "id": "22ff1ef8",
   "metadata": {},
   "outputs": [
    {
     "data": {
      "text/plain": [
       "0.6968579085567572"
      ]
     },
     "execution_count": 18,
     "metadata": {},
     "output_type": "execute_result"
    }
   ],
   "source": [
    "nb_clf_tfidf_best"
   ]
  },
  {
   "cell_type": "code",
   "execution_count": 22,
   "id": "63b86a55",
   "metadata": {},
   "outputs": [],
   "source": [
    "nb_clf_tfidf.fit(X_train, y_train)\n",
    "y_prob_nb_clf_tfidf=nb_clf_tfidf.predict_proba(X_test)\n",
    "roc_auc_nb_clf_tfidf=roc_auc_score(y_test, y_prob_nb_clf_tfidf[:,1])"
   ]
  },
  {
   "cell_type": "code",
   "execution_count": 23,
   "id": "3b8fa231",
   "metadata": {},
   "outputs": [
    {
     "data": {
      "text/plain": [
       "0.7173202345268289"
      ]
     },
     "execution_count": 23,
     "metadata": {},
     "output_type": "execute_result"
    }
   ],
   "source": [
    "roc_auc_nb_clf_tfidf"
   ]
  },
  {
   "cell_type": "code",
   "execution_count": 47,
   "id": "6329955a",
   "metadata": {},
   "outputs": [],
   "source": [
    "model_TF_IDF.append('Naive Bayes')\n",
    "Roc_auc_cv.append(nb_clf_tfidf_best)\n",
    "Roc_auc_test.append(roc_auc_nb_clf_tfidf)"
   ]
  },
  {
   "cell_type": "code",
   "execution_count": 24,
   "id": "f622192f",
   "metadata": {},
   "outputs": [],
   "source": [
    "# TF-IDF vs Decision Tree\n",
    "from sklearn.tree import DecisionTreeClassifier\n",
    "\n",
    "max_depth=[2, 3, 5, 10, 20]\n",
    "min_samples_leaf=[5, 10, 20, 50, 100]\n",
    "criterion=[\"gini\", \"entropy\"]\n",
    "\n",
    "param= dict(max_depth=max_depth,min_samples_leaf=min_samples_leaf,criterion=criterion)\n",
    "cv = RepeatedStratifiedKFold(n_splits=10, n_repeats=3, random_state=1)\n",
    "scoring='roc_auc'\n",
    "\n",
    "dec_tree_clf_tfidf = Pipeline([('tfidf', TfidfVectorizer()),\n",
    "                     ('clf', BayesSearchCV(estimator=DecisionTreeClassifier(), search_spaces=param, scoring=scoring, n_jobs=-1, cv=cv))])"
   ]
  },
  {
   "cell_type": "code",
   "execution_count": 25,
   "id": "f887a0f7",
   "metadata": {},
   "outputs": [
    {
     "name": "stderr",
     "output_type": "stream",
     "text": [
      "C:\\Anaconda\\envs\\nlp_course\\lib\\site-packages\\skopt\\optimizer\\optimizer.py:449: UserWarning: The objective has been evaluated at this point before.\n",
      "  warnings.warn(\"The objective has been evaluated \"\n",
      "C:\\Anaconda\\envs\\nlp_course\\lib\\site-packages\\skopt\\optimizer\\optimizer.py:449: UserWarning: The objective has been evaluated at this point before.\n",
      "  warnings.warn(\"The objective has been evaluated \"\n",
      "C:\\Anaconda\\envs\\nlp_course\\lib\\site-packages\\skopt\\optimizer\\optimizer.py:449: UserWarning: The objective has been evaluated at this point before.\n",
      "  warnings.warn(\"The objective has been evaluated \"\n",
      "C:\\Anaconda\\envs\\nlp_course\\lib\\site-packages\\skopt\\optimizer\\optimizer.py:449: UserWarning: The objective has been evaluated at this point before.\n",
      "  warnings.warn(\"The objective has been evaluated \"\n",
      "C:\\Anaconda\\envs\\nlp_course\\lib\\site-packages\\skopt\\optimizer\\optimizer.py:449: UserWarning: The objective has been evaluated at this point before.\n",
      "  warnings.warn(\"The objective has been evaluated \"\n",
      "C:\\Anaconda\\envs\\nlp_course\\lib\\site-packages\\skopt\\optimizer\\optimizer.py:449: UserWarning: The objective has been evaluated at this point before.\n",
      "  warnings.warn(\"The objective has been evaluated \"\n",
      "C:\\Anaconda\\envs\\nlp_course\\lib\\site-packages\\skopt\\optimizer\\optimizer.py:449: UserWarning: The objective has been evaluated at this point before.\n",
      "  warnings.warn(\"The objective has been evaluated \"\n",
      "C:\\Anaconda\\envs\\nlp_course\\lib\\site-packages\\skopt\\optimizer\\optimizer.py:449: UserWarning: The objective has been evaluated at this point before.\n",
      "  warnings.warn(\"The objective has been evaluated \"\n",
      "C:\\Anaconda\\envs\\nlp_course\\lib\\site-packages\\skopt\\optimizer\\optimizer.py:449: UserWarning: The objective has been evaluated at this point before.\n",
      "  warnings.warn(\"The objective has been evaluated \"\n",
      "C:\\Anaconda\\envs\\nlp_course\\lib\\site-packages\\skopt\\optimizer\\optimizer.py:449: UserWarning: The objective has been evaluated at this point before.\n",
      "  warnings.warn(\"The objective has been evaluated \"\n",
      "C:\\Anaconda\\envs\\nlp_course\\lib\\site-packages\\skopt\\optimizer\\optimizer.py:449: UserWarning: The objective has been evaluated at this point before.\n",
      "  warnings.warn(\"The objective has been evaluated \"\n",
      "C:\\Anaconda\\envs\\nlp_course\\lib\\site-packages\\skopt\\optimizer\\optimizer.py:449: UserWarning: The objective has been evaluated at this point before.\n",
      "  warnings.warn(\"The objective has been evaluated \"\n",
      "C:\\Anaconda\\envs\\nlp_course\\lib\\site-packages\\skopt\\optimizer\\optimizer.py:449: UserWarning: The objective has been evaluated at this point before.\n",
      "  warnings.warn(\"The objective has been evaluated \"\n"
     ]
    },
    {
     "data": {
      "text/plain": [
       "Pipeline(steps=[('tfidf', TfidfVectorizer()),\n",
       "                ('clf',\n",
       "                 BayesSearchCV(cv=RepeatedStratifiedKFold(n_repeats=3, n_splits=10, random_state=1),\n",
       "                               estimator=DecisionTreeClassifier(), n_jobs=-1,\n",
       "                               scoring='roc_auc',\n",
       "                               search_spaces={'criterion': ['gini', 'entropy'],\n",
       "                                              'max_depth': [2, 3, 5, 10, 20],\n",
       "                                              'min_samples_leaf': [5, 10, 20,\n",
       "                                                                   50,\n",
       "                                                                   100]}))])"
      ]
     },
     "execution_count": 25,
     "metadata": {},
     "output_type": "execute_result"
    }
   ],
   "source": [
    "dec_tree_clf_tfidf.fit(X_train,y_train)"
   ]
  },
  {
   "cell_type": "code",
   "execution_count": 26,
   "id": "7c34a953",
   "metadata": {},
   "outputs": [],
   "source": [
    "dec_tree_clf_tfidf_best=dec_tree_clf_tfidf.named_steps['clf'].best_score_"
   ]
  },
  {
   "cell_type": "code",
   "execution_count": 27,
   "id": "c623c359",
   "metadata": {},
   "outputs": [
    {
     "data": {
      "text/plain": [
       "0.6486519728338949"
      ]
     },
     "execution_count": 27,
     "metadata": {},
     "output_type": "execute_result"
    }
   ],
   "source": [
    "dec_tree_clf_tfidf_best"
   ]
  },
  {
   "cell_type": "code",
   "execution_count": 28,
   "id": "b28c413e",
   "metadata": {},
   "outputs": [],
   "source": [
    "y_prob_dec_tree_clf_tfidf = dec_tree_clf_tfidf.predict_proba(X_test)\n",
    "roc_auc_dec_tree_clf_tfidf=roc_auc_score(y_test, y_prob_dec_tree_clf_tfidf[:,1])"
   ]
  },
  {
   "cell_type": "code",
   "execution_count": 30,
   "id": "055c6145",
   "metadata": {},
   "outputs": [
    {
     "data": {
      "text/plain": [
       "0.6519165886322249"
      ]
     },
     "execution_count": 30,
     "metadata": {},
     "output_type": "execute_result"
    }
   ],
   "source": [
    "roc_auc_dec_tree_clf_tfidf"
   ]
  },
  {
   "cell_type": "code",
   "execution_count": 48,
   "id": "143c39c6",
   "metadata": {},
   "outputs": [],
   "source": [
    "model_TF_IDF.append('Decision Tree')\n",
    "Roc_auc_cv.append(dec_tree_clf_tfidf_best)\n",
    "Roc_auc_test.append(roc_auc_dec_tree_clf_tfidf)"
   ]
  },
  {
   "cell_type": "code",
   "execution_count": 31,
   "id": "26580568",
   "metadata": {},
   "outputs": [],
   "source": [
    "# TF-IDF vs Linear SVM\n",
    "c_values=[100, 10, 1.0, 0.1, 0.01]\n",
    "\n",
    "param= dict(C=c_values)\n",
    "cv = RepeatedStratifiedKFold(n_splits=10, n_repeats=3, random_state=1)\n",
    "scoring='roc_auc'\n",
    "\n",
    "lsvc_clf_tfidf = Pipeline([('tfidf', TfidfVectorizer()),\n",
    "                     ('clf', BayesSearchCV(estimator=LinearSVC(), search_spaces=param, scoring=scoring, n_jobs=-1, cv=cv))])"
   ]
  },
  {
   "cell_type": "code",
   "execution_count": 32,
   "id": "89a5b880",
   "metadata": {},
   "outputs": [
    {
     "name": "stderr",
     "output_type": "stream",
     "text": [
      "C:\\Anaconda\\envs\\nlp_course\\lib\\site-packages\\skopt\\optimizer\\optimizer.py:449: UserWarning: The objective has been evaluated at this point before.\n",
      "  warnings.warn(\"The objective has been evaluated \"\n",
      "C:\\Anaconda\\envs\\nlp_course\\lib\\site-packages\\skopt\\optimizer\\optimizer.py:449: UserWarning: The objective has been evaluated at this point before.\n",
      "  warnings.warn(\"The objective has been evaluated \"\n",
      "C:\\Anaconda\\envs\\nlp_course\\lib\\site-packages\\skopt\\optimizer\\optimizer.py:449: UserWarning: The objective has been evaluated at this point before.\n",
      "  warnings.warn(\"The objective has been evaluated \"\n",
      "C:\\Anaconda\\envs\\nlp_course\\lib\\site-packages\\skopt\\optimizer\\optimizer.py:449: UserWarning: The objective has been evaluated at this point before.\n",
      "  warnings.warn(\"The objective has been evaluated \"\n",
      "C:\\Anaconda\\envs\\nlp_course\\lib\\site-packages\\skopt\\optimizer\\optimizer.py:449: UserWarning: The objective has been evaluated at this point before.\n",
      "  warnings.warn(\"The objective has been evaluated \"\n",
      "C:\\Anaconda\\envs\\nlp_course\\lib\\site-packages\\skopt\\optimizer\\optimizer.py:449: UserWarning: The objective has been evaluated at this point before.\n",
      "  warnings.warn(\"The objective has been evaluated \"\n",
      "C:\\Anaconda\\envs\\nlp_course\\lib\\site-packages\\skopt\\optimizer\\optimizer.py:449: UserWarning: The objective has been evaluated at this point before.\n",
      "  warnings.warn(\"The objective has been evaluated \"\n",
      "C:\\Anaconda\\envs\\nlp_course\\lib\\site-packages\\skopt\\optimizer\\optimizer.py:449: UserWarning: The objective has been evaluated at this point before.\n",
      "  warnings.warn(\"The objective has been evaluated \"\n",
      "C:\\Anaconda\\envs\\nlp_course\\lib\\site-packages\\skopt\\optimizer\\optimizer.py:449: UserWarning: The objective has been evaluated at this point before.\n",
      "  warnings.warn(\"The objective has been evaluated \"\n",
      "C:\\Anaconda\\envs\\nlp_course\\lib\\site-packages\\skopt\\optimizer\\optimizer.py:449: UserWarning: The objective has been evaluated at this point before.\n",
      "  warnings.warn(\"The objective has been evaluated \"\n",
      "C:\\Anaconda\\envs\\nlp_course\\lib\\site-packages\\skopt\\optimizer\\optimizer.py:449: UserWarning: The objective has been evaluated at this point before.\n",
      "  warnings.warn(\"The objective has been evaluated \"\n",
      "C:\\Anaconda\\envs\\nlp_course\\lib\\site-packages\\skopt\\optimizer\\optimizer.py:449: UserWarning: The objective has been evaluated at this point before.\n",
      "  warnings.warn(\"The objective has been evaluated \"\n",
      "C:\\Anaconda\\envs\\nlp_course\\lib\\site-packages\\skopt\\optimizer\\optimizer.py:449: UserWarning: The objective has been evaluated at this point before.\n",
      "  warnings.warn(\"The objective has been evaluated \"\n",
      "C:\\Anaconda\\envs\\nlp_course\\lib\\site-packages\\skopt\\optimizer\\optimizer.py:449: UserWarning: The objective has been evaluated at this point before.\n",
      "  warnings.warn(\"The objective has been evaluated \"\n",
      "C:\\Anaconda\\envs\\nlp_course\\lib\\site-packages\\skopt\\optimizer\\optimizer.py:449: UserWarning: The objective has been evaluated at this point before.\n",
      "  warnings.warn(\"The objective has been evaluated \"\n",
      "C:\\Anaconda\\envs\\nlp_course\\lib\\site-packages\\skopt\\optimizer\\optimizer.py:449: UserWarning: The objective has been evaluated at this point before.\n",
      "  warnings.warn(\"The objective has been evaluated \"\n",
      "C:\\Anaconda\\envs\\nlp_course\\lib\\site-packages\\skopt\\optimizer\\optimizer.py:449: UserWarning: The objective has been evaluated at this point before.\n",
      "  warnings.warn(\"The objective has been evaluated \"\n",
      "C:\\Anaconda\\envs\\nlp_course\\lib\\site-packages\\skopt\\optimizer\\optimizer.py:449: UserWarning: The objective has been evaluated at this point before.\n",
      "  warnings.warn(\"The objective has been evaluated \"\n",
      "C:\\Anaconda\\envs\\nlp_course\\lib\\site-packages\\skopt\\optimizer\\optimizer.py:449: UserWarning: The objective has been evaluated at this point before.\n",
      "  warnings.warn(\"The objective has been evaluated \"\n",
      "C:\\Anaconda\\envs\\nlp_course\\lib\\site-packages\\skopt\\optimizer\\optimizer.py:449: UserWarning: The objective has been evaluated at this point before.\n",
      "  warnings.warn(\"The objective has been evaluated \"\n",
      "C:\\Anaconda\\envs\\nlp_course\\lib\\site-packages\\skopt\\optimizer\\optimizer.py:449: UserWarning: The objective has been evaluated at this point before.\n",
      "  warnings.warn(\"The objective has been evaluated \"\n",
      "C:\\Anaconda\\envs\\nlp_course\\lib\\site-packages\\skopt\\optimizer\\optimizer.py:449: UserWarning: The objective has been evaluated at this point before.\n",
      "  warnings.warn(\"The objective has been evaluated \"\n",
      "C:\\Anaconda\\envs\\nlp_course\\lib\\site-packages\\skopt\\optimizer\\optimizer.py:449: UserWarning: The objective has been evaluated at this point before.\n",
      "  warnings.warn(\"The objective has been evaluated \"\n",
      "C:\\Anaconda\\envs\\nlp_course\\lib\\site-packages\\skopt\\optimizer\\optimizer.py:449: UserWarning: The objective has been evaluated at this point before.\n",
      "  warnings.warn(\"The objective has been evaluated \"\n",
      "C:\\Anaconda\\envs\\nlp_course\\lib\\site-packages\\skopt\\optimizer\\optimizer.py:449: UserWarning: The objective has been evaluated at this point before.\n",
      "  warnings.warn(\"The objective has been evaluated \"\n",
      "C:\\Anaconda\\envs\\nlp_course\\lib\\site-packages\\skopt\\optimizer\\optimizer.py:449: UserWarning: The objective has been evaluated at this point before.\n",
      "  warnings.warn(\"The objective has been evaluated \"\n",
      "C:\\Anaconda\\envs\\nlp_course\\lib\\site-packages\\skopt\\optimizer\\optimizer.py:449: UserWarning: The objective has been evaluated at this point before.\n",
      "  warnings.warn(\"The objective has been evaluated \"\n",
      "C:\\Anaconda\\envs\\nlp_course\\lib\\site-packages\\skopt\\optimizer\\optimizer.py:449: UserWarning: The objective has been evaluated at this point before.\n",
      "  warnings.warn(\"The objective has been evaluated \"\n",
      "C:\\Anaconda\\envs\\nlp_course\\lib\\site-packages\\skopt\\optimizer\\optimizer.py:449: UserWarning: The objective has been evaluated at this point before.\n",
      "  warnings.warn(\"The objective has been evaluated \"\n",
      "C:\\Anaconda\\envs\\nlp_course\\lib\\site-packages\\skopt\\optimizer\\optimizer.py:449: UserWarning: The objective has been evaluated at this point before.\n",
      "  warnings.warn(\"The objective has been evaluated \"\n",
      "C:\\Anaconda\\envs\\nlp_course\\lib\\site-packages\\skopt\\optimizer\\optimizer.py:449: UserWarning: The objective has been evaluated at this point before.\n",
      "  warnings.warn(\"The objective has been evaluated \"\n",
      "C:\\Anaconda\\envs\\nlp_course\\lib\\site-packages\\skopt\\optimizer\\optimizer.py:449: UserWarning: The objective has been evaluated at this point before.\n",
      "  warnings.warn(\"The objective has been evaluated \"\n",
      "C:\\Anaconda\\envs\\nlp_course\\lib\\site-packages\\skopt\\optimizer\\optimizer.py:449: UserWarning: The objective has been evaluated at this point before.\n",
      "  warnings.warn(\"The objective has been evaluated \"\n",
      "C:\\Anaconda\\envs\\nlp_course\\lib\\site-packages\\skopt\\optimizer\\optimizer.py:449: UserWarning: The objective has been evaluated at this point before.\n",
      "  warnings.warn(\"The objective has been evaluated \"\n",
      "C:\\Anaconda\\envs\\nlp_course\\lib\\site-packages\\skopt\\optimizer\\optimizer.py:449: UserWarning: The objective has been evaluated at this point before.\n",
      "  warnings.warn(\"The objective has been evaluated \"\n",
      "C:\\Anaconda\\envs\\nlp_course\\lib\\site-packages\\skopt\\optimizer\\optimizer.py:449: UserWarning: The objective has been evaluated at this point before.\n",
      "  warnings.warn(\"The objective has been evaluated \"\n",
      "C:\\Anaconda\\envs\\nlp_course\\lib\\site-packages\\skopt\\optimizer\\optimizer.py:449: UserWarning: The objective has been evaluated at this point before.\n",
      "  warnings.warn(\"The objective has been evaluated \"\n",
      "C:\\Anaconda\\envs\\nlp_course\\lib\\site-packages\\skopt\\optimizer\\optimizer.py:449: UserWarning: The objective has been evaluated at this point before.\n",
      "  warnings.warn(\"The objective has been evaluated \"\n",
      "C:\\Anaconda\\envs\\nlp_course\\lib\\site-packages\\skopt\\optimizer\\optimizer.py:449: UserWarning: The objective has been evaluated at this point before.\n",
      "  warnings.warn(\"The objective has been evaluated \"\n"
     ]
    },
    {
     "data": {
      "text/plain": [
       "Pipeline(steps=[('tfidf', TfidfVectorizer()),\n",
       "                ('clf',\n",
       "                 BayesSearchCV(cv=RepeatedStratifiedKFold(n_repeats=3, n_splits=10, random_state=1),\n",
       "                               estimator=LinearSVC(), n_jobs=-1,\n",
       "                               scoring='roc_auc',\n",
       "                               search_spaces={'C': [100, 10, 1.0, 0.1,\n",
       "                                                    0.01]}))])"
      ]
     },
     "execution_count": 32,
     "metadata": {},
     "output_type": "execute_result"
    }
   ],
   "source": [
    "lsvc_clf_tfidf.fit(X_train,y_train)"
   ]
  },
  {
   "cell_type": "code",
   "execution_count": 33,
   "id": "d8a9f602",
   "metadata": {},
   "outputs": [],
   "source": [
    "lsvc_clf_tfidf_best=lsvc_clf_tfidf.named_steps['clf'].best_score_"
   ]
  },
  {
   "cell_type": "code",
   "execution_count": 34,
   "id": "6fac0e70",
   "metadata": {},
   "outputs": [
    {
     "data": {
      "text/plain": [
       "0.7349436916384661"
      ]
     },
     "execution_count": 34,
     "metadata": {},
     "output_type": "execute_result"
    }
   ],
   "source": [
    "lsvc_clf_tfidf_best"
   ]
  },
  {
   "cell_type": "code",
   "execution_count": 35,
   "id": "db7f9cbf",
   "metadata": {},
   "outputs": [],
   "source": [
    "y_dec_func_lsvc_clf_tfidf=lsvc_clf_tfidf.decision_function(X_test)\n",
    "roc_auc_lsvc_clf_tfidf=roc_auc_score(y_test, y_dec_func_lsvc_clf_tfidf)"
   ]
  },
  {
   "cell_type": "code",
   "execution_count": 37,
   "id": "7b3c1c86",
   "metadata": {},
   "outputs": [
    {
     "data": {
      "text/plain": [
       "0.7471360575588317"
      ]
     },
     "execution_count": 37,
     "metadata": {},
     "output_type": "execute_result"
    }
   ],
   "source": [
    "roc_auc_lsvc_clf_tfidf"
   ]
  },
  {
   "cell_type": "code",
   "execution_count": 49,
   "id": "d3f5c72a",
   "metadata": {},
   "outputs": [],
   "source": [
    "model_TF_IDF.append('Linear SVC')\n",
    "Roc_auc_cv.append(lsvc_clf_tfidf_best)\n",
    "Roc_auc_test.append(roc_auc_lsvc_clf_tfidf)"
   ]
  },
  {
   "cell_type": "code",
   "execution_count": 38,
   "id": "f1423d06",
   "metadata": {},
   "outputs": [],
   "source": [
    "# TF-IDF vs KNN\n",
    "k_range = list(range(1, 31))\n",
    "param= dict(n_neighbors=k_range)\n",
    "cv = RepeatedStratifiedKFold(n_splits=10, n_repeats=3, random_state=1)\n",
    "scoring='roc_auc'\n",
    "\n",
    "knn_clf_tfidf = Pipeline([('tfidf', TfidfVectorizer()),\n",
    "                     ('clf', BayesSearchCV(estimator=KNeighborsClassifier(), search_spaces=param, scoring=scoring, n_jobs=-1, cv=cv))])"
   ]
  },
  {
   "cell_type": "code",
   "execution_count": 39,
   "id": "343f7e9c",
   "metadata": {},
   "outputs": [
    {
     "name": "stderr",
     "output_type": "stream",
     "text": [
      "C:\\Anaconda\\envs\\nlp_course\\lib\\site-packages\\skopt\\optimizer\\optimizer.py:449: UserWarning: The objective has been evaluated at this point before.\n",
      "  warnings.warn(\"The objective has been evaluated \"\n",
      "C:\\Anaconda\\envs\\nlp_course\\lib\\site-packages\\skopt\\optimizer\\optimizer.py:449: UserWarning: The objective has been evaluated at this point before.\n",
      "  warnings.warn(\"The objective has been evaluated \"\n",
      "C:\\Anaconda\\envs\\nlp_course\\lib\\site-packages\\skopt\\optimizer\\optimizer.py:449: UserWarning: The objective has been evaluated at this point before.\n",
      "  warnings.warn(\"The objective has been evaluated \"\n",
      "C:\\Anaconda\\envs\\nlp_course\\lib\\site-packages\\skopt\\optimizer\\optimizer.py:449: UserWarning: The objective has been evaluated at this point before.\n",
      "  warnings.warn(\"The objective has been evaluated \"\n",
      "C:\\Anaconda\\envs\\nlp_course\\lib\\site-packages\\skopt\\optimizer\\optimizer.py:449: UserWarning: The objective has been evaluated at this point before.\n",
      "  warnings.warn(\"The objective has been evaluated \"\n",
      "C:\\Anaconda\\envs\\nlp_course\\lib\\site-packages\\skopt\\optimizer\\optimizer.py:449: UserWarning: The objective has been evaluated at this point before.\n",
      "  warnings.warn(\"The objective has been evaluated \"\n",
      "C:\\Anaconda\\envs\\nlp_course\\lib\\site-packages\\skopt\\optimizer\\optimizer.py:449: UserWarning: The objective has been evaluated at this point before.\n",
      "  warnings.warn(\"The objective has been evaluated \"\n",
      "C:\\Anaconda\\envs\\nlp_course\\lib\\site-packages\\skopt\\optimizer\\optimizer.py:449: UserWarning: The objective has been evaluated at this point before.\n",
      "  warnings.warn(\"The objective has been evaluated \"\n",
      "C:\\Anaconda\\envs\\nlp_course\\lib\\site-packages\\skopt\\optimizer\\optimizer.py:449: UserWarning: The objective has been evaluated at this point before.\n",
      "  warnings.warn(\"The objective has been evaluated \"\n",
      "C:\\Anaconda\\envs\\nlp_course\\lib\\site-packages\\skopt\\optimizer\\optimizer.py:449: UserWarning: The objective has been evaluated at this point before.\n",
      "  warnings.warn(\"The objective has been evaluated \"\n",
      "C:\\Anaconda\\envs\\nlp_course\\lib\\site-packages\\skopt\\optimizer\\optimizer.py:449: UserWarning: The objective has been evaluated at this point before.\n",
      "  warnings.warn(\"The objective has been evaluated \"\n",
      "C:\\Anaconda\\envs\\nlp_course\\lib\\site-packages\\skopt\\optimizer\\optimizer.py:449: UserWarning: The objective has been evaluated at this point before.\n",
      "  warnings.warn(\"The objective has been evaluated \"\n",
      "C:\\Anaconda\\envs\\nlp_course\\lib\\site-packages\\skopt\\optimizer\\optimizer.py:449: UserWarning: The objective has been evaluated at this point before.\n",
      "  warnings.warn(\"The objective has been evaluated \"\n",
      "C:\\Anaconda\\envs\\nlp_course\\lib\\site-packages\\skopt\\optimizer\\optimizer.py:449: UserWarning: The objective has been evaluated at this point before.\n",
      "  warnings.warn(\"The objective has been evaluated \"\n",
      "C:\\Anaconda\\envs\\nlp_course\\lib\\site-packages\\skopt\\optimizer\\optimizer.py:449: UserWarning: The objective has been evaluated at this point before.\n",
      "  warnings.warn(\"The objective has been evaluated \"\n",
      "C:\\Anaconda\\envs\\nlp_course\\lib\\site-packages\\skopt\\optimizer\\optimizer.py:449: UserWarning: The objective has been evaluated at this point before.\n",
      "  warnings.warn(\"The objective has been evaluated \"\n",
      "C:\\Anaconda\\envs\\nlp_course\\lib\\site-packages\\skopt\\optimizer\\optimizer.py:449: UserWarning: The objective has been evaluated at this point before.\n",
      "  warnings.warn(\"The objective has been evaluated \"\n",
      "C:\\Anaconda\\envs\\nlp_course\\lib\\site-packages\\skopt\\optimizer\\optimizer.py:449: UserWarning: The objective has been evaluated at this point before.\n",
      "  warnings.warn(\"The objective has been evaluated \"\n",
      "C:\\Anaconda\\envs\\nlp_course\\lib\\site-packages\\skopt\\optimizer\\optimizer.py:449: UserWarning: The objective has been evaluated at this point before.\n",
      "  warnings.warn(\"The objective has been evaluated \"\n",
      "C:\\Anaconda\\envs\\nlp_course\\lib\\site-packages\\skopt\\optimizer\\optimizer.py:449: UserWarning: The objective has been evaluated at this point before.\n",
      "  warnings.warn(\"The objective has been evaluated \"\n"
     ]
    },
    {
     "data": {
      "text/plain": [
       "Pipeline(steps=[('tfidf', TfidfVectorizer()),\n",
       "                ('clf',\n",
       "                 BayesSearchCV(cv=RepeatedStratifiedKFold(n_repeats=3, n_splits=10, random_state=1),\n",
       "                               estimator=KNeighborsClassifier(), n_jobs=-1,\n",
       "                               scoring='roc_auc',\n",
       "                               search_spaces={'n_neighbors': [1, 2, 3, 4, 5, 6,\n",
       "                                                              7, 8, 9, 10, 11,\n",
       "                                                              12, 13, 14, 15,\n",
       "                                                              16, 17, 18, 19,\n",
       "                                                              20, 21, 22, 23,\n",
       "                                                              24, 25, 26, 27,\n",
       "                                                              28, 29, 30]}))])"
      ]
     },
     "execution_count": 39,
     "metadata": {},
     "output_type": "execute_result"
    }
   ],
   "source": [
    "knn_clf_tfidf.fit(X_train, y_train)"
   ]
  },
  {
   "cell_type": "code",
   "execution_count": 40,
   "id": "7b42bea3",
   "metadata": {},
   "outputs": [],
   "source": [
    "knn_clf_tfidf_best=knn_clf_tfidf.named_steps['clf'].best_score_"
   ]
  },
  {
   "cell_type": "code",
   "execution_count": 41,
   "id": "d9567425",
   "metadata": {},
   "outputs": [
    {
     "data": {
      "text/plain": [
       "0.6726982933727277"
      ]
     },
     "execution_count": 41,
     "metadata": {},
     "output_type": "execute_result"
    }
   ],
   "source": [
    "knn_clf_tfidf_best"
   ]
  },
  {
   "cell_type": "code",
   "execution_count": 42,
   "id": "89cd4954",
   "metadata": {},
   "outputs": [],
   "source": [
    "y_prob_knn_clf_tfidf = knn_clf_tfidf.predict_proba(X_test)\n",
    "roc_auc_knn_clf_tfidf=roc_auc_score(y_test, y_prob_knn_clf_tfidf[:,1])"
   ]
  },
  {
   "cell_type": "code",
   "execution_count": 43,
   "id": "7bf8831d",
   "metadata": {},
   "outputs": [
    {
     "data": {
      "text/plain": [
       "0.6823505111059872"
      ]
     },
     "execution_count": 43,
     "metadata": {},
     "output_type": "execute_result"
    }
   ],
   "source": [
    "roc_auc_knn_clf_tfidf"
   ]
  },
  {
   "cell_type": "code",
   "execution_count": 50,
   "id": "8dbb27c2",
   "metadata": {},
   "outputs": [],
   "source": [
    "model_TF_IDF.append('KNN')\n",
    "Roc_auc_cv.append(knn_clf_tfidf_best)\n",
    "Roc_auc_test.append(roc_auc_knn_clf_tfidf)"
   ]
  },
  {
   "cell_type": "code",
   "execution_count": 52,
   "id": "80e640cb",
   "metadata": {},
   "outputs": [
    {
     "data": {
      "text/html": [
       "<div>\n",
       "<style scoped>\n",
       "    .dataframe tbody tr th:only-of-type {\n",
       "        vertical-align: middle;\n",
       "    }\n",
       "\n",
       "    .dataframe tbody tr th {\n",
       "        vertical-align: top;\n",
       "    }\n",
       "\n",
       "    .dataframe thead th {\n",
       "        text-align: right;\n",
       "    }\n",
       "</style>\n",
       "<table border=\"1\" class=\"dataframe\">\n",
       "  <thead>\n",
       "    <tr style=\"text-align: right;\">\n",
       "      <th></th>\n",
       "      <th>model_TF_IDF</th>\n",
       "      <th>Roc_auc_cross_val</th>\n",
       "      <th>Roc_auc_test</th>\n",
       "    </tr>\n",
       "  </thead>\n",
       "  <tbody>\n",
       "    <tr>\n",
       "      <th>0</th>\n",
       "      <td>Decision Tree</td>\n",
       "      <td>0.648652</td>\n",
       "      <td>0.651917</td>\n",
       "    </tr>\n",
       "    <tr>\n",
       "      <th>1</th>\n",
       "      <td>KNN</td>\n",
       "      <td>0.672698</td>\n",
       "      <td>0.682351</td>\n",
       "    </tr>\n",
       "    <tr>\n",
       "      <th>2</th>\n",
       "      <td>Naive Bayes</td>\n",
       "      <td>0.696858</td>\n",
       "      <td>0.717320</td>\n",
       "    </tr>\n",
       "    <tr>\n",
       "      <th>3</th>\n",
       "      <td>Linear SVC</td>\n",
       "      <td>0.734944</td>\n",
       "      <td>0.747136</td>\n",
       "    </tr>\n",
       "    <tr>\n",
       "      <th>4</th>\n",
       "      <td>Logistic Regression</td>\n",
       "      <td>0.735590</td>\n",
       "      <td>0.747187</td>\n",
       "    </tr>\n",
       "  </tbody>\n",
       "</table>\n",
       "</div>"
      ],
      "text/plain": [
       "          model_TF_IDF  Roc_auc_cross_val  Roc_auc_test\n",
       "0        Decision Tree           0.648652      0.651917\n",
       "1                  KNN           0.672698      0.682351\n",
       "2          Naive Bayes           0.696858      0.717320\n",
       "3           Linear SVC           0.734944      0.747136\n",
       "4  Logistic Regression           0.735590      0.747187"
      ]
     },
     "execution_count": 52,
     "metadata": {},
     "output_type": "execute_result"
    }
   ],
   "source": [
    "result_TF_IDF=pd.DataFrame({'model_TF_IDF': model_TF_IDF, 'Roc_auc_cross_val': Roc_auc_cv,'Roc_auc_test':Roc_auc_test})\n",
    "result_TF_IDF=result_TF_IDF.sort_values('Roc_auc_test')\n",
    "result_TF_IDF.reset_index(drop = True)"
   ]
  }
 ],
 "metadata": {
  "kernelspec": {
   "display_name": "Python 3 (ipykernel)",
   "language": "python",
   "name": "python3"
  },
  "language_info": {
   "codemirror_mode": {
    "name": "ipython",
    "version": 3
   },
   "file_extension": ".py",
   "mimetype": "text/x-python",
   "name": "python",
   "nbconvert_exporter": "python",
   "pygments_lexer": "ipython3",
   "version": "3.7.12"
  }
 },
 "nbformat": 4,
 "nbformat_minor": 5
}
