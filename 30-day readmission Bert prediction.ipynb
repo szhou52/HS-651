{
 "cells": [
  {
   "cell_type": "code",
   "execution_count": 1,
   "id": "52f4e0a0",
   "metadata": {},
   "outputs": [],
   "source": [
    "! pip install -q pyspark==3.1.3 spark-nlp"
   ]
  },
  {
   "cell_type": "code",
   "execution_count": 1,
   "id": "3f68ac22",
   "metadata": {},
   "outputs": [
    {
     "name": "stdout",
     "output_type": "stream",
     "text": [
      "C:\\Users\\Jasmi\\nlp_course\\HS_651\n"
     ]
    }
   ],
   "source": [
    "%cd C:\\Users\\Jasmi\\nlp_course\\HS_651"
   ]
  },
  {
   "cell_type": "code",
   "execution_count": 2,
   "id": "213e16db",
   "metadata": {},
   "outputs": [],
   "source": [
    "import os\n",
    "import sys\n",
    "\n",
    "from pyspark.sql import SparkSession\n",
    "from pyspark.ml import Pipeline\n",
    "\n",
    "from sparknlp.annotator import *\n",
    "from sparknlp.common import *\n",
    "from sparknlp.base import *\n",
    "\n",
    "import pandas as pd"
   ]
  },
  {
   "cell_type": "code",
   "execution_count": 3,
   "id": "da4e6ed0",
   "metadata": {},
   "outputs": [],
   "source": [
    "from pyspark.ml.feature import SQLTransformer\n",
    "from pyspark.ml.feature import StringIndexer"
   ]
  },
  {
   "cell_type": "code",
   "execution_count": 4,
   "id": "6dcee4dd",
   "metadata": {},
   "outputs": [],
   "source": [
    "import pandas as pd\n",
    "import numpy as np"
   ]
  },
  {
   "cell_type": "code",
   "execution_count": 4,
   "id": "ed3c23ca",
   "metadata": {},
   "outputs": [
    {
     "name": "stdout",
     "output_type": "stream",
     "text": [
      "Spark NLP version:  3.4.2\n",
      "Apache Spark version:  3.1.3\n"
     ]
    },
    {
     "data": {
      "text/html": [
       "\n",
       "            <div>\n",
       "                <p><b>SparkSession - in-memory</b></p>\n",
       "                \n",
       "        <div>\n",
       "            <p><b>SparkContext</b></p>\n",
       "\n",
       "            <p><a href=\"http://10.0.0.39:4040\">Spark UI</a></p>\n",
       "\n",
       "            <dl>\n",
       "              <dt>Version</dt>\n",
       "                <dd><code>v3.1.3</code></dd>\n",
       "              <dt>Master</dt>\n",
       "                <dd><code>local[*]</code></dd>\n",
       "              <dt>AppName</dt>\n",
       "                <dd><code>Spark NLP</code></dd>\n",
       "            </dl>\n",
       "        </div>\n",
       "        \n",
       "            </div>\n",
       "        "
      ],
      "text/plain": [
       "<pyspark.sql.session.SparkSession at 0x25e40549708>"
      ]
     },
     "execution_count": 4,
     "metadata": {},
     "output_type": "execute_result"
    }
   ],
   "source": [
    "import sparknlp\n",
    "spark = sparknlp.start()\n",
    "\n",
    "print(\"Spark NLP version: \", sparknlp.version())\n",
    "print(\"Apache Spark version: \", spark.version)\n",
    "\n",
    "spark"
   ]
  },
  {
   "cell_type": "code",
   "execution_count": 5,
   "id": "a950d71c",
   "metadata": {},
   "outputs": [],
   "source": [
    "readmission=pd.read_csv('df_adm_dis_sum_not_cleaned.csv')"
   ]
  },
  {
   "cell_type": "code",
   "execution_count": 7,
   "id": "a7f4f021",
   "metadata": {},
   "outputs": [
    {
     "data": {
      "text/html": [
       "<div>\n",
       "<style scoped>\n",
       "    .dataframe tbody tr th:only-of-type {\n",
       "        vertical-align: middle;\n",
       "    }\n",
       "\n",
       "    .dataframe tbody tr th {\n",
       "        vertical-align: top;\n",
       "    }\n",
       "\n",
       "    .dataframe thead th {\n",
       "        text-align: right;\n",
       "    }\n",
       "</style>\n",
       "<table border=\"1\" class=\"dataframe\">\n",
       "  <thead>\n",
       "    <tr style=\"text-align: right;\">\n",
       "      <th></th>\n",
       "      <th>Unnamed: 0</th>\n",
       "      <th>ROW_ID</th>\n",
       "      <th>SUBJECT_ID</th>\n",
       "      <th>HADM_ID</th>\n",
       "      <th>ADMITTIME</th>\n",
       "      <th>DISCHTIME</th>\n",
       "      <th>DEATHTIME</th>\n",
       "      <th>ADMISSION_TYPE</th>\n",
       "      <th>ADMISSION_LOCATION</th>\n",
       "      <th>DISCHARGE_LOCATION</th>\n",
       "      <th>...</th>\n",
       "      <th>HOSPITAL_EXPIRE_FLAG</th>\n",
       "      <th>HAS_CHARTEVENTS_DATA</th>\n",
       "      <th>GENDER</th>\n",
       "      <th>DOB</th>\n",
       "      <th>AGE_UPON_ADMIT</th>\n",
       "      <th>READMISSION_TIME</th>\n",
       "      <th>READMISSION_TYPE</th>\n",
       "      <th>READMISSION_INTERVAL</th>\n",
       "      <th>READMISSION_STATUS</th>\n",
       "      <th>TEXT_AGG</th>\n",
       "    </tr>\n",
       "  </thead>\n",
       "  <tbody>\n",
       "    <tr>\n",
       "      <th>0</th>\n",
       "      <td>0</td>\n",
       "      <td>2</td>\n",
       "      <td>3</td>\n",
       "      <td>145834</td>\n",
       "      <td>2101-10-20 19:08:00</td>\n",
       "      <td>2101-10-31 13:58:00</td>\n",
       "      <td>NaN</td>\n",
       "      <td>EMERGENCY</td>\n",
       "      <td>EMERGENCY ROOM ADMIT</td>\n",
       "      <td>SNF</td>\n",
       "      <td>...</td>\n",
       "      <td>0</td>\n",
       "      <td>1</td>\n",
       "      <td>M</td>\n",
       "      <td>2025-04-11 00:00:00</td>\n",
       "      <td>77.0</td>\n",
       "      <td>NaN</td>\n",
       "      <td>NaN</td>\n",
       "      <td>NaN</td>\n",
       "      <td>Non-readmitted</td>\n",
       "      <td>Admission Date:  [**2101-10-20**]     Discharg...</td>\n",
       "    </tr>\n",
       "    <tr>\n",
       "      <th>1</th>\n",
       "      <td>1</td>\n",
       "      <td>3</td>\n",
       "      <td>4</td>\n",
       "      <td>185777</td>\n",
       "      <td>2191-03-16 00:28:00</td>\n",
       "      <td>2191-03-23 18:41:00</td>\n",
       "      <td>NaN</td>\n",
       "      <td>EMERGENCY</td>\n",
       "      <td>EMERGENCY ROOM ADMIT</td>\n",
       "      <td>HOME WITH HOME IV PROVIDR</td>\n",
       "      <td>...</td>\n",
       "      <td>0</td>\n",
       "      <td>1</td>\n",
       "      <td>F</td>\n",
       "      <td>2143-05-12 00:00:00</td>\n",
       "      <td>48.0</td>\n",
       "      <td>NaN</td>\n",
       "      <td>NaN</td>\n",
       "      <td>NaN</td>\n",
       "      <td>Non-readmitted</td>\n",
       "      <td>Admission Date:  [**2191-3-16**]     Discharge...</td>\n",
       "    </tr>\n",
       "    <tr>\n",
       "      <th>2</th>\n",
       "      <td>2</td>\n",
       "      <td>5</td>\n",
       "      <td>6</td>\n",
       "      <td>107064</td>\n",
       "      <td>2175-05-30 07:15:00</td>\n",
       "      <td>2175-06-15 16:00:00</td>\n",
       "      <td>NaN</td>\n",
       "      <td>ELECTIVE</td>\n",
       "      <td>PHYS REFERRAL/NORMAL DELI</td>\n",
       "      <td>HOME HEALTH CARE</td>\n",
       "      <td>...</td>\n",
       "      <td>0</td>\n",
       "      <td>1</td>\n",
       "      <td>F</td>\n",
       "      <td>2109-06-21 00:00:00</td>\n",
       "      <td>66.0</td>\n",
       "      <td>NaN</td>\n",
       "      <td>NaN</td>\n",
       "      <td>NaN</td>\n",
       "      <td>Non-readmitted</td>\n",
       "      <td>Admission Date: [**2175-5-30**]        Dischar...</td>\n",
       "    </tr>\n",
       "    <tr>\n",
       "      <th>3</th>\n",
       "      <td>3</td>\n",
       "      <td>8</td>\n",
       "      <td>9</td>\n",
       "      <td>150750</td>\n",
       "      <td>2149-11-09 13:06:00</td>\n",
       "      <td>2149-11-14 10:15:00</td>\n",
       "      <td>2149-11-14 10:15:00</td>\n",
       "      <td>EMERGENCY</td>\n",
       "      <td>EMERGENCY ROOM ADMIT</td>\n",
       "      <td>DEAD/EXPIRED</td>\n",
       "      <td>...</td>\n",
       "      <td>1</td>\n",
       "      <td>1</td>\n",
       "      <td>M</td>\n",
       "      <td>2108-01-26 00:00:00</td>\n",
       "      <td>42.0</td>\n",
       "      <td>NaN</td>\n",
       "      <td>NaN</td>\n",
       "      <td>NaN</td>\n",
       "      <td>Non-readmitted</td>\n",
       "      <td>Admission Date:  [**2149-11-9**]       Dischar...</td>\n",
       "    </tr>\n",
       "    <tr>\n",
       "      <th>4</th>\n",
       "      <td>4</td>\n",
       "      <td>10</td>\n",
       "      <td>11</td>\n",
       "      <td>194540</td>\n",
       "      <td>2178-04-16 06:18:00</td>\n",
       "      <td>2178-05-11 19:00:00</td>\n",
       "      <td>NaN</td>\n",
       "      <td>EMERGENCY</td>\n",
       "      <td>EMERGENCY ROOM ADMIT</td>\n",
       "      <td>HOME HEALTH CARE</td>\n",
       "      <td>...</td>\n",
       "      <td>0</td>\n",
       "      <td>1</td>\n",
       "      <td>F</td>\n",
       "      <td>2128-02-22 00:00:00</td>\n",
       "      <td>50.0</td>\n",
       "      <td>NaN</td>\n",
       "      <td>NaN</td>\n",
       "      <td>NaN</td>\n",
       "      <td>Non-readmitted</td>\n",
       "      <td>Admission Date:  [**2178-4-16**]              ...</td>\n",
       "    </tr>\n",
       "    <tr>\n",
       "      <th>5</th>\n",
       "      <td>5</td>\n",
       "      <td>11</td>\n",
       "      <td>12</td>\n",
       "      <td>112213</td>\n",
       "      <td>2104-08-07 10:15:00</td>\n",
       "      <td>2104-08-20 02:57:00</td>\n",
       "      <td>2104-08-20 02:57:00</td>\n",
       "      <td>ELECTIVE</td>\n",
       "      <td>PHYS REFERRAL/NORMAL DELI</td>\n",
       "      <td>DEAD/EXPIRED</td>\n",
       "      <td>...</td>\n",
       "      <td>1</td>\n",
       "      <td>1</td>\n",
       "      <td>M</td>\n",
       "      <td>2032-03-24 00:00:00</td>\n",
       "      <td>72.0</td>\n",
       "      <td>NaN</td>\n",
       "      <td>NaN</td>\n",
       "      <td>NaN</td>\n",
       "      <td>Non-readmitted</td>\n",
       "      <td>Admission Date:  [**2104-8-7**]     Discharge ...</td>\n",
       "    </tr>\n",
       "    <tr>\n",
       "      <th>6</th>\n",
       "      <td>6</td>\n",
       "      <td>12</td>\n",
       "      <td>13</td>\n",
       "      <td>143045</td>\n",
       "      <td>2167-01-08 18:43:00</td>\n",
       "      <td>2167-01-15 15:15:00</td>\n",
       "      <td>NaN</td>\n",
       "      <td>EMERGENCY</td>\n",
       "      <td>TRANSFER FROM HOSP/EXTRAM</td>\n",
       "      <td>HOME HEALTH CARE</td>\n",
       "      <td>...</td>\n",
       "      <td>0</td>\n",
       "      <td>1</td>\n",
       "      <td>F</td>\n",
       "      <td>2127-02-27 00:00:00</td>\n",
       "      <td>40.0</td>\n",
       "      <td>NaN</td>\n",
       "      <td>NaN</td>\n",
       "      <td>NaN</td>\n",
       "      <td>Non-readmitted</td>\n",
       "      <td>Admission Date:  [**2167-1-8**]       Discharg...</td>\n",
       "    </tr>\n",
       "    <tr>\n",
       "      <th>7</th>\n",
       "      <td>7</td>\n",
       "      <td>14</td>\n",
       "      <td>17</td>\n",
       "      <td>194023</td>\n",
       "      <td>2134-12-27 07:15:00</td>\n",
       "      <td>2134-12-31 16:05:00</td>\n",
       "      <td>NaN</td>\n",
       "      <td>ELECTIVE</td>\n",
       "      <td>PHYS REFERRAL/NORMAL DELI</td>\n",
       "      <td>HOME HEALTH CARE</td>\n",
       "      <td>...</td>\n",
       "      <td>0</td>\n",
       "      <td>1</td>\n",
       "      <td>F</td>\n",
       "      <td>2087-07-14 00:00:00</td>\n",
       "      <td>47.0</td>\n",
       "      <td>2135-05-09 14:11:00</td>\n",
       "      <td>EMERGENCY</td>\n",
       "      <td>128.0</td>\n",
       "      <td>Non-readmitted</td>\n",
       "      <td>Admission Date:  [**2134-12-27**]             ...</td>\n",
       "    </tr>\n",
       "    <tr>\n",
       "      <th>8</th>\n",
       "      <td>8</td>\n",
       "      <td>15</td>\n",
       "      <td>17</td>\n",
       "      <td>161087</td>\n",
       "      <td>2135-05-09 14:11:00</td>\n",
       "      <td>2135-05-13 14:40:00</td>\n",
       "      <td>NaN</td>\n",
       "      <td>EMERGENCY</td>\n",
       "      <td>EMERGENCY ROOM ADMIT</td>\n",
       "      <td>HOME HEALTH CARE</td>\n",
       "      <td>...</td>\n",
       "      <td>0</td>\n",
       "      <td>1</td>\n",
       "      <td>F</td>\n",
       "      <td>2087-07-14 00:00:00</td>\n",
       "      <td>48.0</td>\n",
       "      <td>NaN</td>\n",
       "      <td>NaN</td>\n",
       "      <td>NaN</td>\n",
       "      <td>Non-readmitted</td>\n",
       "      <td>Admission Date:  [**2135-5-9**]              D...</td>\n",
       "    </tr>\n",
       "    <tr>\n",
       "      <th>9</th>\n",
       "      <td>9</td>\n",
       "      <td>16</td>\n",
       "      <td>18</td>\n",
       "      <td>188822</td>\n",
       "      <td>2167-10-02 11:18:00</td>\n",
       "      <td>2167-10-04 16:15:00</td>\n",
       "      <td>NaN</td>\n",
       "      <td>EMERGENCY</td>\n",
       "      <td>PHYS REFERRAL/NORMAL DELI</td>\n",
       "      <td>HOME</td>\n",
       "      <td>...</td>\n",
       "      <td>0</td>\n",
       "      <td>1</td>\n",
       "      <td>M</td>\n",
       "      <td>2116-11-29 00:00:00</td>\n",
       "      <td>51.0</td>\n",
       "      <td>NaN</td>\n",
       "      <td>NaN</td>\n",
       "      <td>NaN</td>\n",
       "      <td>Non-readmitted</td>\n",
       "      <td>Admission Date:  [**2167-9-30**]              ...</td>\n",
       "    </tr>\n",
       "    <tr>\n",
       "      <th>10</th>\n",
       "      <td>10</td>\n",
       "      <td>18</td>\n",
       "      <td>20</td>\n",
       "      <td>157681</td>\n",
       "      <td>2183-04-28 09:45:00</td>\n",
       "      <td>2183-05-03 14:45:00</td>\n",
       "      <td>NaN</td>\n",
       "      <td>ELECTIVE</td>\n",
       "      <td>PHYS REFERRAL/NORMAL DELI</td>\n",
       "      <td>HOME</td>\n",
       "      <td>...</td>\n",
       "      <td>0</td>\n",
       "      <td>1</td>\n",
       "      <td>F</td>\n",
       "      <td>2107-06-13 00:00:00</td>\n",
       "      <td>76.0</td>\n",
       "      <td>NaN</td>\n",
       "      <td>NaN</td>\n",
       "      <td>NaN</td>\n",
       "      <td>Non-readmitted</td>\n",
       "      <td>Admission Date:  [**2183-5-10**]       Dischar...</td>\n",
       "    </tr>\n",
       "    <tr>\n",
       "      <th>11</th>\n",
       "      <td>11</td>\n",
       "      <td>19</td>\n",
       "      <td>21</td>\n",
       "      <td>109451</td>\n",
       "      <td>2134-09-11 12:17:00</td>\n",
       "      <td>2134-09-24 16:15:00</td>\n",
       "      <td>NaN</td>\n",
       "      <td>EMERGENCY</td>\n",
       "      <td>EMERGENCY ROOM ADMIT</td>\n",
       "      <td>REHAB/DISTINCT PART HOSP</td>\n",
       "      <td>...</td>\n",
       "      <td>0</td>\n",
       "      <td>1</td>\n",
       "      <td>M</td>\n",
       "      <td>2047-04-04 00:00:00</td>\n",
       "      <td>87.0</td>\n",
       "      <td>2135-01-30 20:50:00</td>\n",
       "      <td>EMERGENCY</td>\n",
       "      <td>128.0</td>\n",
       "      <td>Non-readmitted</td>\n",
       "      <td>Admission Date:  [**2134-9-11**]              ...</td>\n",
       "    </tr>\n",
       "    <tr>\n",
       "      <th>12</th>\n",
       "      <td>12</td>\n",
       "      <td>20</td>\n",
       "      <td>21</td>\n",
       "      <td>111970</td>\n",
       "      <td>2135-01-30 20:50:00</td>\n",
       "      <td>2135-02-08 02:08:00</td>\n",
       "      <td>2135-02-08 02:08:00</td>\n",
       "      <td>EMERGENCY</td>\n",
       "      <td>EMERGENCY ROOM ADMIT</td>\n",
       "      <td>DEAD/EXPIRED</td>\n",
       "      <td>...</td>\n",
       "      <td>1</td>\n",
       "      <td>1</td>\n",
       "      <td>M</td>\n",
       "      <td>2047-04-04 00:00:00</td>\n",
       "      <td>88.0</td>\n",
       "      <td>NaN</td>\n",
       "      <td>NaN</td>\n",
       "      <td>NaN</td>\n",
       "      <td>Non-readmitted</td>\n",
       "      <td>Admission Date:  [**2135-1-30**]              ...</td>\n",
       "    </tr>\n",
       "    <tr>\n",
       "      <th>13</th>\n",
       "      <td>13</td>\n",
       "      <td>21</td>\n",
       "      <td>22</td>\n",
       "      <td>165315</td>\n",
       "      <td>2196-04-09 12:26:00</td>\n",
       "      <td>2196-04-10 15:54:00</td>\n",
       "      <td>NaN</td>\n",
       "      <td>EMERGENCY</td>\n",
       "      <td>EMERGENCY ROOM ADMIT</td>\n",
       "      <td>DISC-TRAN CANCER/CHLDRN H</td>\n",
       "      <td>...</td>\n",
       "      <td>0</td>\n",
       "      <td>1</td>\n",
       "      <td>F</td>\n",
       "      <td>2131-05-07 00:00:00</td>\n",
       "      <td>65.0</td>\n",
       "      <td>NaN</td>\n",
       "      <td>NaN</td>\n",
       "      <td>NaN</td>\n",
       "      <td>Non-readmitted</td>\n",
       "      <td>Admission Date:  [**2196-4-9**]       Discharg...</td>\n",
       "    </tr>\n",
       "    <tr>\n",
       "      <th>14</th>\n",
       "      <td>14</td>\n",
       "      <td>22</td>\n",
       "      <td>23</td>\n",
       "      <td>152223</td>\n",
       "      <td>2153-09-03 07:15:00</td>\n",
       "      <td>2153-09-08 19:10:00</td>\n",
       "      <td>NaN</td>\n",
       "      <td>ELECTIVE</td>\n",
       "      <td>PHYS REFERRAL/NORMAL DELI</td>\n",
       "      <td>HOME HEALTH CARE</td>\n",
       "      <td>...</td>\n",
       "      <td>0</td>\n",
       "      <td>1</td>\n",
       "      <td>M</td>\n",
       "      <td>2082-07-17 00:00:00</td>\n",
       "      <td>71.0</td>\n",
       "      <td>2157-10-18 19:34:00</td>\n",
       "      <td>EMERGENCY</td>\n",
       "      <td>1501.0</td>\n",
       "      <td>Non-readmitted</td>\n",
       "      <td>Admission Date:  [**2153-9-3**]              D...</td>\n",
       "    </tr>\n",
       "    <tr>\n",
       "      <th>15</th>\n",
       "      <td>15</td>\n",
       "      <td>23</td>\n",
       "      <td>23</td>\n",
       "      <td>124321</td>\n",
       "      <td>2157-10-18 19:34:00</td>\n",
       "      <td>2157-10-25 14:00:00</td>\n",
       "      <td>NaN</td>\n",
       "      <td>EMERGENCY</td>\n",
       "      <td>TRANSFER FROM HOSP/EXTRAM</td>\n",
       "      <td>HOME HEALTH CARE</td>\n",
       "      <td>...</td>\n",
       "      <td>0</td>\n",
       "      <td>1</td>\n",
       "      <td>M</td>\n",
       "      <td>2082-07-17 00:00:00</td>\n",
       "      <td>75.0</td>\n",
       "      <td>NaN</td>\n",
       "      <td>NaN</td>\n",
       "      <td>NaN</td>\n",
       "      <td>Non-readmitted</td>\n",
       "      <td>Admission Date:  [**2157-10-18**]             ...</td>\n",
       "    </tr>\n",
       "    <tr>\n",
       "      <th>16</th>\n",
       "      <td>16</td>\n",
       "      <td>24</td>\n",
       "      <td>24</td>\n",
       "      <td>161859</td>\n",
       "      <td>2139-06-06 16:14:00</td>\n",
       "      <td>2139-06-09 12:48:00</td>\n",
       "      <td>NaN</td>\n",
       "      <td>EMERGENCY</td>\n",
       "      <td>TRANSFER FROM HOSP/EXTRAM</td>\n",
       "      <td>HOME</td>\n",
       "      <td>...</td>\n",
       "      <td>0</td>\n",
       "      <td>1</td>\n",
       "      <td>M</td>\n",
       "      <td>2100-05-31 00:00:00</td>\n",
       "      <td>39.0</td>\n",
       "      <td>NaN</td>\n",
       "      <td>NaN</td>\n",
       "      <td>NaN</td>\n",
       "      <td>Non-readmitted</td>\n",
       "      <td>Admission Date:  [**2139-6-6**]              D...</td>\n",
       "    </tr>\n",
       "    <tr>\n",
       "      <th>17</th>\n",
       "      <td>17</td>\n",
       "      <td>25</td>\n",
       "      <td>25</td>\n",
       "      <td>129635</td>\n",
       "      <td>2160-11-02 02:06:00</td>\n",
       "      <td>2160-11-05 14:55:00</td>\n",
       "      <td>NaN</td>\n",
       "      <td>EMERGENCY</td>\n",
       "      <td>EMERGENCY ROOM ADMIT</td>\n",
       "      <td>HOME</td>\n",
       "      <td>...</td>\n",
       "      <td>0</td>\n",
       "      <td>1</td>\n",
       "      <td>M</td>\n",
       "      <td>2101-11-21 00:00:00</td>\n",
       "      <td>59.0</td>\n",
       "      <td>NaN</td>\n",
       "      <td>NaN</td>\n",
       "      <td>NaN</td>\n",
       "      <td>Non-readmitted</td>\n",
       "      <td>Admission Date:  [**2160-11-2**]              ...</td>\n",
       "    </tr>\n",
       "    <tr>\n",
       "      <th>18</th>\n",
       "      <td>18</td>\n",
       "      <td>26</td>\n",
       "      <td>26</td>\n",
       "      <td>197661</td>\n",
       "      <td>2126-05-06 15:16:00</td>\n",
       "      <td>2126-05-13 15:00:00</td>\n",
       "      <td>NaN</td>\n",
       "      <td>EMERGENCY</td>\n",
       "      <td>TRANSFER FROM HOSP/EXTRAM</td>\n",
       "      <td>HOME</td>\n",
       "      <td>...</td>\n",
       "      <td>0</td>\n",
       "      <td>1</td>\n",
       "      <td>M</td>\n",
       "      <td>2054-05-04 00:00:00</td>\n",
       "      <td>72.0</td>\n",
       "      <td>NaN</td>\n",
       "      <td>NaN</td>\n",
       "      <td>NaN</td>\n",
       "      <td>Non-readmitted</td>\n",
       "      <td>Admission Date:  [**2126-5-6**]     Discharge ...</td>\n",
       "    </tr>\n",
       "    <tr>\n",
       "      <th>19</th>\n",
       "      <td>19</td>\n",
       "      <td>28</td>\n",
       "      <td>28</td>\n",
       "      <td>162569</td>\n",
       "      <td>2177-09-01 07:15:00</td>\n",
       "      <td>2177-09-06 16:00:00</td>\n",
       "      <td>NaN</td>\n",
       "      <td>ELECTIVE</td>\n",
       "      <td>PHYS REFERRAL/NORMAL DELI</td>\n",
       "      <td>HOME HEALTH CARE</td>\n",
       "      <td>...</td>\n",
       "      <td>0</td>\n",
       "      <td>1</td>\n",
       "      <td>M</td>\n",
       "      <td>2103-04-15 00:00:00</td>\n",
       "      <td>74.0</td>\n",
       "      <td>NaN</td>\n",
       "      <td>NaN</td>\n",
       "      <td>NaN</td>\n",
       "      <td>Non-readmitted</td>\n",
       "      <td>Admission Date: [**2177-9-1**]        Discharg...</td>\n",
       "    </tr>\n",
       "    <tr>\n",
       "      <th>20</th>\n",
       "      <td>20</td>\n",
       "      <td>30</td>\n",
       "      <td>31</td>\n",
       "      <td>128652</td>\n",
       "      <td>2108-08-22 23:27:00</td>\n",
       "      <td>2108-08-30 15:00:00</td>\n",
       "      <td>2108-08-30 15:00:00</td>\n",
       "      <td>EMERGENCY</td>\n",
       "      <td>TRANSFER FROM HOSP/EXTRAM</td>\n",
       "      <td>DEAD/EXPIRED</td>\n",
       "      <td>...</td>\n",
       "      <td>1</td>\n",
       "      <td>1</td>\n",
       "      <td>M</td>\n",
       "      <td>2036-05-17 00:00:00</td>\n",
       "      <td>72.0</td>\n",
       "      <td>NaN</td>\n",
       "      <td>NaN</td>\n",
       "      <td>NaN</td>\n",
       "      <td>Non-readmitted</td>\n",
       "      <td>Admission Date:  [**2108-8-22**]     Discharge...</td>\n",
       "    </tr>\n",
       "    <tr>\n",
       "      <th>21</th>\n",
       "      <td>21</td>\n",
       "      <td>31</td>\n",
       "      <td>32</td>\n",
       "      <td>175413</td>\n",
       "      <td>2170-04-04 08:00:00</td>\n",
       "      <td>2170-04-23 12:45:00</td>\n",
       "      <td>NaN</td>\n",
       "      <td>ELECTIVE</td>\n",
       "      <td>PHYS REFERRAL/NORMAL DELI</td>\n",
       "      <td>HOME</td>\n",
       "      <td>...</td>\n",
       "      <td>0</td>\n",
       "      <td>1</td>\n",
       "      <td>M</td>\n",
       "      <td>2124-09-29 00:00:00</td>\n",
       "      <td>46.0</td>\n",
       "      <td>NaN</td>\n",
       "      <td>NaN</td>\n",
       "      <td>NaN</td>\n",
       "      <td>Non-readmitted</td>\n",
       "      <td>Admission Date:  [**2170-4-4**]     Discharge ...</td>\n",
       "    </tr>\n",
       "    <tr>\n",
       "      <th>22</th>\n",
       "      <td>22</td>\n",
       "      <td>32</td>\n",
       "      <td>33</td>\n",
       "      <td>176176</td>\n",
       "      <td>2116-12-23 22:30:00</td>\n",
       "      <td>2116-12-27 12:05:00</td>\n",
       "      <td>NaN</td>\n",
       "      <td>EMERGENCY</td>\n",
       "      <td>EMERGENCY ROOM ADMIT</td>\n",
       "      <td>HOME</td>\n",
       "      <td>...</td>\n",
       "      <td>0</td>\n",
       "      <td>1</td>\n",
       "      <td>M</td>\n",
       "      <td>2034-08-02 00:00:00</td>\n",
       "      <td>82.0</td>\n",
       "      <td>NaN</td>\n",
       "      <td>NaN</td>\n",
       "      <td>NaN</td>\n",
       "      <td>Non-readmitted</td>\n",
       "      <td>Admission Date:  [**2116-12-23**]     Discharg...</td>\n",
       "    </tr>\n",
       "    <tr>\n",
       "      <th>23</th>\n",
       "      <td>23</td>\n",
       "      <td>35</td>\n",
       "      <td>35</td>\n",
       "      <td>166707</td>\n",
       "      <td>2122-02-10 11:15:00</td>\n",
       "      <td>2122-02-20 15:30:00</td>\n",
       "      <td>NaN</td>\n",
       "      <td>ELECTIVE</td>\n",
       "      <td>PHYS REFERRAL/NORMAL DELI</td>\n",
       "      <td>HOME HEALTH CARE</td>\n",
       "      <td>...</td>\n",
       "      <td>0</td>\n",
       "      <td>1</td>\n",
       "      <td>F</td>\n",
       "      <td>2052-09-01 00:00:00</td>\n",
       "      <td>69.0</td>\n",
       "      <td>NaN</td>\n",
       "      <td>NaN</td>\n",
       "      <td>NaN</td>\n",
       "      <td>Non-readmitted</td>\n",
       "      <td>Admission Date:  [**2122-2-10**]              ...</td>\n",
       "    </tr>\n",
       "    <tr>\n",
       "      <th>24</th>\n",
       "      <td>24</td>\n",
       "      <td>36</td>\n",
       "      <td>36</td>\n",
       "      <td>182104</td>\n",
       "      <td>2131-04-30 07:15:00</td>\n",
       "      <td>2131-05-08 14:00:00</td>\n",
       "      <td>NaN</td>\n",
       "      <td>EMERGENCY</td>\n",
       "      <td>CLINIC REFERRAL/PREMATURE</td>\n",
       "      <td>HOME HEALTH CARE</td>\n",
       "      <td>...</td>\n",
       "      <td>0</td>\n",
       "      <td>1</td>\n",
       "      <td>M</td>\n",
       "      <td>2061-08-17 00:00:00</td>\n",
       "      <td>70.0</td>\n",
       "      <td>2131-05-12 19:49:00</td>\n",
       "      <td>EMERGENCY</td>\n",
       "      <td>4.0</td>\n",
       "      <td>Readmitted</td>\n",
       "      <td>Admission Date:  [**2131-4-30**]              ...</td>\n",
       "    </tr>\n",
       "    <tr>\n",
       "      <th>25</th>\n",
       "      <td>25</td>\n",
       "      <td>37</td>\n",
       "      <td>36</td>\n",
       "      <td>122659</td>\n",
       "      <td>2131-05-12 19:49:00</td>\n",
       "      <td>2131-05-25 13:30:00</td>\n",
       "      <td>NaN</td>\n",
       "      <td>EMERGENCY</td>\n",
       "      <td>EMERGENCY ROOM ADMIT</td>\n",
       "      <td>REHAB/DISTINCT PART HOSP</td>\n",
       "      <td>...</td>\n",
       "      <td>0</td>\n",
       "      <td>1</td>\n",
       "      <td>M</td>\n",
       "      <td>2061-08-17 00:00:00</td>\n",
       "      <td>70.0</td>\n",
       "      <td>NaN</td>\n",
       "      <td>NaN</td>\n",
       "      <td>NaN</td>\n",
       "      <td>Non-readmitted</td>\n",
       "      <td>Admission Date:  [**2131-5-12**]              ...</td>\n",
       "    </tr>\n",
       "    <tr>\n",
       "      <th>26</th>\n",
       "      <td>26</td>\n",
       "      <td>38</td>\n",
       "      <td>36</td>\n",
       "      <td>165660</td>\n",
       "      <td>2134-05-10 11:30:00</td>\n",
       "      <td>2134-05-20 13:16:00</td>\n",
       "      <td>NaN</td>\n",
       "      <td>ELECTIVE</td>\n",
       "      <td>PHYS REFERRAL/NORMAL DELI</td>\n",
       "      <td>LONG TERM CARE HOSPITAL</td>\n",
       "      <td>...</td>\n",
       "      <td>0</td>\n",
       "      <td>1</td>\n",
       "      <td>M</td>\n",
       "      <td>2061-08-17 00:00:00</td>\n",
       "      <td>73.0</td>\n",
       "      <td>NaN</td>\n",
       "      <td>NaN</td>\n",
       "      <td>NaN</td>\n",
       "      <td>Non-readmitted</td>\n",
       "      <td>Admission Date:  [**2134-5-10**]              ...</td>\n",
       "    </tr>\n",
       "    <tr>\n",
       "      <th>27</th>\n",
       "      <td>27</td>\n",
       "      <td>39</td>\n",
       "      <td>37</td>\n",
       "      <td>188670</td>\n",
       "      <td>2183-08-21 16:48:00</td>\n",
       "      <td>2183-08-26 18:54:00</td>\n",
       "      <td>NaN</td>\n",
       "      <td>EMERGENCY</td>\n",
       "      <td>EMERGENCY ROOM ADMIT</td>\n",
       "      <td>HOME HEALTH CARE</td>\n",
       "      <td>...</td>\n",
       "      <td>0</td>\n",
       "      <td>1</td>\n",
       "      <td>M</td>\n",
       "      <td>2114-09-17 00:00:00</td>\n",
       "      <td>69.0</td>\n",
       "      <td>NaN</td>\n",
       "      <td>NaN</td>\n",
       "      <td>NaN</td>\n",
       "      <td>Non-readmitted</td>\n",
       "      <td>Admission Date:  [**2183-8-21**]     Discharge...</td>\n",
       "    </tr>\n",
       "    <tr>\n",
       "      <th>28</th>\n",
       "      <td>28</td>\n",
       "      <td>40</td>\n",
       "      <td>38</td>\n",
       "      <td>185910</td>\n",
       "      <td>2166-08-10 00:28:00</td>\n",
       "      <td>2166-09-04 11:30:00</td>\n",
       "      <td>NaN</td>\n",
       "      <td>EMERGENCY</td>\n",
       "      <td>TRANSFER FROM HOSP/EXTRAM</td>\n",
       "      <td>LONG TERM CARE HOSPITAL</td>\n",
       "      <td>...</td>\n",
       "      <td>0</td>\n",
       "      <td>1</td>\n",
       "      <td>M</td>\n",
       "      <td>2090-08-31 00:00:00</td>\n",
       "      <td>76.0</td>\n",
       "      <td>NaN</td>\n",
       "      <td>NaN</td>\n",
       "      <td>NaN</td>\n",
       "      <td>Non-readmitted</td>\n",
       "      <td>Admission Date:  [**2166-8-10**]              ...</td>\n",
       "    </tr>\n",
       "    <tr>\n",
       "      <th>29</th>\n",
       "      <td>29</td>\n",
       "      <td>42</td>\n",
       "      <td>41</td>\n",
       "      <td>101757</td>\n",
       "      <td>2132-12-31 10:30:00</td>\n",
       "      <td>2133-01-27 15:45:00</td>\n",
       "      <td>NaN</td>\n",
       "      <td>ELECTIVE</td>\n",
       "      <td>PHYS REFERRAL/NORMAL DELI</td>\n",
       "      <td>DISC-TRAN TO FEDERAL HC</td>\n",
       "      <td>...</td>\n",
       "      <td>0</td>\n",
       "      <td>1</td>\n",
       "      <td>M</td>\n",
       "      <td>2076-05-13 00:00:00</td>\n",
       "      <td>57.0</td>\n",
       "      <td>NaN</td>\n",
       "      <td>NaN</td>\n",
       "      <td>NaN</td>\n",
       "      <td>Non-readmitted</td>\n",
       "      <td>Admission Date:  [**2132-12-31**]             ...</td>\n",
       "    </tr>\n",
       "  </tbody>\n",
       "</table>\n",
       "<p>30 rows × 28 columns</p>\n",
       "</div>"
      ],
      "text/plain": [
       "    Unnamed: 0  ROW_ID  SUBJECT_ID  HADM_ID            ADMITTIME  \\\n",
       "0            0       2           3   145834  2101-10-20 19:08:00   \n",
       "1            1       3           4   185777  2191-03-16 00:28:00   \n",
       "2            2       5           6   107064  2175-05-30 07:15:00   \n",
       "3            3       8           9   150750  2149-11-09 13:06:00   \n",
       "4            4      10          11   194540  2178-04-16 06:18:00   \n",
       "5            5      11          12   112213  2104-08-07 10:15:00   \n",
       "6            6      12          13   143045  2167-01-08 18:43:00   \n",
       "7            7      14          17   194023  2134-12-27 07:15:00   \n",
       "8            8      15          17   161087  2135-05-09 14:11:00   \n",
       "9            9      16          18   188822  2167-10-02 11:18:00   \n",
       "10          10      18          20   157681  2183-04-28 09:45:00   \n",
       "11          11      19          21   109451  2134-09-11 12:17:00   \n",
       "12          12      20          21   111970  2135-01-30 20:50:00   \n",
       "13          13      21          22   165315  2196-04-09 12:26:00   \n",
       "14          14      22          23   152223  2153-09-03 07:15:00   \n",
       "15          15      23          23   124321  2157-10-18 19:34:00   \n",
       "16          16      24          24   161859  2139-06-06 16:14:00   \n",
       "17          17      25          25   129635  2160-11-02 02:06:00   \n",
       "18          18      26          26   197661  2126-05-06 15:16:00   \n",
       "19          19      28          28   162569  2177-09-01 07:15:00   \n",
       "20          20      30          31   128652  2108-08-22 23:27:00   \n",
       "21          21      31          32   175413  2170-04-04 08:00:00   \n",
       "22          22      32          33   176176  2116-12-23 22:30:00   \n",
       "23          23      35          35   166707  2122-02-10 11:15:00   \n",
       "24          24      36          36   182104  2131-04-30 07:15:00   \n",
       "25          25      37          36   122659  2131-05-12 19:49:00   \n",
       "26          26      38          36   165660  2134-05-10 11:30:00   \n",
       "27          27      39          37   188670  2183-08-21 16:48:00   \n",
       "28          28      40          38   185910  2166-08-10 00:28:00   \n",
       "29          29      42          41   101757  2132-12-31 10:30:00   \n",
       "\n",
       "              DISCHTIME            DEATHTIME ADMISSION_TYPE  \\\n",
       "0   2101-10-31 13:58:00                  NaN      EMERGENCY   \n",
       "1   2191-03-23 18:41:00                  NaN      EMERGENCY   \n",
       "2   2175-06-15 16:00:00                  NaN       ELECTIVE   \n",
       "3   2149-11-14 10:15:00  2149-11-14 10:15:00      EMERGENCY   \n",
       "4   2178-05-11 19:00:00                  NaN      EMERGENCY   \n",
       "5   2104-08-20 02:57:00  2104-08-20 02:57:00       ELECTIVE   \n",
       "6   2167-01-15 15:15:00                  NaN      EMERGENCY   \n",
       "7   2134-12-31 16:05:00                  NaN       ELECTIVE   \n",
       "8   2135-05-13 14:40:00                  NaN      EMERGENCY   \n",
       "9   2167-10-04 16:15:00                  NaN      EMERGENCY   \n",
       "10  2183-05-03 14:45:00                  NaN       ELECTIVE   \n",
       "11  2134-09-24 16:15:00                  NaN      EMERGENCY   \n",
       "12  2135-02-08 02:08:00  2135-02-08 02:08:00      EMERGENCY   \n",
       "13  2196-04-10 15:54:00                  NaN      EMERGENCY   \n",
       "14  2153-09-08 19:10:00                  NaN       ELECTIVE   \n",
       "15  2157-10-25 14:00:00                  NaN      EMERGENCY   \n",
       "16  2139-06-09 12:48:00                  NaN      EMERGENCY   \n",
       "17  2160-11-05 14:55:00                  NaN      EMERGENCY   \n",
       "18  2126-05-13 15:00:00                  NaN      EMERGENCY   \n",
       "19  2177-09-06 16:00:00                  NaN       ELECTIVE   \n",
       "20  2108-08-30 15:00:00  2108-08-30 15:00:00      EMERGENCY   \n",
       "21  2170-04-23 12:45:00                  NaN       ELECTIVE   \n",
       "22  2116-12-27 12:05:00                  NaN      EMERGENCY   \n",
       "23  2122-02-20 15:30:00                  NaN       ELECTIVE   \n",
       "24  2131-05-08 14:00:00                  NaN      EMERGENCY   \n",
       "25  2131-05-25 13:30:00                  NaN      EMERGENCY   \n",
       "26  2134-05-20 13:16:00                  NaN       ELECTIVE   \n",
       "27  2183-08-26 18:54:00                  NaN      EMERGENCY   \n",
       "28  2166-09-04 11:30:00                  NaN      EMERGENCY   \n",
       "29  2133-01-27 15:45:00                  NaN       ELECTIVE   \n",
       "\n",
       "           ADMISSION_LOCATION         DISCHARGE_LOCATION  ...  \\\n",
       "0        EMERGENCY ROOM ADMIT                        SNF  ...   \n",
       "1        EMERGENCY ROOM ADMIT  HOME WITH HOME IV PROVIDR  ...   \n",
       "2   PHYS REFERRAL/NORMAL DELI           HOME HEALTH CARE  ...   \n",
       "3        EMERGENCY ROOM ADMIT               DEAD/EXPIRED  ...   \n",
       "4        EMERGENCY ROOM ADMIT           HOME HEALTH CARE  ...   \n",
       "5   PHYS REFERRAL/NORMAL DELI               DEAD/EXPIRED  ...   \n",
       "6   TRANSFER FROM HOSP/EXTRAM           HOME HEALTH CARE  ...   \n",
       "7   PHYS REFERRAL/NORMAL DELI           HOME HEALTH CARE  ...   \n",
       "8        EMERGENCY ROOM ADMIT           HOME HEALTH CARE  ...   \n",
       "9   PHYS REFERRAL/NORMAL DELI                       HOME  ...   \n",
       "10  PHYS REFERRAL/NORMAL DELI                       HOME  ...   \n",
       "11       EMERGENCY ROOM ADMIT   REHAB/DISTINCT PART HOSP  ...   \n",
       "12       EMERGENCY ROOM ADMIT               DEAD/EXPIRED  ...   \n",
       "13       EMERGENCY ROOM ADMIT  DISC-TRAN CANCER/CHLDRN H  ...   \n",
       "14  PHYS REFERRAL/NORMAL DELI           HOME HEALTH CARE  ...   \n",
       "15  TRANSFER FROM HOSP/EXTRAM           HOME HEALTH CARE  ...   \n",
       "16  TRANSFER FROM HOSP/EXTRAM                       HOME  ...   \n",
       "17       EMERGENCY ROOM ADMIT                       HOME  ...   \n",
       "18  TRANSFER FROM HOSP/EXTRAM                       HOME  ...   \n",
       "19  PHYS REFERRAL/NORMAL DELI           HOME HEALTH CARE  ...   \n",
       "20  TRANSFER FROM HOSP/EXTRAM               DEAD/EXPIRED  ...   \n",
       "21  PHYS REFERRAL/NORMAL DELI                       HOME  ...   \n",
       "22       EMERGENCY ROOM ADMIT                       HOME  ...   \n",
       "23  PHYS REFERRAL/NORMAL DELI           HOME HEALTH CARE  ...   \n",
       "24  CLINIC REFERRAL/PREMATURE           HOME HEALTH CARE  ...   \n",
       "25       EMERGENCY ROOM ADMIT   REHAB/DISTINCT PART HOSP  ...   \n",
       "26  PHYS REFERRAL/NORMAL DELI    LONG TERM CARE HOSPITAL  ...   \n",
       "27       EMERGENCY ROOM ADMIT           HOME HEALTH CARE  ...   \n",
       "28  TRANSFER FROM HOSP/EXTRAM    LONG TERM CARE HOSPITAL  ...   \n",
       "29  PHYS REFERRAL/NORMAL DELI    DISC-TRAN TO FEDERAL HC  ...   \n",
       "\n",
       "   HOSPITAL_EXPIRE_FLAG HAS_CHARTEVENTS_DATA GENDER                  DOB  \\\n",
       "0                     0                    1      M  2025-04-11 00:00:00   \n",
       "1                     0                    1      F  2143-05-12 00:00:00   \n",
       "2                     0                    1      F  2109-06-21 00:00:00   \n",
       "3                     1                    1      M  2108-01-26 00:00:00   \n",
       "4                     0                    1      F  2128-02-22 00:00:00   \n",
       "5                     1                    1      M  2032-03-24 00:00:00   \n",
       "6                     0                    1      F  2127-02-27 00:00:00   \n",
       "7                     0                    1      F  2087-07-14 00:00:00   \n",
       "8                     0                    1      F  2087-07-14 00:00:00   \n",
       "9                     0                    1      M  2116-11-29 00:00:00   \n",
       "10                    0                    1      F  2107-06-13 00:00:00   \n",
       "11                    0                    1      M  2047-04-04 00:00:00   \n",
       "12                    1                    1      M  2047-04-04 00:00:00   \n",
       "13                    0                    1      F  2131-05-07 00:00:00   \n",
       "14                    0                    1      M  2082-07-17 00:00:00   \n",
       "15                    0                    1      M  2082-07-17 00:00:00   \n",
       "16                    0                    1      M  2100-05-31 00:00:00   \n",
       "17                    0                    1      M  2101-11-21 00:00:00   \n",
       "18                    0                    1      M  2054-05-04 00:00:00   \n",
       "19                    0                    1      M  2103-04-15 00:00:00   \n",
       "20                    1                    1      M  2036-05-17 00:00:00   \n",
       "21                    0                    1      M  2124-09-29 00:00:00   \n",
       "22                    0                    1      M  2034-08-02 00:00:00   \n",
       "23                    0                    1      F  2052-09-01 00:00:00   \n",
       "24                    0                    1      M  2061-08-17 00:00:00   \n",
       "25                    0                    1      M  2061-08-17 00:00:00   \n",
       "26                    0                    1      M  2061-08-17 00:00:00   \n",
       "27                    0                    1      M  2114-09-17 00:00:00   \n",
       "28                    0                    1      M  2090-08-31 00:00:00   \n",
       "29                    0                    1      M  2076-05-13 00:00:00   \n",
       "\n",
       "   AGE_UPON_ADMIT     READMISSION_TIME READMISSION_TYPE READMISSION_INTERVAL  \\\n",
       "0            77.0                  NaN              NaN                  NaN   \n",
       "1            48.0                  NaN              NaN                  NaN   \n",
       "2            66.0                  NaN              NaN                  NaN   \n",
       "3            42.0                  NaN              NaN                  NaN   \n",
       "4            50.0                  NaN              NaN                  NaN   \n",
       "5            72.0                  NaN              NaN                  NaN   \n",
       "6            40.0                  NaN              NaN                  NaN   \n",
       "7            47.0  2135-05-09 14:11:00        EMERGENCY                128.0   \n",
       "8            48.0                  NaN              NaN                  NaN   \n",
       "9            51.0                  NaN              NaN                  NaN   \n",
       "10           76.0                  NaN              NaN                  NaN   \n",
       "11           87.0  2135-01-30 20:50:00        EMERGENCY                128.0   \n",
       "12           88.0                  NaN              NaN                  NaN   \n",
       "13           65.0                  NaN              NaN                  NaN   \n",
       "14           71.0  2157-10-18 19:34:00        EMERGENCY               1501.0   \n",
       "15           75.0                  NaN              NaN                  NaN   \n",
       "16           39.0                  NaN              NaN                  NaN   \n",
       "17           59.0                  NaN              NaN                  NaN   \n",
       "18           72.0                  NaN              NaN                  NaN   \n",
       "19           74.0                  NaN              NaN                  NaN   \n",
       "20           72.0                  NaN              NaN                  NaN   \n",
       "21           46.0                  NaN              NaN                  NaN   \n",
       "22           82.0                  NaN              NaN                  NaN   \n",
       "23           69.0                  NaN              NaN                  NaN   \n",
       "24           70.0  2131-05-12 19:49:00        EMERGENCY                  4.0   \n",
       "25           70.0                  NaN              NaN                  NaN   \n",
       "26           73.0                  NaN              NaN                  NaN   \n",
       "27           69.0                  NaN              NaN                  NaN   \n",
       "28           76.0                  NaN              NaN                  NaN   \n",
       "29           57.0                  NaN              NaN                  NaN   \n",
       "\n",
       "    READMISSION_STATUS                                           TEXT_AGG  \n",
       "0       Non-readmitted  Admission Date:  [**2101-10-20**]     Discharg...  \n",
       "1       Non-readmitted  Admission Date:  [**2191-3-16**]     Discharge...  \n",
       "2       Non-readmitted  Admission Date: [**2175-5-30**]        Dischar...  \n",
       "3       Non-readmitted  Admission Date:  [**2149-11-9**]       Dischar...  \n",
       "4       Non-readmitted  Admission Date:  [**2178-4-16**]              ...  \n",
       "5       Non-readmitted  Admission Date:  [**2104-8-7**]     Discharge ...  \n",
       "6       Non-readmitted  Admission Date:  [**2167-1-8**]       Discharg...  \n",
       "7       Non-readmitted  Admission Date:  [**2134-12-27**]             ...  \n",
       "8       Non-readmitted  Admission Date:  [**2135-5-9**]              D...  \n",
       "9       Non-readmitted  Admission Date:  [**2167-9-30**]              ...  \n",
       "10      Non-readmitted  Admission Date:  [**2183-5-10**]       Dischar...  \n",
       "11      Non-readmitted  Admission Date:  [**2134-9-11**]              ...  \n",
       "12      Non-readmitted  Admission Date:  [**2135-1-30**]              ...  \n",
       "13      Non-readmitted  Admission Date:  [**2196-4-9**]       Discharg...  \n",
       "14      Non-readmitted  Admission Date:  [**2153-9-3**]              D...  \n",
       "15      Non-readmitted  Admission Date:  [**2157-10-18**]             ...  \n",
       "16      Non-readmitted  Admission Date:  [**2139-6-6**]              D...  \n",
       "17      Non-readmitted  Admission Date:  [**2160-11-2**]              ...  \n",
       "18      Non-readmitted  Admission Date:  [**2126-5-6**]     Discharge ...  \n",
       "19      Non-readmitted  Admission Date: [**2177-9-1**]        Discharg...  \n",
       "20      Non-readmitted  Admission Date:  [**2108-8-22**]     Discharge...  \n",
       "21      Non-readmitted  Admission Date:  [**2170-4-4**]     Discharge ...  \n",
       "22      Non-readmitted  Admission Date:  [**2116-12-23**]     Discharg...  \n",
       "23      Non-readmitted  Admission Date:  [**2122-2-10**]              ...  \n",
       "24          Readmitted  Admission Date:  [**2131-4-30**]              ...  \n",
       "25      Non-readmitted  Admission Date:  [**2131-5-12**]              ...  \n",
       "26      Non-readmitted  Admission Date:  [**2134-5-10**]              ...  \n",
       "27      Non-readmitted  Admission Date:  [**2183-8-21**]     Discharge...  \n",
       "28      Non-readmitted  Admission Date:  [**2166-8-10**]              ...  \n",
       "29      Non-readmitted  Admission Date:  [**2132-12-31**]             ...  \n",
       "\n",
       "[30 rows x 28 columns]"
      ]
     },
     "execution_count": 7,
     "metadata": {},
     "output_type": "execute_result"
    }
   ],
   "source": [
    "readmission.head(30)"
   ]
  },
  {
   "cell_type": "code",
   "execution_count": 6,
   "id": "590f9bd9",
   "metadata": {},
   "outputs": [],
   "source": [
    "from sklearn.model_selection import train_test_split\n",
    "df_train, df_test=train_test_split(readmission,test_size=0.2, random_state=42)\n",
    "\n",
    "# sub-sampling the negatives (non-readmitted) on the training set\n",
    "df_train_readm=df_train[df_train.READMISSION_STATUS=='Readmitted']\n",
    "df_train_non_readm=df_train[df_train.READMISSION_STATUS=='Non-readmitted']\n",
    "df_train_sub = pd.concat([df_train_readm, df_train_non_readm.sample(n = len(df_train_readm), random_state = 42)],axis = 0)"
   ]
  },
  {
   "cell_type": "code",
   "execution_count": 7,
   "id": "a3caa6fe",
   "metadata": {},
   "outputs": [],
   "source": [
    "# Convert the pandas df to a spark df\n",
    "spark.conf.set(\"spark.sql.execution.arrow.enabled\", \"true\")\n",
    "train = spark.createDataFrame(df_train_sub)\n",
    "test= spark.createDataFrame(df_test)"
   ]
  },
  {
   "cell_type": "markdown",
   "id": "01ae9bb1",
   "metadata": {},
   "source": [
    "### Build up Pipelines"
   ]
  },
  {
   "cell_type": "code",
   "execution_count": 11,
   "id": "fe292af5",
   "metadata": {},
   "outputs": [
    {
     "name": "stdout",
     "output_type": "stream",
     "text": [
      "small_bert_L2_768 download started this may take some time.\n",
      "Approximate size to download 139.6 MB\n",
      "[OK!]\n",
      "Wall time: 20.7 s\n"
     ]
    }
   ],
   "source": [
    "%%time\n",
    "# Produce pipeline for data cleaning and sentence(discharge summary) embedding\n",
    "document_assembler = DocumentAssembler() \\\n",
    "      .setInputCol(\"TEXT_AGG\") \\\n",
    "      .setOutputCol(\"document\")\n",
    "    \n",
    "tokenizer = Tokenizer() \\\n",
    "      .setInputCols([\"document\"]) \\\n",
    "      .setOutputCol(\"token\")\n",
    "    \n",
    "normalizer = Normalizer() \\\n",
    "      .setInputCols([\"token\"]) \\\n",
    "      .setOutputCol(\"normalized\")\n",
    "\n",
    "stopwords_cleaner = StopWordsCleaner()\\\n",
    "      .setInputCols(\"normalized\")\\\n",
    "      .setOutputCol(\"cleanTokens\")\\\n",
    "      .setCaseSensitive(False)\n",
    "\n",
    "lemmatizer = Lemmatizer() \\\n",
    "    .setInputCols([\"cleanTokens\"]) \\\n",
    "    .setOutputCol(\"lemma\") \\\n",
    "    .setDictionary(\"./AntBNC_lemmas_ver_001.txt\", value_delimiter =\"\\t\", key_delimiter = \"->\")\n",
    "\n",
    "bert_embeddings = BertEmbeddings.pretrained()\\\n",
    "  .setInputCols([\"document\",\"lemma\"])\\\n",
    "  .setOutputCol(\"bert_embeddings\")\\\n",
    "  .setCaseSensitive(False)\n",
    "\n",
    "embeddingsSentence = SentenceEmbeddings() \\\n",
    "      .setInputCols([\"document\", \"bert_embeddings\"]) \\\n",
    "      .setOutputCol(\"sentence_embeddings\") \\\n",
    "      .setPoolingStrategy(\"AVERAGE\")\n",
    "    \n",
    "embeddings_finisher = EmbeddingsFinisher() \\\n",
    "      .setInputCols([\"sentence_embeddings\"]) \\\n",
    "      .setOutputCols([\"finished_sentence_embeddings\"]) \\\n",
    "      .setOutputAsVector(True)\\\n",
    "      .setCleanAnnotations(False)\n",
    "\n",
    "explodeVectors = SQLTransformer(statement=\n",
    "      \"SELECT EXPLODE(finished_sentence_embeddings) AS features, * FROM __THIS__\")\n",
    "\n",
    "label_stringIdx = StringIndexer(inputCol = \"READMISSION_STATUS\", outputCol = \"label\")\n",
    "\n",
    "nlp_pipeline_Bert = Pipeline(\n",
    "stages=[document_assembler, \n",
    "          tokenizer,\n",
    "            normalizer,\n",
    "            stopwords_cleaner,\n",
    "            lemmatizer,\n",
    "            bert_embeddings,\n",
    "            embeddingsSentence,\n",
    "            embeddings_finisher,\n",
    "            explodeVectors,\n",
    "            label_stringIdx])"
   ]
  },
  {
   "cell_type": "code",
   "execution_count": 12,
   "id": "016f0dc6",
   "metadata": {},
   "outputs": [],
   "source": [
    "# nlp_Bert_model= nlp_pipeline_Bert.fit(train)"
   ]
  },
  {
   "cell_type": "code",
   "execution_count": 13,
   "id": "69340895",
   "metadata": {},
   "outputs": [],
   "source": [
    "# nlp_Bert_model.write().overwrite().save('/Models_Pipelines/bert_readmission')"
   ]
  },
  {
   "cell_type": "code",
   "execution_count": 8,
   "id": "06bf06f1",
   "metadata": {},
   "outputs": [],
   "source": [
    "from pyspark.ml.pipeline import PipelineModel\n",
    "bert_readmission= PipelineModel.load(\"/Models_Pipelines/bert_readmission\")"
   ]
  },
  {
   "cell_type": "code",
   "execution_count": 9,
   "id": "0b30fd43",
   "metadata": {},
   "outputs": [],
   "source": [
    "# Transform training set\n",
    "processed_bert=bert_readmission.transform(train)"
   ]
  },
  {
   "cell_type": "code",
   "execution_count": 17,
   "id": "ae9fe74a",
   "metadata": {},
   "outputs": [
    {
     "name": "stdout",
     "output_type": "stream",
     "text": [
      "+----------------------------------------+----------------------------------------+-----+\n",
      "|                                TEXT_AGG|                                features|label|\n",
      "+----------------------------------------+----------------------------------------+-----+\n",
      "|Admission Date:  [**2160-4-14**]     ...|[-0.06217242404818535,-0.009191752411...|  1.0|\n",
      "|Admission Date:  [**2135-4-2**]      ...|[0.005630149971693754,-0.015020967461...|  1.0|\n",
      "|Admission Date:  [**2150-3-11**]     ...|[0.09284380078315735,0.09849745035171...|  1.0|\n",
      "|Admission Date:  [**2115-1-26**]     ...|[-0.025607280433177948,-0.06520558893...|  1.0|\n",
      "|Admission Date:  [**2181-12-13**]    ...|[0.09523189812898636,-0.0035093307960...|  1.0|\n",
      "|Admission Date:  [**2104-7-15**]     ...|[0.14823265373706818,-0.0947973653674...|  1.0|\n",
      "|Admission Date:  [**2132-5-15**]     ...|[0.1047961562871933,0.046967465430498...|  1.0|\n",
      "|Admission Date:  [**2197-3-31**]     ...|[0.009211497381329536,-0.043467480689...|  1.0|\n",
      "|Admission Date:  [**2114-10-9**]     ...|[0.06336205452680588,0.08907068520784...|  1.0|\n",
      "|Admission Date:  [**2144-8-25**]     ...|[-0.006688296794891357,0.173771515488...|  1.0|\n",
      "|Admission Date: [**2117-9-10**]      ...|[0.1437656581401825,-0.12368103116750...|  1.0|\n",
      "|Admission Date:  [**2133-2-28**]     ...|[0.10382937639951706,0.10335708409547...|  1.0|\n",
      "|Admission Date:  [**2165-5-22**]     ...|[0.04148480296134949,-0.0080455420538...|  1.0|\n",
      "|Admission Date:  [**2198-8-9**]      ...|[0.11228416860103607,0.20151402056217...|  1.0|\n",
      "|Admission Date:  [**2125-9-3**]      ...|[0.06673619896173477,0.08930780738592...|  1.0|\n",
      "|Admission Date:  [**2118-10-4**]     ...|[0.08868840336799622,0.03038339503109...|  1.0|\n",
      "|Admission Date:  [**2154-8-8**]      ...|[-0.06249590218067169,-0.053490545600...|  1.0|\n",
      "|Admission Date:  [**2201-8-26**]     ...|[0.059442922472953796,-0.056765388697...|  1.0|\n",
      "|Admission Date:  [**2198-4-14**]     ...|[0.012228145264089108,0.0309749711304...|  1.0|\n",
      "|Admission Date:  [**2132-6-5**]      ...|[0.11420596390962601,0.01661635749042...|  1.0|\n",
      "+----------------------------------------+----------------------------------------+-----+\n",
      "only showing top 20 rows\n",
      "\n"
     ]
    }
   ],
   "source": [
    "processed_bert.select('TEXT_AGG','features','label').show(truncate=40)"
   ]
  },
  {
   "cell_type": "code",
   "execution_count": 10,
   "id": "c1a276c3",
   "metadata": {},
   "outputs": [],
   "source": [
    "# Transform test set\n",
    "processed_bert_test=bert_readmission.transform(test)"
   ]
  },
  {
   "cell_type": "code",
   "execution_count": 11,
   "id": "59527c8e",
   "metadata": {},
   "outputs": [
    {
     "name": "stderr",
     "output_type": "stream",
     "text": [
      "C:\\Anaconda\\envs\\nlp_course\\lib\\site-packages\\pyspark\\sql\\pandas\\conversion.py:87: UserWarning: toPandas attempted Arrow optimization because 'spark.sql.execution.arrow.pyspark.enabled' is set to true; however, failed by the reason below:\n",
      "  Unsupported type in conversion to Arrow: VectorUDT\n",
      "Attempting non-optimization as 'spark.sql.execution.arrow.pyspark.fallback.enabled' is set to true.\n",
      "  warnings.warn(msg)\n"
     ]
    }
   ],
   "source": [
    "# Convert processed data to pd dataframes\n",
    "pd_train=processed_bert.select('features','label').toPandas()"
   ]
  },
  {
   "cell_type": "code",
   "execution_count": 13,
   "id": "4ef1467f",
   "metadata": {},
   "outputs": [],
   "source": [
    "pd_test=processed_bert_test.select('features','label').toPandas()"
   ]
  },
  {
   "cell_type": "code",
   "execution_count": 12,
   "id": "5e2ddf8e",
   "metadata": {},
   "outputs": [],
   "source": [
    "pd_train.to_csv(\"bert_train.csv\")"
   ]
  },
  {
   "cell_type": "code",
   "execution_count": 14,
   "id": "2ea47511",
   "metadata": {},
   "outputs": [],
   "source": [
    "pd_test.to_csv(\"bert_test.csv\")"
   ]
  },
  {
   "cell_type": "code",
   "execution_count": 5,
   "id": "2eba53ed",
   "metadata": {},
   "outputs": [],
   "source": [
    "pd_train=pd.read_csv(\"Glove_train.csv\")\n",
    "pd_test=pd.read_csv(\"glove_test.csv\")"
   ]
  },
  {
   "cell_type": "code",
   "execution_count": 6,
   "id": "ad8d375d",
   "metadata": {},
   "outputs": [],
   "source": [
    "pd_train.label=pd_train.label.astype(\"int\")"
   ]
  },
  {
   "cell_type": "code",
   "execution_count": 7,
   "id": "b86b1132",
   "metadata": {},
   "outputs": [],
   "source": [
    "pd_test.label=pd_test.label.astype(\"int\")"
   ]
  },
  {
   "cell_type": "code",
   "execution_count": 8,
   "id": "7a3e52c2",
   "metadata": {},
   "outputs": [],
   "source": [
    "X_train=pd_train.features\n",
    "y_train=pd_train.label"
   ]
  },
  {
   "cell_type": "code",
   "execution_count": 9,
   "id": "72d4cefd",
   "metadata": {},
   "outputs": [],
   "source": [
    "X_test=pd_test.features\n",
    "y_test=pd_test.label"
   ]
  },
  {
   "cell_type": "code",
   "execution_count": 10,
   "id": "473fa5c8",
   "metadata": {},
   "outputs": [],
   "source": [
    "# X_test now is lists of strings, which won't be accpetable by machine learning models. The following codes is to tranform it into lists of lists with integers\n",
    "X_train_trans=[]\n",
    "for doc in X_train:\n",
    "    embedding=doc[2:-2]\n",
    "    embedding_list=embedding.split(\",\")\n",
    "    str_to_num_list=[]\n",
    "    for num_str in embedding_list:\n",
    "        str_to_num_list.append(float(num_str))\n",
    "    X_train_trans.append(str_to_num_list)"
   ]
  },
  {
   "cell_type": "code",
   "execution_count": 11,
   "id": "ef2f6540",
   "metadata": {},
   "outputs": [],
   "source": [
    "X_test_trans=[]\n",
    "for doc in X_test:\n",
    "    embedding=doc[2:-2]\n",
    "    embedding_list=embedding.split(\",\")\n",
    "    str_to_num_list=[]\n",
    "    for num_str in embedding_list:\n",
    "        str_to_num_list.append(float(num_str))\n",
    "    X_test_trans.append(str_to_num_list)"
   ]
  },
  {
   "cell_type": "markdown",
   "id": "ea9a0d6e",
   "metadata": {},
   "source": [
    "## Modeling"
   ]
  },
  {
   "cell_type": "code",
   "execution_count": 60,
   "id": "d3c91cf6",
   "metadata": {},
   "outputs": [],
   "source": [
    "model_bert=[]\n",
    "Roc_auc_cv=[]\n",
    "Roc_auc_test=[]"
   ]
  },
  {
   "cell_type": "markdown",
   "id": "cf15a6b1",
   "metadata": {},
   "source": [
    "### Logistic Regression"
   ]
  },
  {
   "cell_type": "code",
   "execution_count": 13,
   "id": "23dfbec5",
   "metadata": {},
   "outputs": [],
   "source": [
    "from sklearn.linear_model import LogisticRegression\n",
    "from sklearn.feature_extraction.text import TfidfVectorizer\n",
    "from sklearn.pipeline import Pipeline\n",
    "from sklearn.model_selection import cross_val_predict\n",
    "from sklearn.metrics import roc_curve\n",
    "from sklearn.metrics import roc_auc_score\n",
    "from sklearn.naive_bayes import MultinomialNB\n",
    "from sklearn.neighbors import KNeighborsClassifier\n",
    "from sklearn.model_selection import GridSearchCV\n",
    "from sklearn.model_selection import RepeatedStratifiedKFold\n",
    "from skopt import BayesSearchCV\n",
    "from sklearn.svm import LinearSVC\n",
    "from sklearn.feature_extraction.text import CountVectorizer\n",
    "from sklearn.tree import DecisionTreeClassifier\n",
    "from sklearn.model_selection import cross_val_score"
   ]
  },
  {
   "cell_type": "code",
   "execution_count": 26,
   "id": "87d99406",
   "metadata": {},
   "outputs": [],
   "source": [
    "# bert vs Logistic regression\n",
    "solvers = ['newton-cg', 'lbfgs', 'liblinear']\n",
    "penalty = ['l2']\n",
    "c_values = [100, 10, 1.0, 0.1, 0.01]\n",
    "\n",
    "param= dict(solver=solvers,penalty=penalty,C=c_values)\n",
    "cv = RepeatedStratifiedKFold(n_splits=5, n_repeats=3, random_state=1)\n",
    "scoring='roc_auc'\n",
    "\n",
    "logistic_clf_bert = BayesSearchCV(estimator=LogisticRegression(), search_spaces=param, scoring=scoring, n_jobs=-1, cv=cv)"
   ]
  },
  {
   "cell_type": "code",
   "execution_count": 27,
   "id": "4959c548",
   "metadata": {},
   "outputs": [
    {
     "name": "stderr",
     "output_type": "stream",
     "text": [
      "C:\\Anaconda\\envs\\nlp_course\\lib\\site-packages\\skopt\\optimizer\\optimizer.py:449: UserWarning: The objective has been evaluated at this point before.\n",
      "  warnings.warn(\"The objective has been evaluated \"\n",
      "C:\\Anaconda\\envs\\nlp_course\\lib\\site-packages\\skopt\\optimizer\\optimizer.py:449: UserWarning: The objective has been evaluated at this point before.\n",
      "  warnings.warn(\"The objective has been evaluated \"\n",
      "C:\\Anaconda\\envs\\nlp_course\\lib\\site-packages\\skopt\\optimizer\\optimizer.py:449: UserWarning: The objective has been evaluated at this point before.\n",
      "  warnings.warn(\"The objective has been evaluated \"\n",
      "C:\\Anaconda\\envs\\nlp_course\\lib\\site-packages\\skopt\\optimizer\\optimizer.py:449: UserWarning: The objective has been evaluated at this point before.\n",
      "  warnings.warn(\"The objective has been evaluated \"\n",
      "C:\\Anaconda\\envs\\nlp_course\\lib\\site-packages\\skopt\\optimizer\\optimizer.py:449: UserWarning: The objective has been evaluated at this point before.\n",
      "  warnings.warn(\"The objective has been evaluated \"\n",
      "C:\\Anaconda\\envs\\nlp_course\\lib\\site-packages\\skopt\\optimizer\\optimizer.py:449: UserWarning: The objective has been evaluated at this point before.\n",
      "  warnings.warn(\"The objective has been evaluated \"\n",
      "C:\\Anaconda\\envs\\nlp_course\\lib\\site-packages\\skopt\\optimizer\\optimizer.py:449: UserWarning: The objective has been evaluated at this point before.\n",
      "  warnings.warn(\"The objective has been evaluated \"\n",
      "C:\\Anaconda\\envs\\nlp_course\\lib\\site-packages\\skopt\\optimizer\\optimizer.py:449: UserWarning: The objective has been evaluated at this point before.\n",
      "  warnings.warn(\"The objective has been evaluated \"\n",
      "C:\\Anaconda\\envs\\nlp_course\\lib\\site-packages\\skopt\\optimizer\\optimizer.py:449: UserWarning: The objective has been evaluated at this point before.\n",
      "  warnings.warn(\"The objective has been evaluated \"\n",
      "C:\\Anaconda\\envs\\nlp_course\\lib\\site-packages\\skopt\\optimizer\\optimizer.py:449: UserWarning: The objective has been evaluated at this point before.\n",
      "  warnings.warn(\"The objective has been evaluated \"\n",
      "C:\\Anaconda\\envs\\nlp_course\\lib\\site-packages\\skopt\\optimizer\\optimizer.py:449: UserWarning: The objective has been evaluated at this point before.\n",
      "  warnings.warn(\"The objective has been evaluated \"\n",
      "C:\\Anaconda\\envs\\nlp_course\\lib\\site-packages\\skopt\\optimizer\\optimizer.py:449: UserWarning: The objective has been evaluated at this point before.\n",
      "  warnings.warn(\"The objective has been evaluated \"\n",
      "C:\\Anaconda\\envs\\nlp_course\\lib\\site-packages\\skopt\\optimizer\\optimizer.py:449: UserWarning: The objective has been evaluated at this point before.\n",
      "  warnings.warn(\"The objective has been evaluated \"\n",
      "C:\\Anaconda\\envs\\nlp_course\\lib\\site-packages\\skopt\\optimizer\\optimizer.py:449: UserWarning: The objective has been evaluated at this point before.\n",
      "  warnings.warn(\"The objective has been evaluated \"\n",
      "C:\\Anaconda\\envs\\nlp_course\\lib\\site-packages\\skopt\\optimizer\\optimizer.py:449: UserWarning: The objective has been evaluated at this point before.\n",
      "  warnings.warn(\"The objective has been evaluated \"\n",
      "C:\\Anaconda\\envs\\nlp_course\\lib\\site-packages\\skopt\\optimizer\\optimizer.py:449: UserWarning: The objective has been evaluated at this point before.\n",
      "  warnings.warn(\"The objective has been evaluated \"\n",
      "C:\\Anaconda\\envs\\nlp_course\\lib\\site-packages\\skopt\\optimizer\\optimizer.py:449: UserWarning: The objective has been evaluated at this point before.\n",
      "  warnings.warn(\"The objective has been evaluated \"\n",
      "C:\\Anaconda\\envs\\nlp_course\\lib\\site-packages\\skopt\\optimizer\\optimizer.py:449: UserWarning: The objective has been evaluated at this point before.\n",
      "  warnings.warn(\"The objective has been evaluated \"\n",
      "C:\\Anaconda\\envs\\nlp_course\\lib\\site-packages\\skopt\\optimizer\\optimizer.py:449: UserWarning: The objective has been evaluated at this point before.\n",
      "  warnings.warn(\"The objective has been evaluated \"\n",
      "C:\\Anaconda\\envs\\nlp_course\\lib\\site-packages\\skopt\\optimizer\\optimizer.py:449: UserWarning: The objective has been evaluated at this point before.\n",
      "  warnings.warn(\"The objective has been evaluated \"\n",
      "C:\\Anaconda\\envs\\nlp_course\\lib\\site-packages\\skopt\\optimizer\\optimizer.py:449: UserWarning: The objective has been evaluated at this point before.\n",
      "  warnings.warn(\"The objective has been evaluated \"\n",
      "C:\\Anaconda\\envs\\nlp_course\\lib\\site-packages\\skopt\\optimizer\\optimizer.py:449: UserWarning: The objective has been evaluated at this point before.\n",
      "  warnings.warn(\"The objective has been evaluated \"\n",
      "C:\\Anaconda\\envs\\nlp_course\\lib\\site-packages\\skopt\\optimizer\\optimizer.py:449: UserWarning: The objective has been evaluated at this point before.\n",
      "  warnings.warn(\"The objective has been evaluated \"\n",
      "C:\\Anaconda\\envs\\nlp_course\\lib\\site-packages\\skopt\\optimizer\\optimizer.py:449: UserWarning: The objective has been evaluated at this point before.\n",
      "  warnings.warn(\"The objective has been evaluated \"\n",
      "C:\\Anaconda\\envs\\nlp_course\\lib\\site-packages\\skopt\\optimizer\\optimizer.py:449: UserWarning: The objective has been evaluated at this point before.\n",
      "  warnings.warn(\"The objective has been evaluated \"\n",
      "C:\\Anaconda\\envs\\nlp_course\\lib\\site-packages\\skopt\\optimizer\\optimizer.py:449: UserWarning: The objective has been evaluated at this point before.\n",
      "  warnings.warn(\"The objective has been evaluated \"\n",
      "C:\\Anaconda\\envs\\nlp_course\\lib\\site-packages\\skopt\\optimizer\\optimizer.py:449: UserWarning: The objective has been evaluated at this point before.\n",
      "  warnings.warn(\"The objective has been evaluated \"\n",
      "C:\\Anaconda\\envs\\nlp_course\\lib\\site-packages\\skopt\\optimizer\\optimizer.py:449: UserWarning: The objective has been evaluated at this point before.\n",
      "  warnings.warn(\"The objective has been evaluated \"\n",
      "C:\\Anaconda\\envs\\nlp_course\\lib\\site-packages\\skopt\\optimizer\\optimizer.py:449: UserWarning: The objective has been evaluated at this point before.\n",
      "  warnings.warn(\"The objective has been evaluated \"\n",
      "C:\\Anaconda\\envs\\nlp_course\\lib\\site-packages\\skopt\\optimizer\\optimizer.py:449: UserWarning: The objective has been evaluated at this point before.\n",
      "  warnings.warn(\"The objective has been evaluated \"\n",
      "C:\\Anaconda\\envs\\nlp_course\\lib\\site-packages\\skopt\\optimizer\\optimizer.py:449: UserWarning: The objective has been evaluated at this point before.\n",
      "  warnings.warn(\"The objective has been evaluated \"\n",
      "C:\\Anaconda\\envs\\nlp_course\\lib\\site-packages\\skopt\\optimizer\\optimizer.py:449: UserWarning: The objective has been evaluated at this point before.\n",
      "  warnings.warn(\"The objective has been evaluated \"\n"
     ]
    },
    {
     "data": {
      "text/plain": [
       "BayesSearchCV(cv=RepeatedStratifiedKFold(n_repeats=3, n_splits=5, random_state=1),\n",
       "              estimator=LogisticRegression(), n_jobs=-1, scoring='roc_auc',\n",
       "              search_spaces={'C': [100, 10, 1.0, 0.1, 0.01], 'penalty': ['l2'],\n",
       "                             'solver': ['newton-cg', 'lbfgs', 'liblinear']})"
      ]
     },
     "execution_count": 27,
     "metadata": {},
     "output_type": "execute_result"
    }
   ],
   "source": [
    "logistic_clf_bert.fit(X_train_trans,y_train)"
   ]
  },
  {
   "cell_type": "code",
   "execution_count": 28,
   "id": "4fe29230",
   "metadata": {},
   "outputs": [],
   "source": [
    "import pickle\n",
    "with open('/Models_Pipelines/logistic_clf_bert.pkl','wb') as f:\n",
    "    pickle.dump(logistic_clf_bert,f)"
   ]
  },
  {
   "cell_type": "code",
   "execution_count": 55,
   "id": "fd59d941",
   "metadata": {},
   "outputs": [],
   "source": [
    "with open('/Models_Pipelines/logistic_clf_bert.pkl', 'rb') as f:\n",
    "    logistic_clf_bert = pickle.load(f)"
   ]
  },
  {
   "cell_type": "code",
   "execution_count": 56,
   "id": "5559134f",
   "metadata": {},
   "outputs": [],
   "source": [
    "logistic_clf_bert_best=logistic_clf_bert.best_score_"
   ]
  },
  {
   "cell_type": "code",
   "execution_count": 57,
   "id": "6301dc8a",
   "metadata": {},
   "outputs": [
    {
     "data": {
      "text/plain": [
       "0.6761449608832926"
      ]
     },
     "execution_count": 57,
     "metadata": {},
     "output_type": "execute_result"
    }
   ],
   "source": [
    "logistic_clf_bert_best"
   ]
  },
  {
   "cell_type": "code",
   "execution_count": 58,
   "id": "72c0b8c3",
   "metadata": {},
   "outputs": [],
   "source": [
    "y_prob_logistic_clf_bert = logistic_clf_bert.predict_proba(X_test_trans)\n",
    "roc_auc_y_prob_logistic_clf_bert=roc_auc_score(y_test, y_prob_logistic_clf_bert[:,1])"
   ]
  },
  {
   "cell_type": "code",
   "execution_count": 59,
   "id": "d83973c2",
   "metadata": {},
   "outputs": [
    {
     "data": {
      "text/plain": [
       "0.6870299307179639"
      ]
     },
     "execution_count": 59,
     "metadata": {},
     "output_type": "execute_result"
    }
   ],
   "source": [
    "roc_auc_y_prob_logistic_clf_bert"
   ]
  },
  {
   "cell_type": "code",
   "execution_count": 61,
   "id": "04e74ec8",
   "metadata": {},
   "outputs": [],
   "source": [
    "model_bert.append(\"Logistic Regression\")\n",
    "Roc_auc_cv.append(logistic_clf_bert_best)\n",
    "Roc_auc_test.append(roc_auc_y_prob_logistic_clf_bert)"
   ]
  },
  {
   "cell_type": "markdown",
   "id": "5e3c6652",
   "metadata": {},
   "source": [
    "### Naive Bayes"
   ]
  },
  {
   "cell_type": "markdown",
   "id": "e96c9cde",
   "metadata": {},
   "source": [
    "Naive Bayes doesn't allow negative inputs (there're negative numbers in word embeddings) so I'll skip the combination of GloVe and Naive Bayes"
   ]
  },
  {
   "cell_type": "markdown",
   "id": "90460909",
   "metadata": {},
   "source": [
    "### Decision Tree"
   ]
  },
  {
   "cell_type": "code",
   "execution_count": 16,
   "id": "3c920edd",
   "metadata": {},
   "outputs": [],
   "source": [
    "from sklearn.tree import DecisionTreeClassifier\n",
    "\n",
    "max_depth=[2, 3, 5, 10, 20]\n",
    "min_samples_leaf=[5, 10, 20, 50, 100]\n",
    "criterion=[\"gini\", \"entropy\"]\n",
    "\n",
    "param= dict(max_depth=max_depth,min_samples_leaf=min_samples_leaf,criterion=criterion)\n",
    "cv = RepeatedStratifiedKFold(n_splits=5, n_repeats=3, random_state=1)\n",
    "scoring='roc_auc'\n",
    "\n",
    "dec_tree_clf_bert = BayesSearchCV(estimator=DecisionTreeClassifier(), search_spaces=param, scoring=scoring, n_jobs=-1, cv=cv)"
   ]
  },
  {
   "cell_type": "code",
   "execution_count": 17,
   "id": "2a406e5a",
   "metadata": {},
   "outputs": [
    {
     "name": "stderr",
     "output_type": "stream",
     "text": [
      "C:\\Anaconda\\envs\\nlp_course\\lib\\site-packages\\skopt\\optimizer\\optimizer.py:449: UserWarning: The objective has been evaluated at this point before.\n",
      "  warnings.warn(\"The objective has been evaluated \"\n",
      "C:\\Anaconda\\envs\\nlp_course\\lib\\site-packages\\skopt\\optimizer\\optimizer.py:449: UserWarning: The objective has been evaluated at this point before.\n",
      "  warnings.warn(\"The objective has been evaluated \"\n",
      "C:\\Anaconda\\envs\\nlp_course\\lib\\site-packages\\skopt\\optimizer\\optimizer.py:449: UserWarning: The objective has been evaluated at this point before.\n",
      "  warnings.warn(\"The objective has been evaluated \"\n",
      "C:\\Anaconda\\envs\\nlp_course\\lib\\site-packages\\skopt\\optimizer\\optimizer.py:449: UserWarning: The objective has been evaluated at this point before.\n",
      "  warnings.warn(\"The objective has been evaluated \"\n",
      "C:\\Anaconda\\envs\\nlp_course\\lib\\site-packages\\skopt\\optimizer\\optimizer.py:449: UserWarning: The objective has been evaluated at this point before.\n",
      "  warnings.warn(\"The objective has been evaluated \"\n",
      "C:\\Anaconda\\envs\\nlp_course\\lib\\site-packages\\skopt\\optimizer\\optimizer.py:449: UserWarning: The objective has been evaluated at this point before.\n",
      "  warnings.warn(\"The objective has been evaluated \"\n",
      "C:\\Anaconda\\envs\\nlp_course\\lib\\site-packages\\skopt\\optimizer\\optimizer.py:449: UserWarning: The objective has been evaluated at this point before.\n",
      "  warnings.warn(\"The objective has been evaluated \"\n",
      "C:\\Anaconda\\envs\\nlp_course\\lib\\site-packages\\skopt\\optimizer\\optimizer.py:449: UserWarning: The objective has been evaluated at this point before.\n",
      "  warnings.warn(\"The objective has been evaluated \"\n",
      "C:\\Anaconda\\envs\\nlp_course\\lib\\site-packages\\skopt\\optimizer\\optimizer.py:449: UserWarning: The objective has been evaluated at this point before.\n",
      "  warnings.warn(\"The objective has been evaluated \"\n",
      "C:\\Anaconda\\envs\\nlp_course\\lib\\site-packages\\skopt\\optimizer\\optimizer.py:449: UserWarning: The objective has been evaluated at this point before.\n",
      "  warnings.warn(\"The objective has been evaluated \"\n",
      "C:\\Anaconda\\envs\\nlp_course\\lib\\site-packages\\skopt\\optimizer\\optimizer.py:449: UserWarning: The objective has been evaluated at this point before.\n",
      "  warnings.warn(\"The objective has been evaluated \"\n"
     ]
    },
    {
     "data": {
      "text/plain": [
       "BayesSearchCV(cv=RepeatedStratifiedKFold(n_repeats=3, n_splits=5, random_state=1),\n",
       "              estimator=DecisionTreeClassifier(), n_jobs=-1, scoring='roc_auc',\n",
       "              search_spaces={'criterion': ['gini', 'entropy'],\n",
       "                             'max_depth': [2, 3, 5, 10, 20],\n",
       "                             'min_samples_leaf': [5, 10, 20, 50, 100]})"
      ]
     },
     "execution_count": 17,
     "metadata": {},
     "output_type": "execute_result"
    }
   ],
   "source": [
    "dec_tree_clf_bert.fit(X_train_trans,y_train)"
   ]
  },
  {
   "cell_type": "code",
   "execution_count": 19,
   "id": "c7e2d834",
   "metadata": {},
   "outputs": [],
   "source": [
    "import pickle\n",
    "with open('/Models_Pipelines/dec_tree_clf_bert.pkl','wb') as f:\n",
    "    pickle.dump(dec_tree_clf_bert,f)"
   ]
  },
  {
   "cell_type": "code",
   "execution_count": 20,
   "id": "540a86cf",
   "metadata": {},
   "outputs": [],
   "source": [
    "with open('/Models_Pipelines/dec_tree_clf_bert.pkl', 'rb') as f:\n",
    "    dec_tree_clf_bert = pickle.load(f)"
   ]
  },
  {
   "cell_type": "code",
   "execution_count": 21,
   "id": "5bdc57cb",
   "metadata": {},
   "outputs": [],
   "source": [
    "dec_tree_clf_bert_best=dec_tree_clf_bert.best_score_"
   ]
  },
  {
   "cell_type": "code",
   "execution_count": 22,
   "id": "c5500f6d",
   "metadata": {},
   "outputs": [
    {
     "data": {
      "text/plain": [
       "0.6050549554024184"
      ]
     },
     "execution_count": 22,
     "metadata": {},
     "output_type": "execute_result"
    }
   ],
   "source": [
    "dec_tree_clf_bert_best"
   ]
  },
  {
   "cell_type": "code",
   "execution_count": 23,
   "id": "74e18987",
   "metadata": {},
   "outputs": [],
   "source": [
    "y_prob_dec_tree_clf_bert = dec_tree_clf_bert.predict_proba(X_test_trans)\n",
    "roc_auc_dec_tree_clf_bert=roc_auc_score(y_test, y_prob_dec_tree_clf_bert[:,1])"
   ]
  },
  {
   "cell_type": "code",
   "execution_count": 24,
   "id": "f6a1597f",
   "metadata": {},
   "outputs": [
    {
     "data": {
      "text/plain": [
       "0.6152074618180221"
      ]
     },
     "execution_count": 24,
     "metadata": {},
     "output_type": "execute_result"
    }
   ],
   "source": [
    "roc_auc_dec_tree_clf_bert"
   ]
  },
  {
   "cell_type": "code",
   "execution_count": 62,
   "id": "aefb5b99",
   "metadata": {},
   "outputs": [],
   "source": [
    "model_bert.append(\"Decision Tree\")\n",
    "Roc_auc_cv.append(dec_tree_clf_bert_best)\n",
    "Roc_auc_test.append(roc_auc_dec_tree_clf_bert)"
   ]
  },
  {
   "cell_type": "markdown",
   "id": "9bb05190",
   "metadata": {},
   "source": [
    "### Linear SVM"
   ]
  },
  {
   "cell_type": "code",
   "execution_count": 27,
   "id": "dc2db44e",
   "metadata": {},
   "outputs": [],
   "source": [
    "c_values=[100, 10, 1.0, 0.1, 0.01]\n",
    "\n",
    "param= dict(C=c_values)\n",
    "cv = RepeatedStratifiedKFold(n_splits=5, n_repeats=3, random_state=1)\n",
    "scoring='roc_auc'\n",
    "\n",
    "lsvc_clf_bert = BayesSearchCV(estimator=LinearSVC(), search_spaces=param, scoring=scoring, n_jobs=-1, cv=cv)"
   ]
  },
  {
   "cell_type": "code",
   "execution_count": 28,
   "id": "5767c0d2",
   "metadata": {},
   "outputs": [
    {
     "name": "stderr",
     "output_type": "stream",
     "text": [
      "C:\\Anaconda\\envs\\nlp_course\\lib\\site-packages\\skopt\\optimizer\\optimizer.py:449: UserWarning: The objective has been evaluated at this point before.\n",
      "  warnings.warn(\"The objective has been evaluated \"\n",
      "C:\\Anaconda\\envs\\nlp_course\\lib\\site-packages\\skopt\\optimizer\\optimizer.py:449: UserWarning: The objective has been evaluated at this point before.\n",
      "  warnings.warn(\"The objective has been evaluated \"\n",
      "C:\\Anaconda\\envs\\nlp_course\\lib\\site-packages\\skopt\\optimizer\\optimizer.py:449: UserWarning: The objective has been evaluated at this point before.\n",
      "  warnings.warn(\"The objective has been evaluated \"\n",
      "C:\\Anaconda\\envs\\nlp_course\\lib\\site-packages\\skopt\\optimizer\\optimizer.py:449: UserWarning: The objective has been evaluated at this point before.\n",
      "  warnings.warn(\"The objective has been evaluated \"\n",
      "C:\\Anaconda\\envs\\nlp_course\\lib\\site-packages\\skopt\\optimizer\\optimizer.py:449: UserWarning: The objective has been evaluated at this point before.\n",
      "  warnings.warn(\"The objective has been evaluated \"\n",
      "C:\\Anaconda\\envs\\nlp_course\\lib\\site-packages\\skopt\\optimizer\\optimizer.py:449: UserWarning: The objective has been evaluated at this point before.\n",
      "  warnings.warn(\"The objective has been evaluated \"\n",
      "C:\\Anaconda\\envs\\nlp_course\\lib\\site-packages\\skopt\\optimizer\\optimizer.py:449: UserWarning: The objective has been evaluated at this point before.\n",
      "  warnings.warn(\"The objective has been evaluated \"\n",
      "C:\\Anaconda\\envs\\nlp_course\\lib\\site-packages\\skopt\\optimizer\\optimizer.py:449: UserWarning: The objective has been evaluated at this point before.\n",
      "  warnings.warn(\"The objective has been evaluated \"\n",
      "C:\\Anaconda\\envs\\nlp_course\\lib\\site-packages\\skopt\\optimizer\\optimizer.py:449: UserWarning: The objective has been evaluated at this point before.\n",
      "  warnings.warn(\"The objective has been evaluated \"\n",
      "C:\\Anaconda\\envs\\nlp_course\\lib\\site-packages\\skopt\\optimizer\\optimizer.py:449: UserWarning: The objective has been evaluated at this point before.\n",
      "  warnings.warn(\"The objective has been evaluated \"\n",
      "C:\\Anaconda\\envs\\nlp_course\\lib\\site-packages\\skopt\\optimizer\\optimizer.py:449: UserWarning: The objective has been evaluated at this point before.\n",
      "  warnings.warn(\"The objective has been evaluated \"\n",
      "C:\\Anaconda\\envs\\nlp_course\\lib\\site-packages\\skopt\\optimizer\\optimizer.py:449: UserWarning: The objective has been evaluated at this point before.\n",
      "  warnings.warn(\"The objective has been evaluated \"\n",
      "C:\\Anaconda\\envs\\nlp_course\\lib\\site-packages\\skopt\\optimizer\\optimizer.py:449: UserWarning: The objective has been evaluated at this point before.\n",
      "  warnings.warn(\"The objective has been evaluated \"\n",
      "C:\\Anaconda\\envs\\nlp_course\\lib\\site-packages\\skopt\\optimizer\\optimizer.py:449: UserWarning: The objective has been evaluated at this point before.\n",
      "  warnings.warn(\"The objective has been evaluated \"\n",
      "C:\\Anaconda\\envs\\nlp_course\\lib\\site-packages\\skopt\\optimizer\\optimizer.py:449: UserWarning: The objective has been evaluated at this point before.\n",
      "  warnings.warn(\"The objective has been evaluated \"\n",
      "C:\\Anaconda\\envs\\nlp_course\\lib\\site-packages\\skopt\\optimizer\\optimizer.py:449: UserWarning: The objective has been evaluated at this point before.\n",
      "  warnings.warn(\"The objective has been evaluated \"\n",
      "C:\\Anaconda\\envs\\nlp_course\\lib\\site-packages\\skopt\\optimizer\\optimizer.py:449: UserWarning: The objective has been evaluated at this point before.\n",
      "  warnings.warn(\"The objective has been evaluated \"\n",
      "C:\\Anaconda\\envs\\nlp_course\\lib\\site-packages\\skopt\\optimizer\\optimizer.py:449: UserWarning: The objective has been evaluated at this point before.\n",
      "  warnings.warn(\"The objective has been evaluated \"\n",
      "C:\\Anaconda\\envs\\nlp_course\\lib\\site-packages\\skopt\\optimizer\\optimizer.py:449: UserWarning: The objective has been evaluated at this point before.\n",
      "  warnings.warn(\"The objective has been evaluated \"\n",
      "C:\\Anaconda\\envs\\nlp_course\\lib\\site-packages\\skopt\\optimizer\\optimizer.py:449: UserWarning: The objective has been evaluated at this point before.\n",
      "  warnings.warn(\"The objective has been evaluated \"\n",
      "C:\\Anaconda\\envs\\nlp_course\\lib\\site-packages\\skopt\\optimizer\\optimizer.py:449: UserWarning: The objective has been evaluated at this point before.\n",
      "  warnings.warn(\"The objective has been evaluated \"\n",
      "C:\\Anaconda\\envs\\nlp_course\\lib\\site-packages\\skopt\\optimizer\\optimizer.py:449: UserWarning: The objective has been evaluated at this point before.\n",
      "  warnings.warn(\"The objective has been evaluated \"\n",
      "C:\\Anaconda\\envs\\nlp_course\\lib\\site-packages\\skopt\\optimizer\\optimizer.py:449: UserWarning: The objective has been evaluated at this point before.\n",
      "  warnings.warn(\"The objective has been evaluated \"\n",
      "C:\\Anaconda\\envs\\nlp_course\\lib\\site-packages\\skopt\\optimizer\\optimizer.py:449: UserWarning: The objective has been evaluated at this point before.\n",
      "  warnings.warn(\"The objective has been evaluated \"\n",
      "C:\\Anaconda\\envs\\nlp_course\\lib\\site-packages\\skopt\\optimizer\\optimizer.py:449: UserWarning: The objective has been evaluated at this point before.\n",
      "  warnings.warn(\"The objective has been evaluated \"\n",
      "C:\\Anaconda\\envs\\nlp_course\\lib\\site-packages\\skopt\\optimizer\\optimizer.py:449: UserWarning: The objective has been evaluated at this point before.\n",
      "  warnings.warn(\"The objective has been evaluated \"\n",
      "C:\\Anaconda\\envs\\nlp_course\\lib\\site-packages\\skopt\\optimizer\\optimizer.py:449: UserWarning: The objective has been evaluated at this point before.\n",
      "  warnings.warn(\"The objective has been evaluated \"\n",
      "C:\\Anaconda\\envs\\nlp_course\\lib\\site-packages\\skopt\\optimizer\\optimizer.py:449: UserWarning: The objective has been evaluated at this point before.\n",
      "  warnings.warn(\"The objective has been evaluated \"\n",
      "C:\\Anaconda\\envs\\nlp_course\\lib\\site-packages\\skopt\\optimizer\\optimizer.py:449: UserWarning: The objective has been evaluated at this point before.\n",
      "  warnings.warn(\"The objective has been evaluated \"\n",
      "C:\\Anaconda\\envs\\nlp_course\\lib\\site-packages\\skopt\\optimizer\\optimizer.py:449: UserWarning: The objective has been evaluated at this point before.\n",
      "  warnings.warn(\"The objective has been evaluated \"\n",
      "C:\\Anaconda\\envs\\nlp_course\\lib\\site-packages\\skopt\\optimizer\\optimizer.py:449: UserWarning: The objective has been evaluated at this point before.\n",
      "  warnings.warn(\"The objective has been evaluated \"\n",
      "C:\\Anaconda\\envs\\nlp_course\\lib\\site-packages\\skopt\\optimizer\\optimizer.py:449: UserWarning: The objective has been evaluated at this point before.\n",
      "  warnings.warn(\"The objective has been evaluated \"\n",
      "C:\\Anaconda\\envs\\nlp_course\\lib\\site-packages\\skopt\\optimizer\\optimizer.py:449: UserWarning: The objective has been evaluated at this point before.\n",
      "  warnings.warn(\"The objective has been evaluated \"\n",
      "C:\\Anaconda\\envs\\nlp_course\\lib\\site-packages\\skopt\\optimizer\\optimizer.py:449: UserWarning: The objective has been evaluated at this point before.\n",
      "  warnings.warn(\"The objective has been evaluated \"\n",
      "C:\\Anaconda\\envs\\nlp_course\\lib\\site-packages\\skopt\\optimizer\\optimizer.py:449: UserWarning: The objective has been evaluated at this point before.\n",
      "  warnings.warn(\"The objective has been evaluated \"\n",
      "C:\\Anaconda\\envs\\nlp_course\\lib\\site-packages\\skopt\\optimizer\\optimizer.py:449: UserWarning: The objective has been evaluated at this point before.\n",
      "  warnings.warn(\"The objective has been evaluated \"\n",
      "C:\\Anaconda\\envs\\nlp_course\\lib\\site-packages\\skopt\\optimizer\\optimizer.py:449: UserWarning: The objective has been evaluated at this point before.\n",
      "  warnings.warn(\"The objective has been evaluated \"\n",
      "C:\\Anaconda\\envs\\nlp_course\\lib\\site-packages\\skopt\\optimizer\\optimizer.py:449: UserWarning: The objective has been evaluated at this point before.\n",
      "  warnings.warn(\"The objective has been evaluated \"\n",
      "C:\\Anaconda\\envs\\nlp_course\\lib\\site-packages\\skopt\\optimizer\\optimizer.py:449: UserWarning: The objective has been evaluated at this point before.\n",
      "  warnings.warn(\"The objective has been evaluated \"\n",
      "C:\\Anaconda\\envs\\nlp_course\\lib\\site-packages\\skopt\\optimizer\\optimizer.py:449: UserWarning: The objective has been evaluated at this point before.\n",
      "  warnings.warn(\"The objective has been evaluated \"\n",
      "C:\\Anaconda\\envs\\nlp_course\\lib\\site-packages\\sklearn\\svm\\_base.py:1208: ConvergenceWarning: Liblinear failed to converge, increase the number of iterations.\n",
      "  ConvergenceWarning,\n"
     ]
    },
    {
     "data": {
      "text/plain": [
       "BayesSearchCV(cv=RepeatedStratifiedKFold(n_repeats=3, n_splits=5, random_state=1),\n",
       "              estimator=LinearSVC(), n_jobs=-1, scoring='roc_auc',\n",
       "              search_spaces={'C': [100, 10, 1.0, 0.1, 0.01]})"
      ]
     },
     "execution_count": 28,
     "metadata": {},
     "output_type": "execute_result"
    }
   ],
   "source": [
    "lsvc_clf_bert.fit(X_train_trans,y_train)"
   ]
  },
  {
   "cell_type": "code",
   "execution_count": 29,
   "id": "2d9aeda8",
   "metadata": {},
   "outputs": [],
   "source": [
    "with open('/Models_Pipelines/lsvc_clf_bert.pkl','wb') as f:\n",
    "    pickle.dump(lsvc_clf_bert,f)"
   ]
  },
  {
   "cell_type": "code",
   "execution_count": 30,
   "id": "8a6ce8c9",
   "metadata": {},
   "outputs": [],
   "source": [
    "with open('/Models_Pipelines/lsvc_clf_bert.pkl', 'rb') as f:\n",
    "    lsvc_clf_bert = pickle.load(f)"
   ]
  },
  {
   "cell_type": "code",
   "execution_count": 33,
   "id": "09518956",
   "metadata": {},
   "outputs": [],
   "source": [
    "lsvc_clf_bert_best=lsvc_clf_bert.best_score_"
   ]
  },
  {
   "cell_type": "code",
   "execution_count": 34,
   "id": "095a7aae",
   "metadata": {},
   "outputs": [
    {
     "data": {
      "text/plain": [
       "0.676189638133792"
      ]
     },
     "execution_count": 34,
     "metadata": {},
     "output_type": "execute_result"
    }
   ],
   "source": [
    "lsvc_clf_bert_best"
   ]
  },
  {
   "cell_type": "code",
   "execution_count": 35,
   "id": "2a7eae5c",
   "metadata": {},
   "outputs": [],
   "source": [
    "y_dec_func_lsvc_clf_bert=lsvc_clf_bert.decision_function(X_test_trans)\n",
    "roc_auc_lsvc_clf_bert=roc_auc_score(y_test, y_dec_func_lsvc_clf_bert)"
   ]
  },
  {
   "cell_type": "code",
   "execution_count": 36,
   "id": "9c4e3818",
   "metadata": {},
   "outputs": [
    {
     "data": {
      "text/plain": [
       "0.6872842288863896"
      ]
     },
     "execution_count": 36,
     "metadata": {},
     "output_type": "execute_result"
    }
   ],
   "source": [
    "roc_auc_lsvc_clf_bert"
   ]
  },
  {
   "cell_type": "code",
   "execution_count": 63,
   "id": "8b1c0b92",
   "metadata": {},
   "outputs": [],
   "source": [
    "model_bert.append(\"Linear SVM\")\n",
    "Roc_auc_cv.append(lsvc_clf_bert_best)\n",
    "Roc_auc_test.append(roc_auc_lsvc_clf_bert)"
   ]
  },
  {
   "cell_type": "markdown",
   "id": "c939bd85",
   "metadata": {},
   "source": [
    "### KNN"
   ]
  },
  {
   "cell_type": "code",
   "execution_count": 39,
   "id": "1c8dbc00",
   "metadata": {},
   "outputs": [],
   "source": [
    "k_range = list(range(1, 31))\n",
    "param= dict(n_neighbors=k_range)\n",
    "cv = RepeatedStratifiedKFold(n_splits=5, n_repeats=3, random_state=1)\n",
    "scoring='roc_auc'\n",
    "\n",
    "knn_clf_bert = BayesSearchCV(estimator=KNeighborsClassifier(), search_spaces=param, scoring=scoring, n_jobs=-1, cv=cv)"
   ]
  },
  {
   "cell_type": "code",
   "execution_count": 40,
   "id": "71f609ce",
   "metadata": {},
   "outputs": [
    {
     "name": "stderr",
     "output_type": "stream",
     "text": [
      "C:\\Anaconda\\envs\\nlp_course\\lib\\site-packages\\skopt\\optimizer\\optimizer.py:449: UserWarning: The objective has been evaluated at this point before.\n",
      "  warnings.warn(\"The objective has been evaluated \"\n",
      "C:\\Anaconda\\envs\\nlp_course\\lib\\site-packages\\skopt\\optimizer\\optimizer.py:449: UserWarning: The objective has been evaluated at this point before.\n",
      "  warnings.warn(\"The objective has been evaluated \"\n",
      "C:\\Anaconda\\envs\\nlp_course\\lib\\site-packages\\skopt\\optimizer\\optimizer.py:449: UserWarning: The objective has been evaluated at this point before.\n",
      "  warnings.warn(\"The objective has been evaluated \"\n",
      "C:\\Anaconda\\envs\\nlp_course\\lib\\site-packages\\skopt\\optimizer\\optimizer.py:449: UserWarning: The objective has been evaluated at this point before.\n",
      "  warnings.warn(\"The objective has been evaluated \"\n",
      "C:\\Anaconda\\envs\\nlp_course\\lib\\site-packages\\skopt\\optimizer\\optimizer.py:449: UserWarning: The objective has been evaluated at this point before.\n",
      "  warnings.warn(\"The objective has been evaluated \"\n",
      "C:\\Anaconda\\envs\\nlp_course\\lib\\site-packages\\skopt\\optimizer\\optimizer.py:449: UserWarning: The objective has been evaluated at this point before.\n",
      "  warnings.warn(\"The objective has been evaluated \"\n",
      "C:\\Anaconda\\envs\\nlp_course\\lib\\site-packages\\skopt\\optimizer\\optimizer.py:449: UserWarning: The objective has been evaluated at this point before.\n",
      "  warnings.warn(\"The objective has been evaluated \"\n",
      "C:\\Anaconda\\envs\\nlp_course\\lib\\site-packages\\skopt\\optimizer\\optimizer.py:449: UserWarning: The objective has been evaluated at this point before.\n",
      "  warnings.warn(\"The objective has been evaluated \"\n",
      "C:\\Anaconda\\envs\\nlp_course\\lib\\site-packages\\skopt\\optimizer\\optimizer.py:449: UserWarning: The objective has been evaluated at this point before.\n",
      "  warnings.warn(\"The objective has been evaluated \"\n",
      "C:\\Anaconda\\envs\\nlp_course\\lib\\site-packages\\skopt\\optimizer\\optimizer.py:449: UserWarning: The objective has been evaluated at this point before.\n",
      "  warnings.warn(\"The objective has been evaluated \"\n",
      "C:\\Anaconda\\envs\\nlp_course\\lib\\site-packages\\skopt\\optimizer\\optimizer.py:449: UserWarning: The objective has been evaluated at this point before.\n",
      "  warnings.warn(\"The objective has been evaluated \"\n",
      "C:\\Anaconda\\envs\\nlp_course\\lib\\site-packages\\skopt\\optimizer\\optimizer.py:449: UserWarning: The objective has been evaluated at this point before.\n",
      "  warnings.warn(\"The objective has been evaluated \"\n",
      "C:\\Anaconda\\envs\\nlp_course\\lib\\site-packages\\skopt\\optimizer\\optimizer.py:449: UserWarning: The objective has been evaluated at this point before.\n",
      "  warnings.warn(\"The objective has been evaluated \"\n",
      "C:\\Anaconda\\envs\\nlp_course\\lib\\site-packages\\skopt\\optimizer\\optimizer.py:449: UserWarning: The objective has been evaluated at this point before.\n",
      "  warnings.warn(\"The objective has been evaluated \"\n",
      "C:\\Anaconda\\envs\\nlp_course\\lib\\site-packages\\skopt\\optimizer\\optimizer.py:449: UserWarning: The objective has been evaluated at this point before.\n",
      "  warnings.warn(\"The objective has been evaluated \"\n",
      "C:\\Anaconda\\envs\\nlp_course\\lib\\site-packages\\skopt\\optimizer\\optimizer.py:449: UserWarning: The objective has been evaluated at this point before.\n",
      "  warnings.warn(\"The objective has been evaluated \"\n",
      "C:\\Anaconda\\envs\\nlp_course\\lib\\site-packages\\skopt\\optimizer\\optimizer.py:449: UserWarning: The objective has been evaluated at this point before.\n",
      "  warnings.warn(\"The objective has been evaluated \"\n",
      "C:\\Anaconda\\envs\\nlp_course\\lib\\site-packages\\skopt\\optimizer\\optimizer.py:449: UserWarning: The objective has been evaluated at this point before.\n",
      "  warnings.warn(\"The objective has been evaluated \"\n",
      "C:\\Anaconda\\envs\\nlp_course\\lib\\site-packages\\skopt\\optimizer\\optimizer.py:449: UserWarning: The objective has been evaluated at this point before.\n",
      "  warnings.warn(\"The objective has been evaluated \"\n"
     ]
    },
    {
     "data": {
      "text/plain": [
       "BayesSearchCV(cv=RepeatedStratifiedKFold(n_repeats=3, n_splits=5, random_state=1),\n",
       "              estimator=KNeighborsClassifier(), n_jobs=-1, scoring='roc_auc',\n",
       "              search_spaces={'n_neighbors': [1, 2, 3, 4, 5, 6, 7, 8, 9, 10, 11,\n",
       "                                             12, 13, 14, 15, 16, 17, 18, 19, 20,\n",
       "                                             21, 22, 23, 24, 25, 26, 27, 28, 29,\n",
       "                                             30]})"
      ]
     },
     "execution_count": 40,
     "metadata": {},
     "output_type": "execute_result"
    }
   ],
   "source": [
    "knn_clf_bert.fit(X_train_trans,y_train)"
   ]
  },
  {
   "cell_type": "code",
   "execution_count": 41,
   "id": "5fb03c41",
   "metadata": {},
   "outputs": [],
   "source": [
    "with open('/Models_Pipelines/knn_clf_bert.pkl','wb') as f:\n",
    "    pickle.dump(knn_clf_bert,f)"
   ]
  },
  {
   "cell_type": "code",
   "execution_count": 42,
   "id": "d5022eb6",
   "metadata": {},
   "outputs": [],
   "source": [
    "with open('/Models_Pipelines/knn_clf_bert.pkl', 'rb') as f:\n",
    "    knn_clf_bert = pickle.load(f)"
   ]
  },
  {
   "cell_type": "code",
   "execution_count": 43,
   "id": "9590e4ae",
   "metadata": {},
   "outputs": [],
   "source": [
    "knn_clf_bert_best=knn_clf_bert.best_score_"
   ]
  },
  {
   "cell_type": "code",
   "execution_count": 44,
   "id": "27126abe",
   "metadata": {},
   "outputs": [
    {
     "data": {
      "text/plain": [
       "0.6379218287933012"
      ]
     },
     "execution_count": 44,
     "metadata": {},
     "output_type": "execute_result"
    }
   ],
   "source": [
    "knn_clf_bert_best"
   ]
  },
  {
   "cell_type": "code",
   "execution_count": 45,
   "id": "6e7ea88e",
   "metadata": {},
   "outputs": [],
   "source": [
    "y_prob_knn_clf_bert = knn_clf_bert.predict_proba(X_test_trans)\n",
    "roc_auc_knn_clf_bert=roc_auc_score(y_test,y_prob_knn_clf_bert[:,1])"
   ]
  },
  {
   "cell_type": "code",
   "execution_count": 46,
   "id": "8e6e2810",
   "metadata": {},
   "outputs": [
    {
     "data": {
      "text/plain": [
       "0.6693182691568673"
      ]
     },
     "execution_count": 46,
     "metadata": {},
     "output_type": "execute_result"
    }
   ],
   "source": [
    "roc_auc_knn_clf_bert"
   ]
  },
  {
   "cell_type": "code",
   "execution_count": 64,
   "id": "d9f9d862",
   "metadata": {},
   "outputs": [],
   "source": [
    "model_bert.append(\"KNN\")\n",
    "Roc_auc_cv.append(knn_clf_bert_best)\n",
    "Roc_auc_test.append(roc_auc_knn_clf_bert)"
   ]
  },
  {
   "cell_type": "markdown",
   "id": "d36c0e47",
   "metadata": {},
   "source": [
    "### Random Forest"
   ]
  },
  {
   "cell_type": "code",
   "execution_count": 47,
   "id": "89e19784",
   "metadata": {},
   "outputs": [],
   "source": [
    "from sklearn.ensemble import RandomForestClassifier\n",
    "max_depth=[5, 10, 15, 20]\n",
    "min_samples_leaf=[5, 10, 20, 50, 100]\n",
    "criterion=[\"gini\", \"entropy\"]\n",
    "n_estimators=[10,50,100,150]\n",
    "\n",
    "param= dict(max_depth=max_depth,min_samples_leaf=min_samples_leaf,criterion=criterion,n_estimators=n_estimators)\n",
    "cv = RepeatedStratifiedKFold(n_splits=5, n_repeats=3, random_state=1)\n",
    "scoring='roc_auc'\n",
    "\n",
    "rand_for_clf_bert = BayesSearchCV(estimator=RandomForestClassifier(), search_spaces=param, scoring=scoring, n_jobs=-1, cv=cv)"
   ]
  },
  {
   "cell_type": "code",
   "execution_count": 48,
   "id": "d6b265c2",
   "metadata": {},
   "outputs": [
    {
     "name": "stderr",
     "output_type": "stream",
     "text": [
      "C:\\Anaconda\\envs\\nlp_course\\lib\\site-packages\\skopt\\optimizer\\optimizer.py:449: UserWarning: The objective has been evaluated at this point before.\n",
      "  warnings.warn(\"The objective has been evaluated \"\n",
      "C:\\Anaconda\\envs\\nlp_course\\lib\\site-packages\\skopt\\optimizer\\optimizer.py:449: UserWarning: The objective has been evaluated at this point before.\n",
      "  warnings.warn(\"The objective has been evaluated \"\n",
      "C:\\Anaconda\\envs\\nlp_course\\lib\\site-packages\\skopt\\optimizer\\optimizer.py:449: UserWarning: The objective has been evaluated at this point before.\n",
      "  warnings.warn(\"The objective has been evaluated \"\n",
      "C:\\Anaconda\\envs\\nlp_course\\lib\\site-packages\\skopt\\optimizer\\optimizer.py:449: UserWarning: The objective has been evaluated at this point before.\n",
      "  warnings.warn(\"The objective has been evaluated \"\n"
     ]
    },
    {
     "data": {
      "text/plain": [
       "BayesSearchCV(cv=RepeatedStratifiedKFold(n_repeats=3, n_splits=5, random_state=1),\n",
       "              estimator=RandomForestClassifier(), n_jobs=-1, scoring='roc_auc',\n",
       "              search_spaces={'criterion': ['gini', 'entropy'],\n",
       "                             'max_depth': [5, 10, 15, 20],\n",
       "                             'min_samples_leaf': [5, 10, 20, 50, 100],\n",
       "                             'n_estimators': [10, 50, 100, 150]})"
      ]
     },
     "execution_count": 48,
     "metadata": {},
     "output_type": "execute_result"
    }
   ],
   "source": [
    "rand_for_clf_bert.fit(X_train_trans,y_train)"
   ]
  },
  {
   "cell_type": "code",
   "execution_count": 49,
   "id": "708631ab",
   "metadata": {},
   "outputs": [],
   "source": [
    "with open('/Models_Pipelines/rand_for_clf_bert.pkl','wb') as f:\n",
    "    pickle.dump(rand_for_clf_bert,f)"
   ]
  },
  {
   "cell_type": "code",
   "execution_count": 50,
   "id": "ffa669d9",
   "metadata": {},
   "outputs": [],
   "source": [
    "with open('/Models_Pipelines/rand_for_clf_bert.pkl', 'rb') as f:\n",
    "    rand_for_clf_bert = pickle.load(f)"
   ]
  },
  {
   "cell_type": "code",
   "execution_count": 51,
   "id": "31396f4a",
   "metadata": {},
   "outputs": [],
   "source": [
    "rand_for_clf_bert_best=rand_for_clf_bert.best_score_"
   ]
  },
  {
   "cell_type": "code",
   "execution_count": 52,
   "id": "81386938",
   "metadata": {},
   "outputs": [
    {
     "data": {
      "text/plain": [
       "0.6746394679938784"
      ]
     },
     "execution_count": 52,
     "metadata": {},
     "output_type": "execute_result"
    }
   ],
   "source": [
    "rand_for_clf_bert_best"
   ]
  },
  {
   "cell_type": "code",
   "execution_count": 53,
   "id": "a78ebeee",
   "metadata": {},
   "outputs": [],
   "source": [
    "y_prob_rand_for_clf_bert = rand_for_clf_bert.predict_proba(X_test_trans)\n",
    "roc_auc_rand_for_clf_bert=roc_auc_score(y_test,y_prob_rand_for_clf_bert[:,1])"
   ]
  },
  {
   "cell_type": "code",
   "execution_count": 54,
   "id": "096ce04f",
   "metadata": {},
   "outputs": [
    {
     "data": {
      "text/plain": [
       "0.6945667245454787"
      ]
     },
     "execution_count": 54,
     "metadata": {},
     "output_type": "execute_result"
    }
   ],
   "source": [
    "roc_auc_rand_for_clf_bert"
   ]
  },
  {
   "cell_type": "code",
   "execution_count": 65,
   "id": "6274e751",
   "metadata": {},
   "outputs": [],
   "source": [
    "model_bert.append(\"Random Forest\")\n",
    "Roc_auc_cv.append(rand_for_clf_bert_best)\n",
    "Roc_auc_test.append(roc_auc_rand_for_clf_bert)"
   ]
  },
  {
   "cell_type": "code",
   "execution_count": 66,
   "id": "22ac737b",
   "metadata": {},
   "outputs": [
    {
     "data": {
      "text/html": [
       "<div>\n",
       "<style scoped>\n",
       "    .dataframe tbody tr th:only-of-type {\n",
       "        vertical-align: middle;\n",
       "    }\n",
       "\n",
       "    .dataframe tbody tr th {\n",
       "        vertical-align: top;\n",
       "    }\n",
       "\n",
       "    .dataframe thead th {\n",
       "        text-align: right;\n",
       "    }\n",
       "</style>\n",
       "<table border=\"1\" class=\"dataframe\">\n",
       "  <thead>\n",
       "    <tr style=\"text-align: right;\">\n",
       "      <th></th>\n",
       "      <th>model_bert</th>\n",
       "      <th>Roc_auc_cross_val</th>\n",
       "      <th>Roc_auc_test</th>\n",
       "    </tr>\n",
       "  </thead>\n",
       "  <tbody>\n",
       "    <tr>\n",
       "      <th>0</th>\n",
       "      <td>Decision Tree</td>\n",
       "      <td>0.605055</td>\n",
       "      <td>0.615207</td>\n",
       "    </tr>\n",
       "    <tr>\n",
       "      <th>1</th>\n",
       "      <td>KNN</td>\n",
       "      <td>0.637922</td>\n",
       "      <td>0.669318</td>\n",
       "    </tr>\n",
       "    <tr>\n",
       "      <th>2</th>\n",
       "      <td>Logistic Regression</td>\n",
       "      <td>0.676145</td>\n",
       "      <td>0.687030</td>\n",
       "    </tr>\n",
       "    <tr>\n",
       "      <th>3</th>\n",
       "      <td>Linear SVM</td>\n",
       "      <td>0.676190</td>\n",
       "      <td>0.687284</td>\n",
       "    </tr>\n",
       "    <tr>\n",
       "      <th>4</th>\n",
       "      <td>Random Forest</td>\n",
       "      <td>0.674639</td>\n",
       "      <td>0.694567</td>\n",
       "    </tr>\n",
       "  </tbody>\n",
       "</table>\n",
       "</div>"
      ],
      "text/plain": [
       "            model_bert  Roc_auc_cross_val  Roc_auc_test\n",
       "0        Decision Tree           0.605055      0.615207\n",
       "1                  KNN           0.637922      0.669318\n",
       "2  Logistic Regression           0.676145      0.687030\n",
       "3           Linear SVM           0.676190      0.687284\n",
       "4        Random Forest           0.674639      0.694567"
      ]
     },
     "execution_count": 66,
     "metadata": {},
     "output_type": "execute_result"
    }
   ],
   "source": [
    "result_bert=pd.DataFrame({'model_bert': model_bert, 'Roc_auc_cross_val': Roc_auc_cv,'Roc_auc_test':Roc_auc_test})\n",
    "result_bert=result_bert.sort_values('Roc_auc_test')\n",
    "result_bert.reset_index(drop = True)"
   ]
  }
 ],
 "metadata": {
  "kernelspec": {
   "display_name": "Python 3 (ipykernel)",
   "language": "python",
   "name": "python3"
  },
  "language_info": {
   "codemirror_mode": {
    "name": "ipython",
    "version": 3
   },
   "file_extension": ".py",
   "mimetype": "text/x-python",
   "name": "python",
   "nbconvert_exporter": "python",
   "pygments_lexer": "ipython3",
   "version": "3.7.12"
  }
 },
 "nbformat": 4,
 "nbformat_minor": 5
}
