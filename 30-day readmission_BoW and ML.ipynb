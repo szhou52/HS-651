{
 "cells": [
  {
   "cell_type": "code",
   "execution_count": 1,
   "id": "04b35e62",
   "metadata": {},
   "outputs": [],
   "source": [
    "import pandas as pd\n",
    "import numpy as np\n",
    "import matplotlib.pyplot as plt"
   ]
  },
  {
   "cell_type": "markdown",
   "id": "f2e000cb",
   "metadata": {},
   "source": [
    "# Part 5: Modeling"
   ]
  },
  {
   "cell_type": "markdown",
   "id": "fd0f207f",
   "metadata": {},
   "source": [
    "## Sub-sampling and set splitting"
   ]
  },
  {
   "cell_type": "code",
   "execution_count": 2,
   "id": "055deebf",
   "metadata": {},
   "outputs": [],
   "source": [
    "df_adm_dis_sum=pd.read_csv('df_adm_dis_sum.csv')"
   ]
  },
  {
   "cell_type": "code",
   "execution_count": 3,
   "id": "00f678b4",
   "metadata": {},
   "outputs": [],
   "source": [
    "# Split dataset into training set and test set\n",
    "from sklearn.model_selection import train_test_split\n",
    "df_train, df_test=train_test_split(df_adm_dis_sum,test_size=0.2, random_state=42)"
   ]
  },
  {
   "cell_type": "code",
   "execution_count": 4,
   "id": "70cae7ba",
   "metadata": {},
   "outputs": [],
   "source": [
    "# sub-sampling the negatives (non-readmitted) on the training set\n",
    "df_train_readm=df_train[df_train.READMISSION_STATUS=='Readmitted']\n",
    "df_train_non_readm=df_train[df_train.READMISSION_STATUS=='Non-readmitted']\n",
    "df_train_sub = pd.concat([df_train_readm, df_train_non_readm.sample(n = len(df_train_readm), random_state = 42)],axis = 0)"
   ]
  },
  {
   "cell_type": "code",
   "execution_count": 5,
   "id": "73b52aae",
   "metadata": {},
   "outputs": [],
   "source": [
    "X_train=df_train_sub['TEXT_AGG']\n",
    "y_train=df_train_sub['READMISSION_STATUS']\n",
    "X_test=df_test['TEXT_AGG']\n",
    "y_test=df_test['READMISSION_STATUS']"
   ]
  },
  {
   "cell_type": "markdown",
   "id": "f965fcde",
   "metadata": {},
   "source": [
    "## BoW with ML models"
   ]
  },
  {
   "cell_type": "markdown",
   "id": "a64a0835",
   "metadata": {},
   "source": [
    "### For this section, I'm testing on the combination of simple BoW with 5 machine learning models, including logistic regression, decision tree, linear svc, KNN and naive bayes. I'm using a combination of cross validation and BayesSearchCV on the training set to find the best hyper-parameters to maximize the ROC-AUC score. "
   ]
  },
  {
   "cell_type": "code",
   "execution_count": 6,
   "id": "87ff7780",
   "metadata": {},
   "outputs": [],
   "source": [
    "from sklearn.linear_model import LogisticRegression\n",
    "from sklearn.feature_extraction.text import TfidfVectorizer\n",
    "from sklearn.pipeline import Pipeline\n",
    "from sklearn.model_selection import cross_val_predict\n",
    "from sklearn.metrics import roc_curve\n",
    "from sklearn.metrics import roc_auc_score\n",
    "from sklearn.naive_bayes import MultinomialNB\n",
    "from sklearn.neighbors import KNeighborsClassifier\n",
    "from sklearn.model_selection import GridSearchCV\n",
    "from sklearn.model_selection import RepeatedStratifiedKFold\n",
    "from skopt import BayesSearchCV\n",
    "from sklearn.svm import LinearSVC\n",
    "from sklearn.feature_extraction.text import CountVectorizer\n",
    "from sklearn.tree import DecisionTreeClassifier\n",
    "from sklearn.model_selection import cross_val_score"
   ]
  },
  {
   "cell_type": "code",
   "execution_count": 7,
   "id": "fbb4fd94",
   "metadata": {},
   "outputs": [],
   "source": [
    "model_BoW=[]\n",
    "Roc_auc_cv_BoW=[]\n",
    "Roc_auc_test_BoW=[]"
   ]
  },
  {
   "cell_type": "code",
   "execution_count": 8,
   "id": "7756ccf7",
   "metadata": {},
   "outputs": [],
   "source": [
    "# BoW vs Logistic regression\n",
    "solvers = ['newton-cg', 'lbfgs', 'liblinear']\n",
    "penalty = ['l2']\n",
    "c_values = [100, 10, 1.0, 0.1, 0.01]\n",
    "\n",
    "param= dict(solver=solvers,penalty=penalty,C=c_values)\n",
    "cv = RepeatedStratifiedKFold(n_splits=10, n_repeats=3, random_state=1)\n",
    "scoring='roc_auc'\n",
    "\n",
    "logistic_clf_BoW = Pipeline([('BoW', CountVectorizer()),\n",
    "                     ('clf', BayesSearchCV(estimator=LogisticRegression(), search_spaces=param, scoring=scoring, n_jobs=-1, cv=cv))])"
   ]
  },
  {
   "cell_type": "code",
   "execution_count": 9,
   "id": "fb39e21b",
   "metadata": {
    "collapsed": true
   },
   "outputs": [
    {
     "name": "stderr",
     "output_type": "stream",
     "text": [
      "C:\\Anaconda\\envs\\nlp_course\\lib\\site-packages\\skopt\\optimizer\\optimizer.py:449: UserWarning: The objective has been evaluated at this point before.\n",
      "  warnings.warn(\"The objective has been evaluated \"\n",
      "C:\\Anaconda\\envs\\nlp_course\\lib\\site-packages\\skopt\\optimizer\\optimizer.py:449: UserWarning: The objective has been evaluated at this point before.\n",
      "  warnings.warn(\"The objective has been evaluated \"\n",
      "C:\\Anaconda\\envs\\nlp_course\\lib\\site-packages\\skopt\\optimizer\\optimizer.py:449: UserWarning: The objective has been evaluated at this point before.\n",
      "  warnings.warn(\"The objective has been evaluated \"\n",
      "C:\\Anaconda\\envs\\nlp_course\\lib\\site-packages\\skopt\\optimizer\\optimizer.py:449: UserWarning: The objective has been evaluated at this point before.\n",
      "  warnings.warn(\"The objective has been evaluated \"\n",
      "C:\\Anaconda\\envs\\nlp_course\\lib\\site-packages\\skopt\\optimizer\\optimizer.py:449: UserWarning: The objective has been evaluated at this point before.\n",
      "  warnings.warn(\"The objective has been evaluated \"\n",
      "C:\\Anaconda\\envs\\nlp_course\\lib\\site-packages\\skopt\\optimizer\\optimizer.py:449: UserWarning: The objective has been evaluated at this point before.\n",
      "  warnings.warn(\"The objective has been evaluated \"\n",
      "C:\\Anaconda\\envs\\nlp_course\\lib\\site-packages\\skopt\\optimizer\\optimizer.py:449: UserWarning: The objective has been evaluated at this point before.\n",
      "  warnings.warn(\"The objective has been evaluated \"\n",
      "C:\\Anaconda\\envs\\nlp_course\\lib\\site-packages\\skopt\\optimizer\\optimizer.py:449: UserWarning: The objective has been evaluated at this point before.\n",
      "  warnings.warn(\"The objective has been evaluated \"\n",
      "C:\\Anaconda\\envs\\nlp_course\\lib\\site-packages\\skopt\\optimizer\\optimizer.py:449: UserWarning: The objective has been evaluated at this point before.\n",
      "  warnings.warn(\"The objective has been evaluated \"\n",
      "C:\\Anaconda\\envs\\nlp_course\\lib\\site-packages\\skopt\\optimizer\\optimizer.py:449: UserWarning: The objective has been evaluated at this point before.\n",
      "  warnings.warn(\"The objective has been evaluated \"\n",
      "C:\\Anaconda\\envs\\nlp_course\\lib\\site-packages\\skopt\\optimizer\\optimizer.py:449: UserWarning: The objective has been evaluated at this point before.\n",
      "  warnings.warn(\"The objective has been evaluated \"\n",
      "C:\\Anaconda\\envs\\nlp_course\\lib\\site-packages\\skopt\\optimizer\\optimizer.py:449: UserWarning: The objective has been evaluated at this point before.\n",
      "  warnings.warn(\"The objective has been evaluated \"\n",
      "C:\\Anaconda\\envs\\nlp_course\\lib\\site-packages\\skopt\\optimizer\\optimizer.py:449: UserWarning: The objective has been evaluated at this point before.\n",
      "  warnings.warn(\"The objective has been evaluated \"\n",
      "C:\\Anaconda\\envs\\nlp_course\\lib\\site-packages\\skopt\\optimizer\\optimizer.py:449: UserWarning: The objective has been evaluated at this point before.\n",
      "  warnings.warn(\"The objective has been evaluated \"\n",
      "C:\\Anaconda\\envs\\nlp_course\\lib\\site-packages\\skopt\\optimizer\\optimizer.py:449: UserWarning: The objective has been evaluated at this point before.\n",
      "  warnings.warn(\"The objective has been evaluated \"\n",
      "C:\\Anaconda\\envs\\nlp_course\\lib\\site-packages\\skopt\\optimizer\\optimizer.py:449: UserWarning: The objective has been evaluated at this point before.\n",
      "  warnings.warn(\"The objective has been evaluated \"\n",
      "C:\\Anaconda\\envs\\nlp_course\\lib\\site-packages\\skopt\\optimizer\\optimizer.py:449: UserWarning: The objective has been evaluated at this point before.\n",
      "  warnings.warn(\"The objective has been evaluated \"\n",
      "C:\\Anaconda\\envs\\nlp_course\\lib\\site-packages\\skopt\\optimizer\\optimizer.py:449: UserWarning: The objective has been evaluated at this point before.\n",
      "  warnings.warn(\"The objective has been evaluated \"\n",
      "C:\\Anaconda\\envs\\nlp_course\\lib\\site-packages\\skopt\\optimizer\\optimizer.py:449: UserWarning: The objective has been evaluated at this point before.\n",
      "  warnings.warn(\"The objective has been evaluated \"\n",
      "C:\\Anaconda\\envs\\nlp_course\\lib\\site-packages\\skopt\\optimizer\\optimizer.py:449: UserWarning: The objective has been evaluated at this point before.\n",
      "  warnings.warn(\"The objective has been evaluated \"\n",
      "C:\\Anaconda\\envs\\nlp_course\\lib\\site-packages\\skopt\\optimizer\\optimizer.py:449: UserWarning: The objective has been evaluated at this point before.\n",
      "  warnings.warn(\"The objective has been evaluated \"\n",
      "C:\\Anaconda\\envs\\nlp_course\\lib\\site-packages\\skopt\\optimizer\\optimizer.py:449: UserWarning: The objective has been evaluated at this point before.\n",
      "  warnings.warn(\"The objective has been evaluated \"\n",
      "C:\\Anaconda\\envs\\nlp_course\\lib\\site-packages\\skopt\\optimizer\\optimizer.py:449: UserWarning: The objective has been evaluated at this point before.\n",
      "  warnings.warn(\"The objective has been evaluated \"\n",
      "C:\\Anaconda\\envs\\nlp_course\\lib\\site-packages\\skopt\\optimizer\\optimizer.py:449: UserWarning: The objective has been evaluated at this point before.\n",
      "  warnings.warn(\"The objective has been evaluated \"\n",
      "C:\\Anaconda\\envs\\nlp_course\\lib\\site-packages\\skopt\\optimizer\\optimizer.py:449: UserWarning: The objective has been evaluated at this point before.\n",
      "  warnings.warn(\"The objective has been evaluated \"\n",
      "C:\\Anaconda\\envs\\nlp_course\\lib\\site-packages\\skopt\\optimizer\\optimizer.py:449: UserWarning: The objective has been evaluated at this point before.\n",
      "  warnings.warn(\"The objective has been evaluated \"\n",
      "C:\\Anaconda\\envs\\nlp_course\\lib\\site-packages\\skopt\\optimizer\\optimizer.py:449: UserWarning: The objective has been evaluated at this point before.\n",
      "  warnings.warn(\"The objective has been evaluated \"\n",
      "C:\\Anaconda\\envs\\nlp_course\\lib\\site-packages\\skopt\\optimizer\\optimizer.py:449: UserWarning: The objective has been evaluated at this point before.\n",
      "  warnings.warn(\"The objective has been evaluated \"\n",
      "C:\\Anaconda\\envs\\nlp_course\\lib\\site-packages\\skopt\\optimizer\\optimizer.py:449: UserWarning: The objective has been evaluated at this point before.\n",
      "  warnings.warn(\"The objective has been evaluated \"\n",
      "C:\\Anaconda\\envs\\nlp_course\\lib\\site-packages\\skopt\\optimizer\\optimizer.py:449: UserWarning: The objective has been evaluated at this point before.\n",
      "  warnings.warn(\"The objective has been evaluated \"\n",
      "C:\\Anaconda\\envs\\nlp_course\\lib\\site-packages\\skopt\\optimizer\\optimizer.py:449: UserWarning: The objective has been evaluated at this point before.\n",
      "  warnings.warn(\"The objective has been evaluated \"\n",
      "C:\\Anaconda\\envs\\nlp_course\\lib\\site-packages\\skopt\\optimizer\\optimizer.py:449: UserWarning: The objective has been evaluated at this point before.\n",
      "  warnings.warn(\"The objective has been evaluated \"\n",
      "C:\\Anaconda\\envs\\nlp_course\\lib\\site-packages\\skopt\\optimizer\\optimizer.py:449: UserWarning: The objective has been evaluated at this point before.\n",
      "  warnings.warn(\"The objective has been evaluated \"\n"
     ]
    },
    {
     "data": {
      "text/plain": [
       "Pipeline(steps=[('BoW', CountVectorizer()),\n",
       "                ('clf',\n",
       "                 BayesSearchCV(cv=RepeatedStratifiedKFold(n_repeats=3, n_splits=10, random_state=1),\n",
       "                               estimator=LogisticRegression(), n_jobs=-1,\n",
       "                               scoring='roc_auc',\n",
       "                               search_spaces={'C': [100, 10, 1.0, 0.1, 0.01],\n",
       "                                              'penalty': ['l2'],\n",
       "                                              'solver': ['newton-cg', 'lbfgs',\n",
       "                                                         'liblinear']}))])"
      ]
     },
     "execution_count": 9,
     "metadata": {},
     "output_type": "execute_result"
    }
   ],
   "source": [
    "logistic_clf_BoW.fit(X_train,y_train)"
   ]
  },
  {
   "cell_type": "code",
   "execution_count": 10,
   "id": "b0a22297",
   "metadata": {},
   "outputs": [],
   "source": [
    "logistic_clf_BoW_best=logistic_clf_BoW.named_steps['clf'].best_score_"
   ]
  },
  {
   "cell_type": "code",
   "execution_count": 11,
   "id": "69ad1979",
   "metadata": {},
   "outputs": [
    {
     "data": {
      "text/plain": [
       "0.6938577840122846"
      ]
     },
     "execution_count": 11,
     "metadata": {},
     "output_type": "execute_result"
    }
   ],
   "source": [
    "logistic_clf_BoW_best"
   ]
  },
  {
   "cell_type": "code",
   "execution_count": 13,
   "id": "df05d81d",
   "metadata": {},
   "outputs": [],
   "source": [
    "y_prob_logistic_clf_BoW=logistic_clf_BoW.predict_proba(X_test)\n",
    "logistic_clf_BoW_roc_auc=roc_auc_score(y_test, y_prob_logistic_clf_BoW[:,1])"
   ]
  },
  {
   "cell_type": "code",
   "execution_count": 19,
   "id": "3337e495",
   "metadata": {},
   "outputs": [
    {
     "data": {
      "text/plain": [
       "0.696960891804266"
      ]
     },
     "execution_count": 19,
     "metadata": {},
     "output_type": "execute_result"
    }
   ],
   "source": [
    "logistic_clf_BoW_roc_auc"
   ]
  },
  {
   "cell_type": "code",
   "execution_count": 46,
   "id": "1b1d90b4",
   "metadata": {},
   "outputs": [],
   "source": [
    "model_BoW.append('Logistic Regression')\n",
    "Roc_auc_cv_BoW.append(logistic_clf_BoW_best)\n",
    "Roc_auc_test_BoW.append(logistic_clf_BoW_roc_auc)"
   ]
  },
  {
   "cell_type": "code",
   "execution_count": 38,
   "id": "1910744b",
   "metadata": {},
   "outputs": [],
   "source": [
    "# BoW vs Naive Bayes\n",
    "nb_clf_BoW = Pipeline([('BoW', CountVectorizer()),\n",
    "                     ('clf', MultinomialNB()),])"
   ]
  },
  {
   "cell_type": "code",
   "execution_count": 40,
   "id": "c99be3bf",
   "metadata": {},
   "outputs": [],
   "source": [
    "from sklearn.model_selection import cross_val_score\n",
    "nb_clf_BoW_best=(cross_val_score(nb_clf_BoW, X_train, y_train, scoring=\"roc_auc\", cv = 10)).mean()"
   ]
  },
  {
   "cell_type": "code",
   "execution_count": 41,
   "id": "98d304ce",
   "metadata": {},
   "outputs": [
    {
     "data": {
      "text/plain": [
       "0.6776770592876539"
      ]
     },
     "execution_count": 41,
     "metadata": {},
     "output_type": "execute_result"
    }
   ],
   "source": [
    "nb_clf_BoW_best"
   ]
  },
  {
   "cell_type": "code",
   "execution_count": null,
   "id": "8f1e3dd1",
   "metadata": {},
   "outputs": [],
   "source": [
    "model_BoW.append('Naive Bayes')\n",
    "Roc_auc_BoW.append(nb_clf_BoW_best)"
   ]
  },
  {
   "cell_type": "code",
   "execution_count": 44,
   "id": "8092f1d3",
   "metadata": {},
   "outputs": [],
   "source": [
    "nb_clf_BoW.fit(X_train, y_train)\n",
    "y_prob_nb_clf_BoW=nb_clf_BoW.predict_proba(X_test)\n",
    "nb_clf_BoW_roc_auc=roc_auc_score(y_test, y_prob_nb_clf_BoW[:,1])"
   ]
  },
  {
   "cell_type": "code",
   "execution_count": 45,
   "id": "7b79fa7e",
   "metadata": {},
   "outputs": [
    {
     "data": {
      "text/plain": [
       "0.6950238534426914"
      ]
     },
     "execution_count": 45,
     "metadata": {},
     "output_type": "execute_result"
    }
   ],
   "source": [
    "nb_clf_BoW_roc_auc"
   ]
  },
  {
   "cell_type": "code",
   "execution_count": 47,
   "id": "10f8d65e",
   "metadata": {},
   "outputs": [],
   "source": [
    "model_BoW.append('Naive Bayes')\n",
    "Roc_auc_cv_BoW.append(nb_clf_BoW_best)\n",
    "Roc_auc_test_BoW.append(nb_clf_BoW_roc_auc)"
   ]
  },
  {
   "cell_type": "code",
   "execution_count": 25,
   "id": "a296ac61",
   "metadata": {},
   "outputs": [],
   "source": [
    "# BoW vs Decision Tree\n",
    "max_depth=[2, 3, 5, 10, 20]\n",
    "min_samples_leaf=[5, 10, 20, 50, 100]\n",
    "criterion=[\"gini\", \"entropy\"]\n",
    "\n",
    "param= dict(max_depth=max_depth,min_samples_leaf=min_samples_leaf,criterion=criterion)\n",
    "cv = RepeatedStratifiedKFold(n_splits=10, n_repeats=3, random_state=1)\n",
    "scoring='roc_auc'\n",
    "\n",
    "dec_tree_clf_BoW = Pipeline([('BoW', CountVectorizer()),\n",
    "                     ('clf', BayesSearchCV(estimator=DecisionTreeClassifier(), search_spaces=param, scoring=scoring, n_jobs=-1, cv=cv))])"
   ]
  },
  {
   "cell_type": "code",
   "execution_count": 26,
   "id": "4088cc41",
   "metadata": {
    "collapsed": true
   },
   "outputs": [
    {
     "name": "stderr",
     "output_type": "stream",
     "text": [
      "C:\\Anaconda\\envs\\nlp_course\\lib\\site-packages\\skopt\\optimizer\\optimizer.py:449: UserWarning: The objective has been evaluated at this point before.\n",
      "  warnings.warn(\"The objective has been evaluated \"\n",
      "C:\\Anaconda\\envs\\nlp_course\\lib\\site-packages\\skopt\\optimizer\\optimizer.py:449: UserWarning: The objective has been evaluated at this point before.\n",
      "  warnings.warn(\"The objective has been evaluated \"\n",
      "C:\\Anaconda\\envs\\nlp_course\\lib\\site-packages\\skopt\\optimizer\\optimizer.py:449: UserWarning: The objective has been evaluated at this point before.\n",
      "  warnings.warn(\"The objective has been evaluated \"\n",
      "C:\\Anaconda\\envs\\nlp_course\\lib\\site-packages\\skopt\\optimizer\\optimizer.py:449: UserWarning: The objective has been evaluated at this point before.\n",
      "  warnings.warn(\"The objective has been evaluated \"\n",
      "C:\\Anaconda\\envs\\nlp_course\\lib\\site-packages\\skopt\\optimizer\\optimizer.py:449: UserWarning: The objective has been evaluated at this point before.\n",
      "  warnings.warn(\"The objective has been evaluated \"\n",
      "C:\\Anaconda\\envs\\nlp_course\\lib\\site-packages\\skopt\\optimizer\\optimizer.py:449: UserWarning: The objective has been evaluated at this point before.\n",
      "  warnings.warn(\"The objective has been evaluated \"\n",
      "C:\\Anaconda\\envs\\nlp_course\\lib\\site-packages\\skopt\\optimizer\\optimizer.py:449: UserWarning: The objective has been evaluated at this point before.\n",
      "  warnings.warn(\"The objective has been evaluated \"\n",
      "C:\\Anaconda\\envs\\nlp_course\\lib\\site-packages\\skopt\\optimizer\\optimizer.py:449: UserWarning: The objective has been evaluated at this point before.\n",
      "  warnings.warn(\"The objective has been evaluated \"\n",
      "C:\\Anaconda\\envs\\nlp_course\\lib\\site-packages\\skopt\\optimizer\\optimizer.py:449: UserWarning: The objective has been evaluated at this point before.\n",
      "  warnings.warn(\"The objective has been evaluated \"\n",
      "C:\\Anaconda\\envs\\nlp_course\\lib\\site-packages\\skopt\\optimizer\\optimizer.py:449: UserWarning: The objective has been evaluated at this point before.\n",
      "  warnings.warn(\"The objective has been evaluated \"\n",
      "C:\\Anaconda\\envs\\nlp_course\\lib\\site-packages\\skopt\\optimizer\\optimizer.py:449: UserWarning: The objective has been evaluated at this point before.\n",
      "  warnings.warn(\"The objective has been evaluated \"\n",
      "C:\\Anaconda\\envs\\nlp_course\\lib\\site-packages\\skopt\\optimizer\\optimizer.py:449: UserWarning: The objective has been evaluated at this point before.\n",
      "  warnings.warn(\"The objective has been evaluated \"\n",
      "C:\\Anaconda\\envs\\nlp_course\\lib\\site-packages\\skopt\\optimizer\\optimizer.py:449: UserWarning: The objective has been evaluated at this point before.\n",
      "  warnings.warn(\"The objective has been evaluated \"\n",
      "C:\\Anaconda\\envs\\nlp_course\\lib\\site-packages\\skopt\\optimizer\\optimizer.py:449: UserWarning: The objective has been evaluated at this point before.\n",
      "  warnings.warn(\"The objective has been evaluated \"\n"
     ]
    },
    {
     "data": {
      "text/plain": [
       "Pipeline(steps=[('BoW', CountVectorizer()),\n",
       "                ('clf',\n",
       "                 BayesSearchCV(cv=RepeatedStratifiedKFold(n_repeats=3, n_splits=10, random_state=1),\n",
       "                               estimator=DecisionTreeClassifier(), n_jobs=-1,\n",
       "                               scoring='roc_auc',\n",
       "                               search_spaces={'criterion': ['gini', 'entropy'],\n",
       "                                              'max_depth': [2, 3, 5, 10, 20],\n",
       "                                              'min_samples_leaf': [5, 10, 20,\n",
       "                                                                   50,\n",
       "                                                                   100]}))])"
      ]
     },
     "execution_count": 26,
     "metadata": {},
     "output_type": "execute_result"
    }
   ],
   "source": [
    "dec_tree_clf_BoW.fit(X_train,y_train)"
   ]
  },
  {
   "cell_type": "code",
   "execution_count": 27,
   "id": "02e11048",
   "metadata": {},
   "outputs": [],
   "source": [
    "dec_tree_clf_BoW_best=dec_tree_clf_BoW.named_steps['clf'].best_score_"
   ]
  },
  {
   "cell_type": "code",
   "execution_count": 28,
   "id": "1ce625f3",
   "metadata": {},
   "outputs": [
    {
     "data": {
      "text/plain": [
       "0.6490281103659524"
      ]
     },
     "execution_count": 28,
     "metadata": {},
     "output_type": "execute_result"
    }
   ],
   "source": [
    "dec_tree_clf_BoW_best"
   ]
  },
  {
   "cell_type": "code",
   "execution_count": 30,
   "id": "cfc98051",
   "metadata": {},
   "outputs": [],
   "source": [
    "y_prob_dec_tree_clf_BoW=dec_tree_clf_BoW.predict_proba(X_test)\n",
    "dec_tree_clf_BoW_roc_auc=roc_auc_score(y_test, y_prob_dec_tree_clf_BoW[:,1])"
   ]
  },
  {
   "cell_type": "code",
   "execution_count": 31,
   "id": "3df95bbe",
   "metadata": {},
   "outputs": [
    {
     "data": {
      "text/plain": [
       "0.657790346943481"
      ]
     },
     "execution_count": 31,
     "metadata": {},
     "output_type": "execute_result"
    }
   ],
   "source": [
    "dec_tree_clf_BoW_roc_auc"
   ]
  },
  {
   "cell_type": "code",
   "execution_count": 48,
   "id": "43249e02",
   "metadata": {},
   "outputs": [],
   "source": [
    "model_BoW.append('Decision Tree')\n",
    "Roc_auc_cv_BoW.append(dec_tree_clf_BoW_best)\n",
    "Roc_auc_test_BoW.append(dec_tree_clf_BoW_roc_auc)"
   ]
  },
  {
   "cell_type": "code",
   "execution_count": 15,
   "id": "2020d915",
   "metadata": {},
   "outputs": [],
   "source": [
    "# BoW vs Linear SVM\n",
    "c_values=[100, 10, 1.0, 0.1, 0.01]\n",
    "\n",
    "param= dict(C=c_values)\n",
    "cv = RepeatedStratifiedKFold(n_splits=10, n_repeats=3, random_state=1)\n",
    "scoring='roc_auc'\n",
    "\n",
    "lsvc_clf_BoW = Pipeline([('BoW', CountVectorizer()),\n",
    "                     ('clf', BayesSearchCV(estimator=LinearSVC(), search_spaces=param, scoring=scoring, n_jobs=-1, cv=cv))])"
   ]
  },
  {
   "cell_type": "code",
   "execution_count": 16,
   "id": "bd967ab6",
   "metadata": {
    "collapsed": true
   },
   "outputs": [
    {
     "name": "stderr",
     "output_type": "stream",
     "text": [
      "C:\\Anaconda\\envs\\nlp_course\\lib\\site-packages\\skopt\\optimizer\\optimizer.py:449: UserWarning: The objective has been evaluated at this point before.\n",
      "  warnings.warn(\"The objective has been evaluated \"\n",
      "C:\\Anaconda\\envs\\nlp_course\\lib\\site-packages\\skopt\\optimizer\\optimizer.py:449: UserWarning: The objective has been evaluated at this point before.\n",
      "  warnings.warn(\"The objective has been evaluated \"\n",
      "C:\\Anaconda\\envs\\nlp_course\\lib\\site-packages\\skopt\\optimizer\\optimizer.py:449: UserWarning: The objective has been evaluated at this point before.\n",
      "  warnings.warn(\"The objective has been evaluated \"\n",
      "C:\\Anaconda\\envs\\nlp_course\\lib\\site-packages\\skopt\\optimizer\\optimizer.py:449: UserWarning: The objective has been evaluated at this point before.\n",
      "  warnings.warn(\"The objective has been evaluated \"\n",
      "C:\\Anaconda\\envs\\nlp_course\\lib\\site-packages\\skopt\\optimizer\\optimizer.py:449: UserWarning: The objective has been evaluated at this point before.\n",
      "  warnings.warn(\"The objective has been evaluated \"\n",
      "C:\\Anaconda\\envs\\nlp_course\\lib\\site-packages\\skopt\\optimizer\\optimizer.py:449: UserWarning: The objective has been evaluated at this point before.\n",
      "  warnings.warn(\"The objective has been evaluated \"\n",
      "C:\\Anaconda\\envs\\nlp_course\\lib\\site-packages\\skopt\\optimizer\\optimizer.py:449: UserWarning: The objective has been evaluated at this point before.\n",
      "  warnings.warn(\"The objective has been evaluated \"\n",
      "C:\\Anaconda\\envs\\nlp_course\\lib\\site-packages\\skopt\\optimizer\\optimizer.py:449: UserWarning: The objective has been evaluated at this point before.\n",
      "  warnings.warn(\"The objective has been evaluated \"\n",
      "C:\\Anaconda\\envs\\nlp_course\\lib\\site-packages\\skopt\\optimizer\\optimizer.py:449: UserWarning: The objective has been evaluated at this point before.\n",
      "  warnings.warn(\"The objective has been evaluated \"\n",
      "C:\\Anaconda\\envs\\nlp_course\\lib\\site-packages\\skopt\\optimizer\\optimizer.py:449: UserWarning: The objective has been evaluated at this point before.\n",
      "  warnings.warn(\"The objective has been evaluated \"\n",
      "C:\\Anaconda\\envs\\nlp_course\\lib\\site-packages\\skopt\\optimizer\\optimizer.py:449: UserWarning: The objective has been evaluated at this point before.\n",
      "  warnings.warn(\"The objective has been evaluated \"\n",
      "C:\\Anaconda\\envs\\nlp_course\\lib\\site-packages\\skopt\\optimizer\\optimizer.py:449: UserWarning: The objective has been evaluated at this point before.\n",
      "  warnings.warn(\"The objective has been evaluated \"\n",
      "C:\\Anaconda\\envs\\nlp_course\\lib\\site-packages\\skopt\\optimizer\\optimizer.py:449: UserWarning: The objective has been evaluated at this point before.\n",
      "  warnings.warn(\"The objective has been evaluated \"\n",
      "C:\\Anaconda\\envs\\nlp_course\\lib\\site-packages\\skopt\\optimizer\\optimizer.py:449: UserWarning: The objective has been evaluated at this point before.\n",
      "  warnings.warn(\"The objective has been evaluated \"\n",
      "C:\\Anaconda\\envs\\nlp_course\\lib\\site-packages\\skopt\\optimizer\\optimizer.py:449: UserWarning: The objective has been evaluated at this point before.\n",
      "  warnings.warn(\"The objective has been evaluated \"\n",
      "C:\\Anaconda\\envs\\nlp_course\\lib\\site-packages\\skopt\\optimizer\\optimizer.py:449: UserWarning: The objective has been evaluated at this point before.\n",
      "  warnings.warn(\"The objective has been evaluated \"\n",
      "C:\\Anaconda\\envs\\nlp_course\\lib\\site-packages\\skopt\\optimizer\\optimizer.py:449: UserWarning: The objective has been evaluated at this point before.\n",
      "  warnings.warn(\"The objective has been evaluated \"\n",
      "C:\\Anaconda\\envs\\nlp_course\\lib\\site-packages\\skopt\\optimizer\\optimizer.py:449: UserWarning: The objective has been evaluated at this point before.\n",
      "  warnings.warn(\"The objective has been evaluated \"\n",
      "C:\\Anaconda\\envs\\nlp_course\\lib\\site-packages\\skopt\\optimizer\\optimizer.py:449: UserWarning: The objective has been evaluated at this point before.\n",
      "  warnings.warn(\"The objective has been evaluated \"\n",
      "C:\\Anaconda\\envs\\nlp_course\\lib\\site-packages\\skopt\\optimizer\\optimizer.py:449: UserWarning: The objective has been evaluated at this point before.\n",
      "  warnings.warn(\"The objective has been evaluated \"\n",
      "C:\\Anaconda\\envs\\nlp_course\\lib\\site-packages\\skopt\\optimizer\\optimizer.py:449: UserWarning: The objective has been evaluated at this point before.\n",
      "  warnings.warn(\"The objective has been evaluated \"\n",
      "C:\\Anaconda\\envs\\nlp_course\\lib\\site-packages\\skopt\\optimizer\\optimizer.py:449: UserWarning: The objective has been evaluated at this point before.\n",
      "  warnings.warn(\"The objective has been evaluated \"\n",
      "C:\\Anaconda\\envs\\nlp_course\\lib\\site-packages\\skopt\\optimizer\\optimizer.py:449: UserWarning: The objective has been evaluated at this point before.\n",
      "  warnings.warn(\"The objective has been evaluated \"\n",
      "C:\\Anaconda\\envs\\nlp_course\\lib\\site-packages\\skopt\\optimizer\\optimizer.py:449: UserWarning: The objective has been evaluated at this point before.\n",
      "  warnings.warn(\"The objective has been evaluated \"\n",
      "C:\\Anaconda\\envs\\nlp_course\\lib\\site-packages\\skopt\\optimizer\\optimizer.py:449: UserWarning: The objective has been evaluated at this point before.\n",
      "  warnings.warn(\"The objective has been evaluated \"\n",
      "C:\\Anaconda\\envs\\nlp_course\\lib\\site-packages\\skopt\\optimizer\\optimizer.py:449: UserWarning: The objective has been evaluated at this point before.\n",
      "  warnings.warn(\"The objective has been evaluated \"\n",
      "C:\\Anaconda\\envs\\nlp_course\\lib\\site-packages\\skopt\\optimizer\\optimizer.py:449: UserWarning: The objective has been evaluated at this point before.\n",
      "  warnings.warn(\"The objective has been evaluated \"\n",
      "C:\\Anaconda\\envs\\nlp_course\\lib\\site-packages\\skopt\\optimizer\\optimizer.py:449: UserWarning: The objective has been evaluated at this point before.\n",
      "  warnings.warn(\"The objective has been evaluated \"\n",
      "C:\\Anaconda\\envs\\nlp_course\\lib\\site-packages\\skopt\\optimizer\\optimizer.py:449: UserWarning: The objective has been evaluated at this point before.\n",
      "  warnings.warn(\"The objective has been evaluated \"\n",
      "C:\\Anaconda\\envs\\nlp_course\\lib\\site-packages\\skopt\\optimizer\\optimizer.py:449: UserWarning: The objective has been evaluated at this point before.\n",
      "  warnings.warn(\"The objective has been evaluated \"\n",
      "C:\\Anaconda\\envs\\nlp_course\\lib\\site-packages\\skopt\\optimizer\\optimizer.py:449: UserWarning: The objective has been evaluated at this point before.\n",
      "  warnings.warn(\"The objective has been evaluated \"\n",
      "C:\\Anaconda\\envs\\nlp_course\\lib\\site-packages\\skopt\\optimizer\\optimizer.py:449: UserWarning: The objective has been evaluated at this point before.\n",
      "  warnings.warn(\"The objective has been evaluated \"\n",
      "C:\\Anaconda\\envs\\nlp_course\\lib\\site-packages\\skopt\\optimizer\\optimizer.py:449: UserWarning: The objective has been evaluated at this point before.\n",
      "  warnings.warn(\"The objective has been evaluated \"\n",
      "C:\\Anaconda\\envs\\nlp_course\\lib\\site-packages\\skopt\\optimizer\\optimizer.py:449: UserWarning: The objective has been evaluated at this point before.\n",
      "  warnings.warn(\"The objective has been evaluated \"\n",
      "C:\\Anaconda\\envs\\nlp_course\\lib\\site-packages\\skopt\\optimizer\\optimizer.py:449: UserWarning: The objective has been evaluated at this point before.\n",
      "  warnings.warn(\"The objective has been evaluated \"\n",
      "C:\\Anaconda\\envs\\nlp_course\\lib\\site-packages\\skopt\\optimizer\\optimizer.py:449: UserWarning: The objective has been evaluated at this point before.\n",
      "  warnings.warn(\"The objective has been evaluated \"\n",
      "C:\\Anaconda\\envs\\nlp_course\\lib\\site-packages\\skopt\\optimizer\\optimizer.py:449: UserWarning: The objective has been evaluated at this point before.\n",
      "  warnings.warn(\"The objective has been evaluated \"\n",
      "C:\\Anaconda\\envs\\nlp_course\\lib\\site-packages\\skopt\\optimizer\\optimizer.py:449: UserWarning: The objective has been evaluated at this point before.\n",
      "  warnings.warn(\"The objective has been evaluated \"\n",
      "C:\\Anaconda\\envs\\nlp_course\\lib\\site-packages\\skopt\\optimizer\\optimizer.py:449: UserWarning: The objective has been evaluated at this point before.\n",
      "  warnings.warn(\"The objective has been evaluated \"\n",
      "C:\\Anaconda\\envs\\nlp_course\\lib\\site-packages\\skopt\\optimizer\\optimizer.py:449: UserWarning: The objective has been evaluated at this point before.\n",
      "  warnings.warn(\"The objective has been evaluated \"\n",
      "C:\\Anaconda\\envs\\nlp_course\\lib\\site-packages\\sklearn\\svm\\_base.py:1208: ConvergenceWarning: Liblinear failed to converge, increase the number of iterations.\n",
      "  ConvergenceWarning,\n"
     ]
    },
    {
     "data": {
      "text/plain": [
       "Pipeline(steps=[('BoW', CountVectorizer()),\n",
       "                ('clf',\n",
       "                 BayesSearchCV(cv=RepeatedStratifiedKFold(n_repeats=3, n_splits=10, random_state=1),\n",
       "                               estimator=LinearSVC(), n_jobs=-1,\n",
       "                               scoring='roc_auc',\n",
       "                               search_spaces={'C': [100, 10, 1.0, 0.1,\n",
       "                                                    0.01]}))])"
      ]
     },
     "execution_count": 16,
     "metadata": {},
     "output_type": "execute_result"
    }
   ],
   "source": [
    "lsvc_clf_BoW.fit(X_train,y_train)"
   ]
  },
  {
   "cell_type": "code",
   "execution_count": 17,
   "id": "a93d2285",
   "metadata": {},
   "outputs": [],
   "source": [
    "lsvc_clf_BoW_best=lsvc_clf_BoW.named_steps['clf'].best_score_"
   ]
  },
  {
   "cell_type": "code",
   "execution_count": 18,
   "id": "90a8bb8e",
   "metadata": {},
   "outputs": [
    {
     "data": {
      "text/plain": [
       "0.6585008473739113"
      ]
     },
     "execution_count": 18,
     "metadata": {},
     "output_type": "execute_result"
    }
   ],
   "source": [
    "lsvc_clf_BoW_best"
   ]
  },
  {
   "cell_type": "code",
   "execution_count": 22,
   "id": "7150a1c5",
   "metadata": {},
   "outputs": [],
   "source": [
    "y_des_lsvc_clf_BoW=lsvc_clf_BoW.decision_function(X_test)\n",
    "lsvc_clf_BoW_roc_auc=roc_auc_score(y_test, y_des_lsvc_clf_BoW)"
   ]
  },
  {
   "cell_type": "code",
   "execution_count": 24,
   "id": "703b194b",
   "metadata": {},
   "outputs": [
    {
     "data": {
      "text/plain": [
       "0.6624324158992626"
      ]
     },
     "execution_count": 24,
     "metadata": {},
     "output_type": "execute_result"
    }
   ],
   "source": [
    "lsvc_clf_BoW_roc_auc"
   ]
  },
  {
   "cell_type": "code",
   "execution_count": 49,
   "id": "3c81d57c",
   "metadata": {},
   "outputs": [],
   "source": [
    "model_BoW.append('Linear SVM')\n",
    "Roc_auc_cv_BoW.append(lsvc_clf_BoW_best)\n",
    "Roc_auc_test_BoW.append(lsvc_clf_BoW_roc_auc)"
   ]
  },
  {
   "cell_type": "code",
   "execution_count": 32,
   "id": "05162490",
   "metadata": {},
   "outputs": [],
   "source": [
    "# BoW vs KNN\n",
    "k_range = list(range(1, 31))\n",
    "param= dict(n_neighbors=k_range)\n",
    "cv = RepeatedStratifiedKFold(n_splits=10, n_repeats=3, random_state=1)\n",
    "scoring='roc_auc'\n",
    "\n",
    "knn_clf_BoW = Pipeline([('BoW', CountVectorizer()),\n",
    "                     ('clf', BayesSearchCV(estimator=KNeighborsClassifier(), search_spaces=param, scoring=scoring, n_jobs=-1, cv=cv))])"
   ]
  },
  {
   "cell_type": "code",
   "execution_count": 33,
   "id": "f54db354",
   "metadata": {
    "collapsed": true
   },
   "outputs": [
    {
     "name": "stderr",
     "output_type": "stream",
     "text": [
      "C:\\Anaconda\\envs\\nlp_course\\lib\\site-packages\\skopt\\optimizer\\optimizer.py:449: UserWarning: The objective has been evaluated at this point before.\n",
      "  warnings.warn(\"The objective has been evaluated \"\n",
      "C:\\Anaconda\\envs\\nlp_course\\lib\\site-packages\\skopt\\optimizer\\optimizer.py:449: UserWarning: The objective has been evaluated at this point before.\n",
      "  warnings.warn(\"The objective has been evaluated \"\n",
      "C:\\Anaconda\\envs\\nlp_course\\lib\\site-packages\\skopt\\optimizer\\optimizer.py:449: UserWarning: The objective has been evaluated at this point before.\n",
      "  warnings.warn(\"The objective has been evaluated \"\n",
      "C:\\Anaconda\\envs\\nlp_course\\lib\\site-packages\\skopt\\optimizer\\optimizer.py:449: UserWarning: The objective has been evaluated at this point before.\n",
      "  warnings.warn(\"The objective has been evaluated \"\n",
      "C:\\Anaconda\\envs\\nlp_course\\lib\\site-packages\\skopt\\optimizer\\optimizer.py:449: UserWarning: The objective has been evaluated at this point before.\n",
      "  warnings.warn(\"The objective has been evaluated \"\n",
      "C:\\Anaconda\\envs\\nlp_course\\lib\\site-packages\\skopt\\optimizer\\optimizer.py:449: UserWarning: The objective has been evaluated at this point before.\n",
      "  warnings.warn(\"The objective has been evaluated \"\n",
      "C:\\Anaconda\\envs\\nlp_course\\lib\\site-packages\\skopt\\optimizer\\optimizer.py:449: UserWarning: The objective has been evaluated at this point before.\n",
      "  warnings.warn(\"The objective has been evaluated \"\n",
      "C:\\Anaconda\\envs\\nlp_course\\lib\\site-packages\\skopt\\optimizer\\optimizer.py:449: UserWarning: The objective has been evaluated at this point before.\n",
      "  warnings.warn(\"The objective has been evaluated \"\n",
      "C:\\Anaconda\\envs\\nlp_course\\lib\\site-packages\\skopt\\optimizer\\optimizer.py:449: UserWarning: The objective has been evaluated at this point before.\n",
      "  warnings.warn(\"The objective has been evaluated \"\n",
      "C:\\Anaconda\\envs\\nlp_course\\lib\\site-packages\\skopt\\optimizer\\optimizer.py:449: UserWarning: The objective has been evaluated at this point before.\n",
      "  warnings.warn(\"The objective has been evaluated \"\n",
      "C:\\Anaconda\\envs\\nlp_course\\lib\\site-packages\\skopt\\optimizer\\optimizer.py:449: UserWarning: The objective has been evaluated at this point before.\n",
      "  warnings.warn(\"The objective has been evaluated \"\n",
      "C:\\Anaconda\\envs\\nlp_course\\lib\\site-packages\\skopt\\optimizer\\optimizer.py:449: UserWarning: The objective has been evaluated at this point before.\n",
      "  warnings.warn(\"The objective has been evaluated \"\n",
      "C:\\Anaconda\\envs\\nlp_course\\lib\\site-packages\\skopt\\optimizer\\optimizer.py:449: UserWarning: The objective has been evaluated at this point before.\n",
      "  warnings.warn(\"The objective has been evaluated \"\n",
      "C:\\Anaconda\\envs\\nlp_course\\lib\\site-packages\\skopt\\optimizer\\optimizer.py:449: UserWarning: The objective has been evaluated at this point before.\n",
      "  warnings.warn(\"The objective has been evaluated \"\n",
      "C:\\Anaconda\\envs\\nlp_course\\lib\\site-packages\\skopt\\optimizer\\optimizer.py:449: UserWarning: The objective has been evaluated at this point before.\n",
      "  warnings.warn(\"The objective has been evaluated \"\n",
      "C:\\Anaconda\\envs\\nlp_course\\lib\\site-packages\\skopt\\optimizer\\optimizer.py:449: UserWarning: The objective has been evaluated at this point before.\n",
      "  warnings.warn(\"The objective has been evaluated \"\n",
      "C:\\Anaconda\\envs\\nlp_course\\lib\\site-packages\\skopt\\optimizer\\optimizer.py:449: UserWarning: The objective has been evaluated at this point before.\n",
      "  warnings.warn(\"The objective has been evaluated \"\n",
      "C:\\Anaconda\\envs\\nlp_course\\lib\\site-packages\\skopt\\optimizer\\optimizer.py:449: UserWarning: The objective has been evaluated at this point before.\n",
      "  warnings.warn(\"The objective has been evaluated \"\n",
      "C:\\Anaconda\\envs\\nlp_course\\lib\\site-packages\\skopt\\optimizer\\optimizer.py:449: UserWarning: The objective has been evaluated at this point before.\n",
      "  warnings.warn(\"The objective has been evaluated \"\n"
     ]
    },
    {
     "data": {
      "text/plain": [
       "Pipeline(steps=[('BoW', CountVectorizer()),\n",
       "                ('clf',\n",
       "                 BayesSearchCV(cv=RepeatedStratifiedKFold(n_repeats=3, n_splits=10, random_state=1),\n",
       "                               estimator=KNeighborsClassifier(), n_jobs=-1,\n",
       "                               scoring='roc_auc',\n",
       "                               search_spaces={'n_neighbors': [1, 2, 3, 4, 5, 6,\n",
       "                                                              7, 8, 9, 10, 11,\n",
       "                                                              12, 13, 14, 15,\n",
       "                                                              16, 17, 18, 19,\n",
       "                                                              20, 21, 22, 23,\n",
       "                                                              24, 25, 26, 27,\n",
       "                                                              28, 29, 30]}))])"
      ]
     },
     "execution_count": 33,
     "metadata": {},
     "output_type": "execute_result"
    }
   ],
   "source": [
    "knn_clf_BoW.fit(X_train,y_train)"
   ]
  },
  {
   "cell_type": "code",
   "execution_count": 34,
   "id": "6b69e7c8",
   "metadata": {},
   "outputs": [],
   "source": [
    "knn_clf_BoW_best=knn_clf_BoW.named_steps['clf'].best_score_"
   ]
  },
  {
   "cell_type": "code",
   "execution_count": 35,
   "id": "795d35ba",
   "metadata": {},
   "outputs": [
    {
     "data": {
      "text/plain": [
       "0.6697715586424492"
      ]
     },
     "execution_count": 35,
     "metadata": {},
     "output_type": "execute_result"
    }
   ],
   "source": [
    "knn_clf_BoW_best"
   ]
  },
  {
   "cell_type": "code",
   "execution_count": 36,
   "id": "b90fe86a",
   "metadata": {},
   "outputs": [],
   "source": [
    "y_knn_clf_BoW=knn_clf_BoW.predict_proba(X_test)\n",
    "knn_clf_BoW_roc_auc=roc_auc_score(y_test, y_knn_clf_BoW[:,1])"
   ]
  },
  {
   "cell_type": "code",
   "execution_count": 37,
   "id": "23f24df9",
   "metadata": {},
   "outputs": [
    {
     "data": {
      "text/plain": [
       "0.6651928352618428"
      ]
     },
     "execution_count": 37,
     "metadata": {},
     "output_type": "execute_result"
    }
   ],
   "source": [
    "knn_clf_BoW_roc_auc"
   ]
  },
  {
   "cell_type": "code",
   "execution_count": 50,
   "id": "aabd840b",
   "metadata": {},
   "outputs": [],
   "source": [
    "model_BoW.append('KNN')\n",
    "Roc_auc_cv_BoW.append(knn_clf_BoW_best)\n",
    "Roc_auc_test_BoW.append(knn_clf_BoW_roc_auc)"
   ]
  },
  {
   "cell_type": "code",
   "execution_count": 51,
   "id": "5ed40546",
   "metadata": {},
   "outputs": [
    {
     "data": {
      "text/html": [
       "<div>\n",
       "<style scoped>\n",
       "    .dataframe tbody tr th:only-of-type {\n",
       "        vertical-align: middle;\n",
       "    }\n",
       "\n",
       "    .dataframe tbody tr th {\n",
       "        vertical-align: top;\n",
       "    }\n",
       "\n",
       "    .dataframe thead th {\n",
       "        text-align: right;\n",
       "    }\n",
       "</style>\n",
       "<table border=\"1\" class=\"dataframe\">\n",
       "  <thead>\n",
       "    <tr style=\"text-align: right;\">\n",
       "      <th></th>\n",
       "      <th>model_BoW</th>\n",
       "      <th>Roc_auc_cross_val</th>\n",
       "      <th>Roc_auc_test</th>\n",
       "    </tr>\n",
       "  </thead>\n",
       "  <tbody>\n",
       "    <tr>\n",
       "      <th>0</th>\n",
       "      <td>Decision Tree</td>\n",
       "      <td>0.649028</td>\n",
       "      <td>0.657790</td>\n",
       "    </tr>\n",
       "    <tr>\n",
       "      <th>1</th>\n",
       "      <td>Linear SVM</td>\n",
       "      <td>0.658501</td>\n",
       "      <td>0.662432</td>\n",
       "    </tr>\n",
       "    <tr>\n",
       "      <th>2</th>\n",
       "      <td>KNN</td>\n",
       "      <td>0.669772</td>\n",
       "      <td>0.665193</td>\n",
       "    </tr>\n",
       "    <tr>\n",
       "      <th>3</th>\n",
       "      <td>Naive Bayes</td>\n",
       "      <td>0.677677</td>\n",
       "      <td>0.695024</td>\n",
       "    </tr>\n",
       "    <tr>\n",
       "      <th>4</th>\n",
       "      <td>Logistic Regression</td>\n",
       "      <td>0.693858</td>\n",
       "      <td>0.696961</td>\n",
       "    </tr>\n",
       "  </tbody>\n",
       "</table>\n",
       "</div>"
      ],
      "text/plain": [
       "             model_BoW  Roc_auc_cross_val  Roc_auc_test\n",
       "0        Decision Tree           0.649028      0.657790\n",
       "1           Linear SVM           0.658501      0.662432\n",
       "2                  KNN           0.669772      0.665193\n",
       "3          Naive Bayes           0.677677      0.695024\n",
       "4  Logistic Regression           0.693858      0.696961"
      ]
     },
     "execution_count": 51,
     "metadata": {},
     "output_type": "execute_result"
    }
   ],
   "source": [
    "result_BoW=pd.DataFrame({'model_BoW': model_BoW, 'Roc_auc_cross_val': Roc_auc_cv_BoW,'Roc_auc_test':Roc_auc_test_BoW})\n",
    "result_BoW=result_BoW.sort_values('Roc_auc_test')\n",
    "result_BoW.reset_index(drop = True)"
   ]
  }
 ],
 "metadata": {
  "kernelspec": {
   "display_name": "Python 3 (ipykernel)",
   "language": "python",
   "name": "python3"
  },
  "language_info": {
   "codemirror_mode": {
    "name": "ipython",
    "version": 3
   },
   "file_extension": ".py",
   "mimetype": "text/x-python",
   "name": "python",
   "nbconvert_exporter": "python",
   "pygments_lexer": "ipython3",
   "version": "3.7.12"
  }
 },
 "nbformat": 4,
 "nbformat_minor": 5
}
